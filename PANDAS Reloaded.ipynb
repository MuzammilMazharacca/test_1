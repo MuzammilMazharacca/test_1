{
 "cells": [
  {
   "cell_type": "code",
   "execution_count": 114,
   "id": "c20319da",
   "metadata": {},
   "outputs": [
    {
     "data": {
      "text/html": [
       "<div>\n",
       "<style scoped>\n",
       "    .dataframe tbody tr th:only-of-type {\n",
       "        vertical-align: middle;\n",
       "    }\n",
       "\n",
       "    .dataframe tbody tr th {\n",
       "        vertical-align: top;\n",
       "    }\n",
       "\n",
       "    .dataframe thead th {\n",
       "        text-align: right;\n",
       "    }\n",
       "</style>\n",
       "<table border=\"1\" class=\"dataframe\">\n",
       "  <thead>\n",
       "    <tr style=\"text-align: right;\">\n",
       "      <th></th>\n",
       "      <th>Title</th>\n",
       "      <th>Artist</th>\n",
       "      <th>Nationality</th>\n",
       "      <th>BeginDate</th>\n",
       "      <th>EndDate</th>\n",
       "      <th>Gender</th>\n",
       "      <th>Date</th>\n",
       "      <th>Department</th>\n",
       "    </tr>\n",
       "  </thead>\n",
       "  <tbody>\n",
       "    <tr>\n",
       "      <th>0</th>\n",
       "      <td>Dress MacLeod from Tartan Sets</td>\n",
       "      <td>Sarah Charlesworth</td>\n",
       "      <td>(American)</td>\n",
       "      <td>(1947)</td>\n",
       "      <td>(2013)</td>\n",
       "      <td>(Female)</td>\n",
       "      <td>1986</td>\n",
       "      <td>Prints &amp; Illustrated Books</td>\n",
       "    </tr>\n",
       "    <tr>\n",
       "      <th>1</th>\n",
       "      <td>Duplicate of plate from folio 11 verso (supple...</td>\n",
       "      <td>Pablo Palazuelo</td>\n",
       "      <td>(Spanish)</td>\n",
       "      <td>(1916)</td>\n",
       "      <td>(2007)</td>\n",
       "      <td>(Male)</td>\n",
       "      <td>1978</td>\n",
       "      <td>Prints &amp; Illustrated Books</td>\n",
       "    </tr>\n",
       "    <tr>\n",
       "      <th>2</th>\n",
       "      <td>Tailpiece (page 55) from SAGESSE</td>\n",
       "      <td>Maurice Denis</td>\n",
       "      <td>(French)</td>\n",
       "      <td>(1870)</td>\n",
       "      <td>(1943)</td>\n",
       "      <td>(Male)</td>\n",
       "      <td>1889-1911</td>\n",
       "      <td>Prints &amp; Illustrated Books</td>\n",
       "    </tr>\n",
       "    <tr>\n",
       "      <th>3</th>\n",
       "      <td>Headpiece (page 129) from LIVRET DE FOLASTRIES...</td>\n",
       "      <td>Aristide Maillol</td>\n",
       "      <td>(French)</td>\n",
       "      <td>(1861)</td>\n",
       "      <td>(1944)</td>\n",
       "      <td>(Male)</td>\n",
       "      <td>1927-1940</td>\n",
       "      <td>Prints &amp; Illustrated Books</td>\n",
       "    </tr>\n",
       "    <tr>\n",
       "      <th>4</th>\n",
       "      <td>97 rue du Bac</td>\n",
       "      <td>Eugène Atget</td>\n",
       "      <td>(French)</td>\n",
       "      <td>(1857)</td>\n",
       "      <td>(1927)</td>\n",
       "      <td>(Male)</td>\n",
       "      <td>1903</td>\n",
       "      <td>Photography</td>\n",
       "    </tr>\n",
       "    <tr>\n",
       "      <th>...</th>\n",
       "      <td>...</td>\n",
       "      <td>...</td>\n",
       "      <td>...</td>\n",
       "      <td>...</td>\n",
       "      <td>...</td>\n",
       "      <td>...</td>\n",
       "      <td>...</td>\n",
       "      <td>...</td>\n",
       "    </tr>\n",
       "    <tr>\n",
       "      <th>16720</th>\n",
       "      <td>Oval with Points</td>\n",
       "      <td>Henry Moore</td>\n",
       "      <td>(British)</td>\n",
       "      <td>(1898)</td>\n",
       "      <td>(1986)</td>\n",
       "      <td>(Male)</td>\n",
       "      <td>1968-1969</td>\n",
       "      <td>Painting &amp; Sculpture</td>\n",
       "    </tr>\n",
       "    <tr>\n",
       "      <th>16721</th>\n",
       "      <td>Cementerio de la Ciudad Abierta, Ritoque, Chile</td>\n",
       "      <td>Juan Baixas</td>\n",
       "      <td>(Chilean)</td>\n",
       "      <td>(1942)</td>\n",
       "      <td>NaN</td>\n",
       "      <td>(Male)</td>\n",
       "      <td>1975</td>\n",
       "      <td>Architecture &amp; Design</td>\n",
       "    </tr>\n",
       "    <tr>\n",
       "      <th>16722</th>\n",
       "      <td>The Catboat</td>\n",
       "      <td>Edward Hopper</td>\n",
       "      <td>(American)</td>\n",
       "      <td>(1882)</td>\n",
       "      <td>(1967)</td>\n",
       "      <td>(Male)</td>\n",
       "      <td>1922</td>\n",
       "      <td>Prints &amp; Illustrated Books</td>\n",
       "    </tr>\n",
       "    <tr>\n",
       "      <th>16723</th>\n",
       "      <td>Dognat' i peregnat' v tekhniko-ekonomicheskom ...</td>\n",
       "      <td>Unknown</td>\n",
       "      <td>()</td>\n",
       "      <td>NaN</td>\n",
       "      <td>NaN</td>\n",
       "      <td>()</td>\n",
       "      <td>1931</td>\n",
       "      <td>Prints &amp; Illustrated Books</td>\n",
       "    </tr>\n",
       "    <tr>\n",
       "      <th>16724</th>\n",
       "      <td>Plate (page 11) from The Dive</td>\n",
       "      <td>Alex Katz</td>\n",
       "      <td>(American)</td>\n",
       "      <td>(1927)</td>\n",
       "      <td>NaN</td>\n",
       "      <td>(Male)</td>\n",
       "      <td>2011</td>\n",
       "      <td>Prints &amp; Illustrated Books</td>\n",
       "    </tr>\n",
       "  </tbody>\n",
       "</table>\n",
       "<p>16725 rows × 8 columns</p>\n",
       "</div>"
      ],
      "text/plain": [
       "                                                   Title              Artist  \\\n",
       "0                         Dress MacLeod from Tartan Sets  Sarah Charlesworth   \n",
       "1      Duplicate of plate from folio 11 verso (supple...     Pablo Palazuelo   \n",
       "2                       Tailpiece (page 55) from SAGESSE       Maurice Denis   \n",
       "3      Headpiece (page 129) from LIVRET DE FOLASTRIES...    Aristide Maillol   \n",
       "4                                          97 rue du Bac        Eugène Atget   \n",
       "...                                                  ...                 ...   \n",
       "16720                                   Oval with Points         Henry Moore   \n",
       "16721    Cementerio de la Ciudad Abierta, Ritoque, Chile         Juan Baixas   \n",
       "16722                                        The Catboat       Edward Hopper   \n",
       "16723  Dognat' i peregnat' v tekhniko-ekonomicheskom ...             Unknown   \n",
       "16724                      Plate (page 11) from The Dive           Alex Katz   \n",
       "\n",
       "      Nationality BeginDate EndDate    Gender       Date  \\\n",
       "0      (American)    (1947)  (2013)  (Female)       1986   \n",
       "1       (Spanish)    (1916)  (2007)    (Male)       1978   \n",
       "2        (French)    (1870)  (1943)    (Male)  1889-1911   \n",
       "3        (French)    (1861)  (1944)    (Male)  1927-1940   \n",
       "4        (French)    (1857)  (1927)    (Male)       1903   \n",
       "...           ...       ...     ...       ...        ...   \n",
       "16720   (British)    (1898)  (1986)    (Male)  1968-1969   \n",
       "16721   (Chilean)    (1942)     NaN    (Male)       1975   \n",
       "16722  (American)    (1882)  (1967)    (Male)       1922   \n",
       "16723          ()       NaN     NaN        ()       1931   \n",
       "16724  (American)    (1927)     NaN    (Male)       2011   \n",
       "\n",
       "                       Department  \n",
       "0      Prints & Illustrated Books  \n",
       "1      Prints & Illustrated Books  \n",
       "2      Prints & Illustrated Books  \n",
       "3      Prints & Illustrated Books  \n",
       "4                     Photography  \n",
       "...                           ...  \n",
       "16720        Painting & Sculpture  \n",
       "16721       Architecture & Design  \n",
       "16722  Prints & Illustrated Books  \n",
       "16723  Prints & Illustrated Books  \n",
       "16724  Prints & Illustrated Books  \n",
       "\n",
       "[16725 rows x 8 columns]"
      ]
     },
     "execution_count": 114,
     "metadata": {},
     "output_type": "execute_result"
    }
   ],
   "source": [
    "import pandas as pd\n",
    "file = pd.read_csv('modern_arts.csv')\n",
    "file"
   ]
  },
  {
   "cell_type": "code",
   "execution_count": 115,
   "id": "fe5a46ba",
   "metadata": {},
   "outputs": [],
   "source": [
    "import csv\n",
    "head_py, dat_py = list(csv.reader(open('modern_arts.csv', encoding = 'UTF - 8')))[0], list(csv.reader(open('modern_arts.csv', encoding = 'UTF - 8')))[1:] "
   ]
  },
  {
   "cell_type": "code",
   "execution_count": 116,
   "id": "a950e069",
   "metadata": {},
   "outputs": [
    {
     "name": "stdout",
     "output_type": "stream",
     "text": [
      "['Title', 'Artist', 'Nationality', 'BeginDate', 'EndDate', 'Gender', 'Date', 'Department']\n",
      "\n",
      "['Dress MacLeod from Tartan Sets', 'Sarah Charlesworth', '(American)', '(1947)', '(2013)', '(Female)', '1986', 'Prints & Illustrated Books']\n"
     ]
    }
   ],
   "source": [
    "print(head_py)\n",
    "print()\n",
    "print(dat_py[0])"
   ]
  },
  {
   "cell_type": "code",
   "execution_count": 117,
   "id": "eb6869c3",
   "metadata": {},
   "outputs": [
    {
     "data": {
      "text/plain": [
       "'(Mu(zam)mil)'"
      ]
     },
     "execution_count": 117,
     "metadata": {},
     "output_type": "execute_result"
    }
   ],
   "source": [
    "name = '(Mu(zam)mil)'\n",
    "name"
   ]
  },
  {
   "cell_type": "code",
   "execution_count": 118,
   "id": "f0896026",
   "metadata": {},
   "outputs": [
    {
     "data": {
      "text/plain": [
       "'Muzammil'"
      ]
     },
     "execution_count": 118,
     "metadata": {},
     "output_type": "execute_result"
    }
   ],
   "source": [
    "name.strip('(').strip(')').replace('(','').replace(')','')"
   ]
  },
  {
   "cell_type": "code",
   "execution_count": 119,
   "id": "d77d6de8",
   "metadata": {},
   "outputs": [
    {
     "ename": "NameError",
     "evalue": "name 'continueb' is not defined",
     "output_type": "error",
     "traceback": [
      "\u001b[1;31m---------------------------------------------------------------------------\u001b[0m",
      "\u001b[1;31mNameError\u001b[0m                                 Traceback (most recent call last)",
      "Cell \u001b[1;32mIn[119], line 3\u001b[0m\n\u001b[0;32m      1\u001b[0m \u001b[38;5;28;01mfor\u001b[39;00m i \u001b[38;5;129;01min\u001b[39;00m name:\n\u001b[0;32m      2\u001b[0m     \u001b[38;5;28;01mif\u001b[39;00m i \u001b[38;5;241m==\u001b[39m \u001b[38;5;124m\"\u001b[39m\u001b[38;5;124m(\u001b[39m\u001b[38;5;124m\"\u001b[39m \u001b[38;5;129;01mor\u001b[39;00m i \u001b[38;5;241m==\u001b[39m \u001b[38;5;124m\"\u001b[39m\u001b[38;5;124m)\u001b[39m\u001b[38;5;124m\"\u001b[39m:\n\u001b[1;32m----> 3\u001b[0m         continueb\n\u001b[0;32m      4\u001b[0m     \u001b[38;5;28;01melse\u001b[39;00m:    \n\u001b[0;32m      5\u001b[0m         \u001b[38;5;28mprint\u001b[39m(i)\n",
      "\u001b[1;31mNameError\u001b[0m: name 'continueb' is not defined"
     ]
    }
   ],
   "source": [
    "for i in name:\n",
    "    if i == \"(\" or i == \")\":\n",
    "        continueb\n",
    "    else:    \n",
    "        print(i)"
   ]
  },
  {
   "cell_type": "code",
   "execution_count": null,
   "id": "98e16ce4",
   "metadata": {},
   "outputs": [],
   "source": [
    "print('Nationality index is', head_py.index('Nationality'))\n",
    "print('Gender index is', (head_py.index('Gender')) - (len(head_py)))\n",
    "\n"
   ]
  },
  {
   "cell_type": "code",
   "execution_count": null,
   "id": "a68c622d",
   "metadata": {},
   "outputs": [],
   "source": [
    "print(head_py[2], ' ', head_py[-3])\n",
    "for i in dat_py:\n",
    "    i[2] = i[2].replace('(','').replace(')','')\n",
    "    i[-3] = i[-3].replace('(','').replace(')','')\n",
    "for t in range(0,10):\n",
    "    print(dat_py[t][2],' ',dat_py[t][-3])"
   ]
  },
  {
   "cell_type": "code",
   "execution_count": null,
   "id": "af76903f",
   "metadata": {},
   "outputs": [],
   "source": [
    "file['Nationality'] = file['Nationality'].str.strip('(').str.strip(')')\n",
    "file['Gender'] = file['Gender'].str.strip('(').str.strip(')')\n",
    "file"
   ]
  },
  {
   "cell_type": "code",
   "execution_count": null,
   "id": "3ee53db9",
   "metadata": {},
   "outputs": [],
   "source": [
    "count = 0\n",
    "for i in dat_py:\n",
    "    count += 1\n",
    "    if i[2] == '':\n",
    "        i[2] = 'Nationality unknown'\n",
    "        print(count)\n",
    "    else:\n",
    "        False\n",
    "\n",
    "       "
   ]
  },
  {
   "cell_type": "code",
   "execution_count": null,
   "id": "663f15bd",
   "metadata": {},
   "outputs": [],
   "source": [
    "dat_pay[-5:]"
   ]
  },
  {
   "cell_type": "code",
   "execution_count": null,
   "id": "541d973c",
   "metadata": {},
   "outputs": [],
   "source": [
    "import csv\n",
    "h_py, d_py = list(csv.reader(open('modern_arts.csv', encoding = 'Latin - 1')))[0], list(csv.reader(open('modern_arts.csv', encoding = 'Latin - 1')))[1:]\n",
    "print(h_py)\n",
    "print()\n",
    "print(d_py[0:2])"
   ]
  },
  {
   "cell_type": "code",
   "execution_count": null,
   "id": "0e31d9bd",
   "metadata": {},
   "outputs": [],
   "source": [
    "blank_row = []\n",
    "count = -1\n",
    "for i in d_py:\n",
    "    count += 1\n",
    "    if i[-3] == '()':\n",
    "        print(count)\n",
    "        blank_row.append(count)\n",
    "    else:\n",
    "        pass\n",
    "len(blank_row)    \n",
    "        \n",
    "        "
   ]
  },
  {
   "cell_type": "code",
   "execution_count": null,
   "id": "6c956473",
   "metadata": {},
   "outputs": [],
   "source": [
    "file[file['Gender'] == '()']['Gender']"
   ]
  },
  {
   "cell_type": "code",
   "execution_count": null,
   "id": "a1b0ac84",
   "metadata": {},
   "outputs": [],
   "source": [
    "for i in d_py:\n",
    "    i[2] = i[2].strip('(').strip(')')\n",
    "    i[-3] = i[-3].strip('(').strip(')')\n",
    "print(h_py[2],' ',h_py[-3])   \n",
    "for i in range(0,10):\n",
    "    print(d_py[i][2],' ',d_py[i][-3])    "
   ]
  },
  {
   "cell_type": "code",
   "execution_count": null,
   "id": "06a34f5b",
   "metadata": {},
   "outputs": [],
   "source": [
    "blank_nat = []\n",
    "count_n = -1\n",
    "for i in d_py:\n",
    "    count_n += 1\n",
    "    if i[2] == '':\n",
    "        blank_nat.append(count_n)\n",
    "    else:\n",
    "        pass\n",
    "    \n",
    "blank_gen = []\n",
    "count_g = -1\n",
    "for i in d_py:\n",
    "    count_g += 1\n",
    "    if i[-3] == '':\n",
    "        blank_gen.append(count_g)\n",
    "    else:\n",
    "        pass    "
   ]
  },
  {
   "cell_type": "code",
   "execution_count": null,
   "id": "5177014f",
   "metadata": {},
   "outputs": [],
   "source": [
    "for i in range(0,10):\n",
    "    print(blank_nat[i],' ',blank_gen[i])"
   ]
  },
  {
   "cell_type": "code",
   "execution_count": null,
   "id": "4f55b9ba",
   "metadata": {},
   "outputs": [],
   "source": [
    "for i in d_py:\n",
    "    if i[2] == '':\n",
    "        i[2] = 'Nationality Unknown'\n",
    "    if i[-3] == '':\n",
    "        i[-3] = 'Gender Unknown'\n",
    "\n",
    "for i in blank_nat[0:5]:\n",
    "    print(d_py[i][2])\n",
    "    print()\n",
    "    \n",
    "for i in blank_gen[0:5]:\n",
    "    print(d_py[i][-3])\n",
    "    print()\n",
    "                \n",
    "        "
   ]
  },
  {
   "cell_type": "code",
   "execution_count": null,
   "id": "426cd73a",
   "metadata": {},
   "outputs": [],
   "source": [
    "Nat_TF = file['Nationality'] == '()'"
   ]
  },
  {
   "cell_type": "code",
   "execution_count": null,
   "id": "4c906b06",
   "metadata": {},
   "outputs": [],
   "source": [
    "file[Nat_TF]"
   ]
  },
  {
   "cell_type": "code",
   "execution_count": null,
   "id": "45ba15d1",
   "metadata": {},
   "outputs": [],
   "source": [
    "file['Nationality'] = file['Nationality'].str.strip('(').str.strip(')')\n",
    "file['Gender'] = file['Gender'].str.strip('(').str.strip(')')\n",
    "file"
   ]
  },
  {
   "cell_type": "code",
   "execution_count": null,
   "id": "7fed2fc5",
   "metadata": {},
   "outputs": [],
   "source": [
    "boolean = file['Nationality']==''"
   ]
  },
  {
   "cell_type": "code",
   "execution_count": null,
   "id": "3e0714e1",
   "metadata": {},
   "outputs": [],
   "source": [
    "file.loc[boolean, 'Nationality'] = 'Nationality Unknown'"
   ]
  },
  {
   "cell_type": "code",
   "execution_count": null,
   "id": "c63ae828",
   "metadata": {},
   "outputs": [],
   "source": [
    "file[file['Nationality'] == 'Nationality Unknown']"
   ]
  },
  {
   "cell_type": "code",
   "execution_count": null,
   "id": "3c0fe3e0",
   "metadata": {},
   "outputs": [],
   "source": [
    "boolean_gen = file['Gender'] == ''"
   ]
  },
  {
   "cell_type": "code",
   "execution_count": null,
   "id": "61406294",
   "metadata": {},
   "outputs": [],
   "source": [
    "file.loc[boolean_gen,'Gender'] = 'Gender Unknown'"
   ]
  },
  {
   "cell_type": "code",
   "execution_count": null,
   "id": "0a44f05e",
   "metadata": {},
   "outputs": [],
   "source": [
    "file[file['Gender']=='Gender Unknown']"
   ]
  },
  {
   "cell_type": "code",
   "execution_count": null,
   "id": "18c7d38d",
   "metadata": {},
   "outputs": [],
   "source": [
    "for i in range(0,10):\n",
    "    print(file.loc[i,'Gendber'])\n"
   ]
  },
  {
   "cell_type": "code",
   "execution_count": null,
   "id": "c3e62bb3",
   "metadata": {},
   "outputs": [],
   "source": [
    "file"
   ]
  },
  {
   "cell_type": "code",
   "execution_count": null,
   "id": "cc11b9c4",
   "metadata": {},
   "outputs": [],
   "source": [
    "file.isnull().sum()"
   ]
  },
  {
   "cell_type": "code",
   "execution_count": null,
   "id": "19aeff3a",
   "metadata": {},
   "outputs": [],
   "source": [
    "file.notnull().sum()"
   ]
  },
  {
   "cell_type": "code",
   "execution_count": null,
   "id": "85a5b52d",
   "metadata": {},
   "outputs": [],
   "source": [
    "file"
   ]
  },
  {
   "cell_type": "code",
   "execution_count": null,
   "id": "d5936287",
   "metadata": {},
   "outputs": [],
   "source": [
    "Boolean_nat = file['Nationality'] == 'Nationality Unknown'"
   ]
  },
  {
   "cell_type": "code",
   "execution_count": null,
   "id": "bcf72294",
   "metadata": {},
   "outputs": [],
   "source": [
    "file.loc[Boolean_nat, 'Nationality'] = ''"
   ]
  },
  {
   "cell_type": "code",
   "execution_count": null,
   "id": "de3d4403",
   "metadata": {},
   "outputs": [],
   "source": [
    "bool_new_nat = file['Nationality'] == ''"
   ]
  },
  {
   "cell_type": "code",
   "execution_count": null,
   "id": "7e757906",
   "metadata": {},
   "outputs": [],
   "source": [
    "file.loc[bool_new_nat,'Nationality'] = 'Nationality Unknown'"
   ]
  },
  {
   "cell_type": "code",
   "execution_count": null,
   "id": "736e600e",
   "metadata": {},
   "outputs": [],
   "source": [
    "file"
   ]
  },
  {
   "cell_type": "code",
   "execution_count": null,
   "id": "7b240d8a",
   "metadata": {},
   "outputs": [],
   "source": [
    "file.loc[file['Gender'] == '','Gender'] = 'Gender Unknown'"
   ]
  },
  {
   "cell_type": "code",
   "execution_count": null,
   "id": "86fa7fce",
   "metadata": {},
   "outputs": [],
   "source": [
    "file"
   ]
  },
  {
   "cell_type": "code",
   "execution_count": null,
   "id": "0064cea7",
   "metadata": {},
   "outputs": [],
   "source": [
    "bool_art=file['Artist'] == ''"
   ]
  },
  {
   "cell_type": "code",
   "execution_count": null,
   "id": "71af8eca",
   "metadata": {},
   "outputs": [],
   "source": [
    "file[bool_art]"
   ]
  },
  {
   "cell_type": "code",
   "execution_count": null,
   "id": "5ff5bf24",
   "metadata": {},
   "outputs": [],
   "source": [
    "file.loc[file['Title']=='', 'Title'] = 'Title Unknown'"
   ]
  },
  {
   "cell_type": "code",
   "execution_count": null,
   "id": "7abcda34",
   "metadata": {},
   "outputs": [],
   "source": [
    "file['Title'][13314].isnull()"
   ]
  },
  {
   "cell_type": "code",
   "execution_count": null,
   "id": "1f6992a9",
   "metadata": {},
   "outputs": [],
   "source": [
    "file.iloc[13314,0]"
   ]
  },
  {
   "cell_type": "code",
   "execution_count": null,
   "id": "7463d926",
   "metadata": {
    "scrolled": true
   },
   "outputs": [],
   "source": [
    "count = -1\n",
    "for i in d_py:\n",
    "    count += 1\n",
    "    if i[0] == '':\n",
    "        print(count)\n",
    "    else:\n",
    "        pass\n",
    "print(d_py[13314])    "
   ]
  },
  {
   "cell_type": "code",
   "execution_count": 133,
   "id": "e606afa1",
   "metadata": {},
   "outputs": [
    {
     "data": {
      "text/plain": [
       "Title          Dress MacLeod from Tartan Sets\n",
       "Artist                     Sarah Charlesworth\n",
       "Nationality                        (American)\n",
       "BeginDate                              (1947)\n",
       "EndDate                                (2013)\n",
       "Gender                               (Female)\n",
       "Date                                     1986\n",
       "Department         Prints & Illustrated Books\n",
       "Name: 0, dtype: object"
      ]
     },
     "execution_count": 133,
     "metadata": {},
     "output_type": "execute_result"
    }
   ],
   "source": [
    "file.loc[0]"
   ]
  },
  {
   "cell_type": "code",
   "execution_count": 134,
   "id": "1142d932",
   "metadata": {},
   "outputs": [],
   "source": [
    "f = file.copy()"
   ]
  },
  {
   "cell_type": "code",
   "execution_count": 137,
   "id": "4d76c38c",
   "metadata": {},
   "outputs": [],
   "source": [
    "f = f.set_index('Nationality')"
   ]
  },
  {
   "cell_type": "code",
   "execution_count": 150,
   "id": "e06690a8",
   "metadata": {},
   "outputs": [
    {
     "data": {
      "text/html": [
       "<div>\n",
       "<style scoped>\n",
       "    .dataframe tbody tr th:only-of-type {\n",
       "        vertical-align: middle;\n",
       "    }\n",
       "\n",
       "    .dataframe tbody tr th {\n",
       "        vertical-align: top;\n",
       "    }\n",
       "\n",
       "    .dataframe thead th {\n",
       "        text-align: right;\n",
       "    }\n",
       "</style>\n",
       "<table border=\"1\" class=\"dataframe\">\n",
       "  <thead>\n",
       "    <tr style=\"text-align: right;\">\n",
       "      <th></th>\n",
       "      <th>Title</th>\n",
       "      <th>Artist</th>\n",
       "      <th>BeginDate</th>\n",
       "      <th>EndDate</th>\n",
       "      <th>Gender</th>\n",
       "      <th>Date</th>\n",
       "      <th>Department</th>\n",
       "    </tr>\n",
       "    <tr>\n",
       "      <th>Nationality</th>\n",
       "      <th></th>\n",
       "      <th></th>\n",
       "      <th></th>\n",
       "      <th></th>\n",
       "      <th></th>\n",
       "      <th></th>\n",
       "      <th></th>\n",
       "    </tr>\n",
       "  </thead>\n",
       "  <tbody>\n",
       "    <tr>\n",
       "      <th>(American)</th>\n",
       "      <td>Dress MacLeod from Tartan Sets</td>\n",
       "      <td>Sarah Charlesworth</td>\n",
       "      <td>(1947)</td>\n",
       "      <td>(2013)</td>\n",
       "      <td>(Female)</td>\n",
       "      <td>1986</td>\n",
       "      <td>Prints &amp; Illustrated Books</td>\n",
       "    </tr>\n",
       "  </tbody>\n",
       "</table>\n",
       "</div>"
      ],
      "text/plain": [
       "                                      Title              Artist BeginDate  \\\n",
       "Nationality                                                                 \n",
       "(American)   Dress MacLeod from Tartan Sets  Sarah Charlesworth    (1947)   \n",
       "\n",
       "            EndDate    Gender  Date                  Department  \n",
       "Nationality                                                      \n",
       "(American)   (2013)  (Female)  1986  Prints & Illustrated Books  "
      ]
     },
     "execution_count": 150,
     "metadata": {},
     "output_type": "execute_result"
    }
   ],
   "source": [
    "f[f['Artist']=='Sarah Charlesworth']"
   ]
  },
  {
   "cell_type": "code",
   "execution_count": 156,
   "id": "b3185e0b",
   "metadata": {},
   "outputs": [
    {
     "data": {
      "text/plain": [
       "0    (2013)\n",
       "1    (2007)\n",
       "2    (1943)\n",
       "3    (1944)\n",
       "4    (1927)\n",
       "Name: EndDate, dtype: object"
      ]
     },
     "execution_count": 156,
     "metadata": {},
     "output_type": "execute_result"
    }
   ],
   "source": [
    "file.iloc[0:5,4]"
   ]
  },
  {
   "cell_type": "code",
   "execution_count": 149,
   "id": "70f68627",
   "metadata": {},
   "outputs": [
    {
     "data": {
      "text/plain": [
       "Nationality\n",
       "(American)           Sarah Charlesworth\n",
       "(American)             Antonio Frasconi\n",
       "(American)              Garry Winogrand\n",
       "(American)                     Jim Dine\n",
       "(American)    Franklin Chenault Watkins\n",
       "                        ...            \n",
       "(American)     Ludwig Mies van der Rohe\n",
       "(American)              Edward Steichen\n",
       "(American)       Matthew Rackham Barnes\n",
       "(American)                Edward Hopper\n",
       "(American)                    Alex Katz\n",
       "Name: Artist, Length: 7444, dtype: object"
      ]
     },
     "execution_count": 149,
     "metadata": {},
     "output_type": "execute_result"
    }
   ],
   "source": [
    "f.loc['(American)','Artist']"
   ]
  },
  {
   "cell_type": "code",
   "execution_count": 146,
   "id": "1f77642e",
   "metadata": {},
   "outputs": [
    {
     "data": {
      "text/html": [
       "<div>\n",
       "<style scoped>\n",
       "    .dataframe tbody tr th:only-of-type {\n",
       "        vertical-align: middle;\n",
       "    }\n",
       "\n",
       "    .dataframe tbody tr th {\n",
       "        vertical-align: top;\n",
       "    }\n",
       "\n",
       "    .dataframe thead th {\n",
       "        text-align: right;\n",
       "    }\n",
       "</style>\n",
       "<table border=\"1\" class=\"dataframe\">\n",
       "  <thead>\n",
       "    <tr style=\"text-align: right;\">\n",
       "      <th></th>\n",
       "      <th>Title</th>\n",
       "      <th>Artist</th>\n",
       "      <th>BeginDate</th>\n",
       "      <th>EndDate</th>\n",
       "      <th>Gender</th>\n",
       "      <th>Date</th>\n",
       "      <th>Department</th>\n",
       "    </tr>\n",
       "    <tr>\n",
       "      <th>Nationality</th>\n",
       "      <th></th>\n",
       "      <th></th>\n",
       "      <th></th>\n",
       "      <th></th>\n",
       "      <th></th>\n",
       "      <th></th>\n",
       "      <th></th>\n",
       "    </tr>\n",
       "  </thead>\n",
       "  <tbody>\n",
       "    <tr>\n",
       "      <th>(American)</th>\n",
       "      <td>Dress MacLeod from Tartan Sets</td>\n",
       "      <td>Sarah Charlesworth</td>\n",
       "      <td>(1947)</td>\n",
       "      <td>(2013)</td>\n",
       "      <td>(Female)</td>\n",
       "      <td>1986</td>\n",
       "      <td>Prints &amp; Illustrated Books</td>\n",
       "    </tr>\n",
       "    <tr>\n",
       "      <th>(Spanish)</th>\n",
       "      <td>Duplicate of plate from folio 11 verso (supple...</td>\n",
       "      <td>Pablo Palazuelo</td>\n",
       "      <td>(1916)</td>\n",
       "      <td>(2007)</td>\n",
       "      <td>(Male)</td>\n",
       "      <td>1978</td>\n",
       "      <td>Prints &amp; Illustrated Books</td>\n",
       "    </tr>\n",
       "    <tr>\n",
       "      <th>(French)</th>\n",
       "      <td>Tailpiece (page 55) from SAGESSE</td>\n",
       "      <td>Maurice Denis</td>\n",
       "      <td>(1870)</td>\n",
       "      <td>(1943)</td>\n",
       "      <td>(Male)</td>\n",
       "      <td>1889-1911</td>\n",
       "      <td>Prints &amp; Illustrated Books</td>\n",
       "    </tr>\n",
       "    <tr>\n",
       "      <th>(French)</th>\n",
       "      <td>Headpiece (page 129) from LIVRET DE FOLASTRIES...</td>\n",
       "      <td>Aristide Maillol</td>\n",
       "      <td>(1861)</td>\n",
       "      <td>(1944)</td>\n",
       "      <td>(Male)</td>\n",
       "      <td>1927-1940</td>\n",
       "      <td>Prints &amp; Illustrated Books</td>\n",
       "    </tr>\n",
       "    <tr>\n",
       "      <th>(French)</th>\n",
       "      <td>97 rue du Bac</td>\n",
       "      <td>Eugène Atget</td>\n",
       "      <td>(1857)</td>\n",
       "      <td>(1927)</td>\n",
       "      <td>(Male)</td>\n",
       "      <td>1903</td>\n",
       "      <td>Photography</td>\n",
       "    </tr>\n",
       "    <tr>\n",
       "      <th>...</th>\n",
       "      <td>...</td>\n",
       "      <td>...</td>\n",
       "      <td>...</td>\n",
       "      <td>...</td>\n",
       "      <td>...</td>\n",
       "      <td>...</td>\n",
       "      <td>...</td>\n",
       "    </tr>\n",
       "    <tr>\n",
       "      <th>(British)</th>\n",
       "      <td>Oval with Points</td>\n",
       "      <td>Henry Moore</td>\n",
       "      <td>(1898)</td>\n",
       "      <td>(1986)</td>\n",
       "      <td>(Male)</td>\n",
       "      <td>1968-1969</td>\n",
       "      <td>Painting &amp; Sculpture</td>\n",
       "    </tr>\n",
       "    <tr>\n",
       "      <th>(Chilean)</th>\n",
       "      <td>Cementerio de la Ciudad Abierta, Ritoque, Chile</td>\n",
       "      <td>Juan Baixas</td>\n",
       "      <td>(1942)</td>\n",
       "      <td>NaN</td>\n",
       "      <td>(Male)</td>\n",
       "      <td>1975</td>\n",
       "      <td>Architecture &amp; Design</td>\n",
       "    </tr>\n",
       "    <tr>\n",
       "      <th>(American)</th>\n",
       "      <td>The Catboat</td>\n",
       "      <td>Edward Hopper</td>\n",
       "      <td>(1882)</td>\n",
       "      <td>(1967)</td>\n",
       "      <td>(Male)</td>\n",
       "      <td>1922</td>\n",
       "      <td>Prints &amp; Illustrated Books</td>\n",
       "    </tr>\n",
       "    <tr>\n",
       "      <th>()</th>\n",
       "      <td>Dognat' i peregnat' v tekhniko-ekonomicheskom ...</td>\n",
       "      <td>Unknown</td>\n",
       "      <td>NaN</td>\n",
       "      <td>NaN</td>\n",
       "      <td>()</td>\n",
       "      <td>1931</td>\n",
       "      <td>Prints &amp; Illustrated Books</td>\n",
       "    </tr>\n",
       "    <tr>\n",
       "      <th>(American)</th>\n",
       "      <td>Plate (page 11) from The Dive</td>\n",
       "      <td>Alex Katz</td>\n",
       "      <td>(1927)</td>\n",
       "      <td>NaN</td>\n",
       "      <td>(Male)</td>\n",
       "      <td>2011</td>\n",
       "      <td>Prints &amp; Illustrated Books</td>\n",
       "    </tr>\n",
       "  </tbody>\n",
       "</table>\n",
       "<p>16725 rows × 7 columns</p>\n",
       "</div>"
      ],
      "text/plain": [
       "                                                         Title  \\\n",
       "Nationality                                                      \n",
       "(American)                      Dress MacLeod from Tartan Sets   \n",
       "(Spanish)    Duplicate of plate from folio 11 verso (supple...   \n",
       "(French)                      Tailpiece (page 55) from SAGESSE   \n",
       "(French)     Headpiece (page 129) from LIVRET DE FOLASTRIES...   \n",
       "(French)                                         97 rue du Bac   \n",
       "...                                                        ...   \n",
       "(British)                                     Oval with Points   \n",
       "(Chilean)      Cementerio de la Ciudad Abierta, Ritoque, Chile   \n",
       "(American)                                         The Catboat   \n",
       "()           Dognat' i peregnat' v tekhniko-ekonomicheskom ...   \n",
       "(American)                       Plate (page 11) from The Dive   \n",
       "\n",
       "                         Artist BeginDate EndDate    Gender       Date  \\\n",
       "Nationality                                                              \n",
       "(American)   Sarah Charlesworth    (1947)  (2013)  (Female)       1986   \n",
       "(Spanish)       Pablo Palazuelo    (1916)  (2007)    (Male)       1978   \n",
       "(French)          Maurice Denis    (1870)  (1943)    (Male)  1889-1911   \n",
       "(French)       Aristide Maillol    (1861)  (1944)    (Male)  1927-1940   \n",
       "(French)           Eugène Atget    (1857)  (1927)    (Male)       1903   \n",
       "...                         ...       ...     ...       ...        ...   \n",
       "(British)           Henry Moore    (1898)  (1986)    (Male)  1968-1969   \n",
       "(Chilean)           Juan Baixas    (1942)     NaN    (Male)       1975   \n",
       "(American)        Edward Hopper    (1882)  (1967)    (Male)       1922   \n",
       "()                      Unknown       NaN     NaN        ()       1931   \n",
       "(American)            Alex Katz    (1927)     NaN    (Male)       2011   \n",
       "\n",
       "                             Department  \n",
       "Nationality                              \n",
       "(American)   Prints & Illustrated Books  \n",
       "(Spanish)    Prints & Illustrated Books  \n",
       "(French)     Prints & Illustrated Books  \n",
       "(French)     Prints & Illustrated Books  \n",
       "(French)                    Photography  \n",
       "...                                 ...  \n",
       "(British)          Painting & Sculpture  \n",
       "(Chilean)         Architecture & Design  \n",
       "(American)   Prints & Illustrated Books  \n",
       "()           Prints & Illustrated Books  \n",
       "(American)   Prints & Illustrated Books  \n",
       "\n",
       "[16725 rows x 7 columns]"
      ]
     },
     "execution_count": 146,
     "metadata": {},
     "output_type": "execute_result"
    }
   ],
   "source": [
    "f"
   ]
  }
 ],
 "metadata": {
  "kernelspec": {
   "display_name": "Python 3 (ipykernel)",
   "language": "python",
   "name": "python3"
  },
  "language_info": {
   "codemirror_mode": {
    "name": "ipython",
    "version": 3
   },
   "file_extension": ".py",
   "mimetype": "text/x-python",
   "name": "python",
   "nbconvert_exporter": "python",
   "pygments_lexer": "ipython3",
   "version": "3.11.5"
  }
 },
 "nbformat": 4,
 "nbformat_minor": 5
}
