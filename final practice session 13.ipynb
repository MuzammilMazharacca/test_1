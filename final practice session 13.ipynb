{
 "cells": [
  {
   "cell_type": "code",
   "execution_count": 4,
   "id": "68bb99d4",
   "metadata": {},
   "outputs": [],
   "source": [
    "import csv\n",
    "f = open('whitehouse_visitors.csv')\n",
    "f.close()"
   ]
  },
  {
   "cell_type": "code",
   "execution_count": 11,
   "id": "8707bc80",
   "metadata": {},
   "outputs": [
    {
     "name": "stdout",
     "output_type": "stream",
     "text": [
      "['name', 'appt_made_date', 'appt_start_date', 'appt_end_date', 'visitee_namelast', 'visitee_namefirst', 'meeting_room', 'description']\n",
      "['Joshua T. Blanton', '2014-12-18T00:00:00', '1/6/15 9:30', '1/6/15 23:59', '', 'potus', 'west wing', 'JointService Military Honor Guard']\n",
      "['Jack T. Gutting', '2014-12-18T00:00:00', '1/6/15 9:30', '1/6/15 23:59', '', 'potus', 'west wing', 'JointService Military Honor Guard']\n",
      "['Bradley T. Guiles', '2014-12-18T00:00:00', '1/6/15 9:30', '1/6/15 23:59', '', 'potus', 'west wing', 'JointService Military Honor Guard']\n",
      "['Loryn F. Grieb', '2014-12-18T00:00:00', '1/6/15 9:30', '1/6/15 23:59', '', 'potus', 'west wing', 'JointService Military Honor Guard']\n",
      "['Travis D. Gordon', '2014-12-18T00:00:00', '1/6/15 9:30', '1/6/15 23:59', '', 'potus', 'west wing', 'JointService Military Honor Guard']\n"
     ]
    }
   ],
   "source": [
    "with open('whitehouse_visitors.csv') as file:\n",
    "    potus = list(csv.reader(file))\n",
    "    head = potus[0]\n",
    "    data = potus[1:]\n",
    "    \n",
    "print(head)\n",
    "for i in data[0:5]:\n",
    "    print(i)\n"
   ]
  },
  {
   "cell_type": "code",
   "execution_count": 16,
   "id": "7440a71d",
   "metadata": {},
   "outputs": [
    {
     "name": "stdout",
     "output_type": "stream",
     "text": [
      "<class 'pandas.core.frame.DataFrame'>\n",
      "RangeIndex: 47954 entries, 0 to 47953\n",
      "Data columns (total 8 columns):\n",
      " #   Column             Non-Null Count  Dtype \n",
      "---  ------             --------------  ----- \n",
      " 0   name               47954 non-null  object\n",
      " 1   appt_made_date     47954 non-null  object\n",
      " 2   appt_start_date    47954 non-null  object\n",
      " 3   appt_end_date      47954 non-null  object\n",
      " 4   visitee_namelast   6069 non-null   object\n",
      " 5   visitee_namefirst  47953 non-null  object\n",
      " 6   meeting_room       47954 non-null  object\n",
      " 7   description        8053 non-null   object\n",
      "dtypes: object(8)\n",
      "memory usage: 2.9+ MB\n"
     ]
    }
   ],
   "source": [
    "import pandas as pd\n",
    "potus_df = pd.read_csv('whitehouse_visitors.csv')\n",
    "potus_df.loc[0:10]\n",
    "potus_df.info()"
   ]
  },
  {
   "cell_type": "code",
   "execution_count": 40,
   "id": "b21c5eb2",
   "metadata": {},
   "outputs": [],
   "source": [
    "import datetime as dt"
   ]
  },
  {
   "cell_type": "code",
   "execution_count": 26,
   "id": "612a5e19",
   "metadata": {},
   "outputs": [
    {
     "data": {
      "text/plain": [
       "59"
      ]
     },
     "execution_count": 26,
     "metadata": {},
     "output_type": "execute_result"
    }
   ],
   "source": [
    "dt.datetime(2016,1,6,23,59).minute"
   ]
  },
  {
   "cell_type": "code",
   "execution_count": 30,
   "id": "358e3b8a",
   "metadata": {},
   "outputs": [
    {
     "data": {
      "text/plain": [
       "'15'"
      ]
     },
     "execution_count": 30,
     "metadata": {},
     "output_type": "execute_result"
    }
   ],
   "source": [
    "'1/6/15 23:59'[4:6]"
   ]
  },
  {
   "cell_type": "code",
   "execution_count": 31,
   "id": "8a6b4024",
   "metadata": {},
   "outputs": [
    {
     "data": {
      "text/plain": [
       "'2015'"
      ]
     },
     "execution_count": 31,
     "metadata": {},
     "output_type": "execute_result"
    }
   ],
   "source": [
    "'20'+'1/6/15 23:59'[4:6]"
   ]
  },
  {
   "cell_type": "code",
   "execution_count": 77,
   "id": "044cb83e",
   "metadata": {},
   "outputs": [],
   "source": [
    "ind_d = dt.datetime(1947,8,14,20,30)"
   ]
  },
  {
   "cell_type": "code",
   "execution_count": 47,
   "id": "d88c69f3",
   "metadata": {},
   "outputs": [
    {
     "data": {
      "text/plain": [
       "'Thu'"
      ]
     },
     "execution_count": 47,
     "metadata": {},
     "output_type": "execute_result"
    }
   ],
   "source": [
    "ind_d.strftime(\"%a\")"
   ]
  },
  {
   "cell_type": "code",
   "execution_count": 48,
   "id": "00f586eb",
   "metadata": {},
   "outputs": [
    {
     "data": {
      "text/plain": [
       "'Aug'"
      ]
     },
     "execution_count": 48,
     "metadata": {},
     "output_type": "execute_result"
    }
   ],
   "source": [
    "ind_d.strftime(\"%b\")"
   ]
  },
  {
   "cell_type": "code",
   "execution_count": 49,
   "id": "65197351",
   "metadata": {},
   "outputs": [
    {
     "data": {
      "text/html": [
       "<div>\n",
       "<style scoped>\n",
       "    .dataframe tbody tr th:only-of-type {\n",
       "        vertical-align: middle;\n",
       "    }\n",
       "\n",
       "    .dataframe tbody tr th {\n",
       "        vertical-align: top;\n",
       "    }\n",
       "\n",
       "    .dataframe thead th {\n",
       "        text-align: right;\n",
       "    }\n",
       "</style>\n",
       "<table border=\"1\" class=\"dataframe\">\n",
       "  <thead>\n",
       "    <tr style=\"text-align: right;\">\n",
       "      <th></th>\n",
       "      <th>name</th>\n",
       "      <th>appt_made_date</th>\n",
       "      <th>appt_start_date</th>\n",
       "      <th>appt_end_date</th>\n",
       "      <th>visitee_namelast</th>\n",
       "      <th>visitee_namefirst</th>\n",
       "      <th>meeting_room</th>\n",
       "      <th>description</th>\n",
       "    </tr>\n",
       "  </thead>\n",
       "  <tbody>\n",
       "    <tr>\n",
       "      <th>0</th>\n",
       "      <td>Joshua T. Blanton</td>\n",
       "      <td>2014-12-18T00:00:00</td>\n",
       "      <td>1/6/15 9:30</td>\n",
       "      <td>1/6/15 23:59</td>\n",
       "      <td>NaN</td>\n",
       "      <td>potus</td>\n",
       "      <td>west wing</td>\n",
       "      <td>JointService Military Honor Guard</td>\n",
       "    </tr>\n",
       "    <tr>\n",
       "      <th>1</th>\n",
       "      <td>Jack T. Gutting</td>\n",
       "      <td>2014-12-18T00:00:00</td>\n",
       "      <td>1/6/15 9:30</td>\n",
       "      <td>1/6/15 23:59</td>\n",
       "      <td>NaN</td>\n",
       "      <td>potus</td>\n",
       "      <td>west wing</td>\n",
       "      <td>JointService Military Honor Guard</td>\n",
       "    </tr>\n",
       "    <tr>\n",
       "      <th>2</th>\n",
       "      <td>Bradley T. Guiles</td>\n",
       "      <td>2014-12-18T00:00:00</td>\n",
       "      <td>1/6/15 9:30</td>\n",
       "      <td>1/6/15 23:59</td>\n",
       "      <td>NaN</td>\n",
       "      <td>potus</td>\n",
       "      <td>west wing</td>\n",
       "      <td>JointService Military Honor Guard</td>\n",
       "    </tr>\n",
       "    <tr>\n",
       "      <th>3</th>\n",
       "      <td>Loryn F. Grieb</td>\n",
       "      <td>2014-12-18T00:00:00</td>\n",
       "      <td>1/6/15 9:30</td>\n",
       "      <td>1/6/15 23:59</td>\n",
       "      <td>NaN</td>\n",
       "      <td>potus</td>\n",
       "      <td>west wing</td>\n",
       "      <td>JointService Military Honor Guard</td>\n",
       "    </tr>\n",
       "    <tr>\n",
       "      <th>4</th>\n",
       "      <td>Travis D. Gordon</td>\n",
       "      <td>2014-12-18T00:00:00</td>\n",
       "      <td>1/6/15 9:30</td>\n",
       "      <td>1/6/15 23:59</td>\n",
       "      <td>NaN</td>\n",
       "      <td>potus</td>\n",
       "      <td>west wing</td>\n",
       "      <td>JointService Military Honor Guard</td>\n",
       "    </tr>\n",
       "    <tr>\n",
       "      <th>...</th>\n",
       "      <td>...</td>\n",
       "      <td>...</td>\n",
       "      <td>...</td>\n",
       "      <td>...</td>\n",
       "      <td>...</td>\n",
       "      <td>...</td>\n",
       "      <td>...</td>\n",
       "      <td>...</td>\n",
       "    </tr>\n",
       "    <tr>\n",
       "      <th>47949</th>\n",
       "      <td>William B. Henline</td>\n",
       "      <td>2015-12-16T00:00:00</td>\n",
       "      <td>12/18/15 16:30</td>\n",
       "      <td>12/18/15 23:59</td>\n",
       "      <td>NaN</td>\n",
       "      <td>POTUS/FLOTUS</td>\n",
       "      <td>State Floo</td>\n",
       "      <td>NaN</td>\n",
       "    </tr>\n",
       "    <tr>\n",
       "      <th>47950</th>\n",
       "      <td>Ian T. Burris</td>\n",
       "      <td>2015-12-16T00:00:00</td>\n",
       "      <td>12/18/15 16:30</td>\n",
       "      <td>12/18/15 23:59</td>\n",
       "      <td>NaN</td>\n",
       "      <td>POTUS/FLOTUS</td>\n",
       "      <td>State Floo</td>\n",
       "      <td>NaN</td>\n",
       "    </tr>\n",
       "    <tr>\n",
       "      <th>47951</th>\n",
       "      <td>James F. Albaugh</td>\n",
       "      <td>2015-12-16T00:00:00</td>\n",
       "      <td>12/18/15 16:30</td>\n",
       "      <td>12/18/15 23:59</td>\n",
       "      <td>NaN</td>\n",
       "      <td>POTUS/FLOTUS</td>\n",
       "      <td>State Floo</td>\n",
       "      <td>NaN</td>\n",
       "    </tr>\n",
       "    <tr>\n",
       "      <th>47952</th>\n",
       "      <td>Jackie L. Finken</td>\n",
       "      <td>2015-12-16T00:00:00</td>\n",
       "      <td>12/18/15 16:30</td>\n",
       "      <td>12/18/15 23:59</td>\n",
       "      <td>NaN</td>\n",
       "      <td>POTUS/FLOTUS</td>\n",
       "      <td>State Floo</td>\n",
       "      <td>NaN</td>\n",
       "    </tr>\n",
       "    <tr>\n",
       "      <th>47953</th>\n",
       "      <td>Grace M. Bauman</td>\n",
       "      <td>2015-12-16T00:00:00</td>\n",
       "      <td>12/18/15 16:30</td>\n",
       "      <td>12/18/15 23:59</td>\n",
       "      <td>NaN</td>\n",
       "      <td>POTUS/FLOTUS</td>\n",
       "      <td>State Floo</td>\n",
       "      <td>NaN</td>\n",
       "    </tr>\n",
       "  </tbody>\n",
       "</table>\n",
       "<p>47954 rows × 8 columns</p>\n",
       "</div>"
      ],
      "text/plain": [
       "                     name       appt_made_date  ... meeting_room                        description\n",
       "0       Joshua T. Blanton  2014-12-18T00:00:00  ...    west wing  JointService Military Honor Guard\n",
       "1         Jack T. Gutting  2014-12-18T00:00:00  ...    west wing  JointService Military Honor Guard\n",
       "2       Bradley T. Guiles  2014-12-18T00:00:00  ...    west wing  JointService Military Honor Guard\n",
       "3          Loryn F. Grieb  2014-12-18T00:00:00  ...    west wing  JointService Military Honor Guard\n",
       "4        Travis D. Gordon  2014-12-18T00:00:00  ...    west wing  JointService Military Honor Guard\n",
       "...                   ...                  ...  ...          ...                                ...\n",
       "47949  William B. Henline  2015-12-16T00:00:00  ...   State Floo                                NaN\n",
       "47950       Ian T. Burris  2015-12-16T00:00:00  ...   State Floo                                NaN\n",
       "47951    James F. Albaugh  2015-12-16T00:00:00  ...   State Floo                                NaN\n",
       "47952    Jackie L. Finken  2015-12-16T00:00:00  ...   State Floo                                NaN\n",
       "47953     Grace M. Bauman  2015-12-16T00:00:00  ...   State Floo                                NaN\n",
       "\n",
       "[47954 rows x 8 columns]"
      ]
     },
     "execution_count": 49,
     "metadata": {},
     "output_type": "execute_result"
    }
   ],
   "source": [
    "potus_df"
   ]
  },
  {
   "cell_type": "code",
   "execution_count": null,
   "id": "f1bf4b16",
   "metadata": {},
   "outputs": [],
   "source": [
    "# day in number => \"%d\"\n",
    "# day in word => \"%A\" or \"%a\"\n",
    "# month in number => \"%m\"\n",
    "# month in word => \"%B\" or \"%b\"\n",
    "# year in number => \"%y\"\n",
    "# year in word => \"%B\" or \"%b\""
   ]
  },
  {
   "cell_type": "code",
   "execution_count": 85,
   "id": "c496d0d4",
   "metadata": {},
   "outputs": [
    {
     "name": "stdout",
     "output_type": "stream",
     "text": [
      "14\n",
      "Thursday\n",
      "Thu\n",
      "08\n",
      "August\n",
      "Aug\n",
      "47\n",
      "1947\n",
      "20\n",
      "08\n",
      "30\n"
     ]
    }
   ],
   "source": [
    "print(ind_d.strftime(\"%d\")) # for day in number\n",
    "print(ind_d.strftime(\"%A\")) # for day in words full\n",
    "print(ind_d.strftime(\"%a\")) # for day in short words\n",
    "print(ind_d.strftime(\"%m\")) \n",
    "print(ind_d.strftime(\"%B\"))\n",
    "print(ind_d.strftime(\"%b\"))\n",
    "print(ind_d.strftime(\"%y\"))\n",
    "print(ind_d.strftime(\"%Y\"))\n",
    "print(ind_d.strftime(\"%H\")) # for 24 hour format\n",
    "print(ind_d.strftime(\"%I\")) # for 12 hour format\n",
    "# for am or pm => \"%p\"\n",
    "print(ind_d.strftime(\"%M\")) # for minutes"
   ]
  },
  {
   "cell_type": "code",
   "execution_count": 87,
   "id": "d3b467fb",
   "metadata": {},
   "outputs": [
    {
     "data": {
      "text/plain": [
       "'Thu'"
      ]
     },
     "execution_count": 87,
     "metadata": {},
     "output_type": "execute_result"
    }
   ],
   "source": [
    " ind_d.strftime(\"%a\")"
   ]
  },
  {
   "cell_type": "code",
   "execution_count": 91,
   "id": "7587304b",
   "metadata": {},
   "outputs": [],
   "source": [
    "date = '12/18/15 16:30'\n",
    "date_format = \"%m/%d/%y %H:%M\""
   ]
  },
  {
   "cell_type": "code",
   "execution_count": 92,
   "id": "4c540ac7",
   "metadata": {},
   "outputs": [
    {
     "data": {
      "text/plain": [
       "datetime.datetime(2015, 12, 18, 16, 30)"
      ]
     },
     "execution_count": 92,
     "metadata": {},
     "output_type": "execute_result"
    }
   ],
   "source": [
    "dt.datetime.strptime(date, date_format)"
   ]
  },
  {
   "cell_type": "code",
   "execution_count": 93,
   "id": "b5bc10f4",
   "metadata": {},
   "outputs": [],
   "source": [
    "for i in data:\n",
    "    i[2] = dt.datetime.strptime(i[2], date_format)"
   ]
  },
  {
   "cell_type": "code",
   "execution_count": 99,
   "id": "42726313",
   "metadata": {},
   "outputs": [],
   "source": [
    "for i in data:\n",
    "    i[3] = dt.datetime.strptime(i[3], date_format)"
   ]
  },
  {
   "cell_type": "code",
   "execution_count": 102,
   "id": "6845868d",
   "metadata": {},
   "outputs": [
    {
     "name": "stdout",
     "output_type": "stream",
     "text": [
      "2015-01-06 09:30:00   2015-01-06 23:59:00\n",
      "2015-01-06 09:30:00   2015-01-06 23:59:00\n",
      "2015-01-06 09:30:00   2015-01-06 23:59:00\n",
      "2015-01-06 09:30:00   2015-01-06 23:59:00\n",
      "2015-01-06 09:30:00   2015-01-06 23:59:00\n"
     ]
    }
   ],
   "source": [
    "for i in data[0:5]:\n",
    "    print(i[2],\" \",i[3])"
   ]
  },
  {
   "cell_type": "code",
   "execution_count": 107,
   "id": "e7792589",
   "metadata": {},
   "outputs": [
    {
     "data": {
      "text/plain": [
       "{2015}"
      ]
     },
     "execution_count": 107,
     "metadata": {},
     "output_type": "execute_result"
    }
   ],
   "source": [
    "year = []\n",
    "\n",
    "for i in  data:\n",
    "    year.append(i[2].year)\n",
    "    \n",
    "set(year)    "
   ]
  },
  {
   "cell_type": "code",
   "execution_count": 124,
   "id": "b823c2ee",
   "metadata": {},
   "outputs": [
    {
     "data": {
      "text/plain": [
       "'05'"
      ]
     },
     "execution_count": 124,
     "metadata": {},
     "output_type": "execute_result"
    }
   ],
   "source": [
    "dt.datetime(2015,4,6,12,5)"
   ]
  },
  {
   "cell_type": "code",
   "execution_count": 125,
   "id": "8a41808e",
   "metadata": {},
   "outputs": [
    {
     "data": {
      "text/plain": [
       "47954"
      ]
     },
     "execution_count": 125,
     "metadata": {},
     "output_type": "execute_result"
    }
   ],
   "source": [
    "len(data)"
   ]
  },
  {
   "cell_type": "code",
   "execution_count": 135,
   "id": "42020294",
   "metadata": {},
   "outputs": [
    {
     "data": {
      "text/plain": [
       "{'Jan-15': 1248,\n",
       " 'Feb-15': 2165,\n",
       " 'Mar-15': 2262,\n",
       " 'Apr-15': 4996,\n",
       " 'May-15': 3013,\n",
       " 'Jun-15': 7743,\n",
       " 'Jul-15': 2930,\n",
       " 'Aug-15': 1350,\n",
       " 'Sep-15': 4416,\n",
       " 'Oct-15': 3669,\n",
       " 'Nov-15': 1133,\n",
       " 'Dec-15': 13029}"
      ]
     },
     "execution_count": 135,
     "metadata": {},
     "output_type": "execute_result"
    }
   ],
   "source": [
    "freq_table_month = {}\n",
    "\n",
    "for i in data:\n",
    "    if i[2].strftime(\"%b-%y\") not in freq_table_month:\n",
    "        freq_table_month[i[2].strftime(\"%b-%y\")] = 1\n",
    "    else:\n",
    "        freq_table_month[i[2].strftime(\"%b-%y\")] += 1\n",
    "freq_table_month        "
   ]
  },
  {
   "cell_type": "code",
   "execution_count": 146,
   "id": "acf569cc",
   "metadata": {},
   "outputs": [],
   "source": [
    "time = \"8:30 am\"\n",
    "form = \"%I:%M %p\"\n"
   ]
  },
  {
   "cell_type": "code",
   "execution_count": 152,
   "id": "553f58a2",
   "metadata": {},
   "outputs": [
    {
     "data": {
      "text/plain": [
       "{datetime.time(9, 30): 1213,\n",
       " datetime.time(10, 0): 1543,\n",
       " datetime.time(10, 30): 696,\n",
       " datetime.time(11, 0): 783,\n",
       " datetime.time(11, 30): 357,\n",
       " datetime.time(12, 30): 1115,\n",
       " datetime.time(9, 0): 511,\n",
       " datetime.time(19, 0): 301,\n",
       " datetime.time(10, 55): 2,\n",
       " datetime.time(12, 0): 1041,\n",
       " datetime.time(13, 0): 1548,\n",
       " datetime.time(13, 30): 5897,\n",
       " datetime.time(14, 0): 996,\n",
       " datetime.time(14, 30): 921,\n",
       " datetime.time(18, 0): 8173,\n",
       " datetime.time(15, 30): 2855,\n",
       " datetime.time(16, 0): 2027,\n",
       " datetime.time(15, 0): 862,\n",
       " datetime.time(10, 20): 12,\n",
       " datetime.time(17, 15): 103,\n",
       " datetime.time(11, 45): 39,\n",
       " datetime.time(12, 5): 6,\n",
       " datetime.time(14, 15): 119,\n",
       " datetime.time(14, 55): 13,\n",
       " datetime.time(12, 15): 32,\n",
       " datetime.time(17, 0): 930,\n",
       " datetime.time(17, 20): 16,\n",
       " datetime.time(17, 30): 457,\n",
       " datetime.time(8, 30): 395,\n",
       " datetime.time(16, 30): 1144,\n",
       " datetime.time(7, 0): 1768,\n",
       " datetime.time(7, 30): 818,\n",
       " datetime.time(8, 0): 460,\n",
       " datetime.time(15, 45): 23,\n",
       " datetime.time(17, 45): 38,\n",
       " datetime.time(18, 30): 985,\n",
       " datetime.time(19, 15): 17,\n",
       " datetime.time(19, 30): 99,\n",
       " datetime.time(20, 0): 185,\n",
       " datetime.time(20, 30): 22,\n",
       " datetime.time(16, 15): 69,\n",
       " datetime.time(15, 20): 36,\n",
       " datetime.time(14, 10): 9,\n",
       " datetime.time(14, 45): 1434,\n",
       " datetime.time(12, 55): 1,\n",
       " datetime.time(13, 9): 1,\n",
       " datetime.time(13, 20): 36,\n",
       " datetime.time(16, 55): 5,\n",
       " datetime.time(10, 45): 347,\n",
       " datetime.time(11, 50): 4,\n",
       " datetime.time(13, 15): 272,\n",
       " datetime.time(17, 25): 24,\n",
       " datetime.time(9, 15): 6,\n",
       " datetime.time(21, 30): 9,\n",
       " datetime.time(17, 5): 6,\n",
       " datetime.time(11, 15): 3,\n",
       " datetime.time(18, 15): 390,\n",
       " datetime.time(7, 15): 40,\n",
       " datetime.time(8, 45): 249,\n",
       " datetime.time(15, 15): 3732,\n",
       " datetime.time(18, 20): 4,\n",
       " datetime.time(18, 22): 1,\n",
       " datetime.time(18, 23): 1,\n",
       " datetime.time(18, 33): 1,\n",
       " datetime.time(18, 42): 1,\n",
       " datetime.time(9, 45): 220,\n",
       " datetime.time(11, 20): 7,\n",
       " datetime.time(16, 45): 224,\n",
       " datetime.time(12, 45): 921,\n",
       " datetime.time(15, 5): 18,\n",
       " datetime.time(15, 8): 1,\n",
       " datetime.time(12, 11): 1,\n",
       " datetime.time(12, 22): 1,\n",
       " datetime.time(12, 24): 1,\n",
       " datetime.time(12, 27): 1,\n",
       " datetime.time(13, 48): 1,\n",
       " datetime.time(13, 52): 1,\n",
       " datetime.time(13, 55): 1,\n",
       " datetime.time(14, 3): 1,\n",
       " datetime.time(14, 9): 1,\n",
       " datetime.time(16, 20): 1,\n",
       " datetime.time(6, 0): 256,\n",
       " datetime.time(7, 35): 1,\n",
       " datetime.time(7, 59): 1,\n",
       " datetime.time(8, 6): 1,\n",
       " datetime.time(8, 22): 1,\n",
       " datetime.time(8, 35): 1,\n",
       " datetime.time(19, 3): 1,\n",
       " datetime.time(15, 23): 1,\n",
       " datetime.time(15, 55): 10,\n",
       " datetime.time(14, 50): 8,\n",
       " datetime.time(13, 35): 4,\n",
       " datetime.time(15, 25): 11,\n",
       " datetime.time(13, 50): 167,\n",
       " datetime.time(13, 45): 344,\n",
       " datetime.time(14, 12): 3,\n",
       " datetime.time(12, 50): 2,\n",
       " datetime.time(12, 56): 1,\n",
       " datetime.time(12, 59): 2,\n",
       " datetime.time(13, 5): 1,\n",
       " datetime.time(13, 18): 1,\n",
       " datetime.time(13, 25): 2,\n",
       " datetime.time(13, 40): 1,\n",
       " datetime.time(13, 47): 1,\n",
       " datetime.time(10, 10): 2,\n",
       " datetime.time(10, 15): 65,\n",
       " datetime.time(10, 25): 13,\n",
       " datetime.time(12, 32): 2,\n",
       " datetime.time(12, 40): 2,\n",
       " datetime.time(12, 46): 2,\n",
       " datetime.time(13, 10): 1,\n",
       " datetime.time(16, 40): 12,\n",
       " datetime.time(21, 0): 11,\n",
       " datetime.time(17, 40): 4,\n",
       " datetime.time(17, 50): 4,\n",
       " datetime.time(17, 55): 1,\n",
       " datetime.time(17, 57): 1,\n",
       " datetime.time(17, 59): 2,\n",
       " datetime.time(18, 5): 1,\n",
       " datetime.time(18, 45): 27,\n",
       " datetime.time(12, 20): 4,\n",
       " datetime.time(16, 10): 176,\n",
       " datetime.time(15, 28): 2,\n",
       " datetime.time(15, 35): 2,\n",
       " datetime.time(15, 52): 1,\n",
       " datetime.time(15, 54): 3,\n",
       " datetime.time(15, 58): 1,\n",
       " datetime.time(16, 6): 1,\n",
       " datetime.time(16, 22): 1,\n",
       " datetime.time(16, 35): 11,\n",
       " datetime.time(11, 25): 1,\n",
       " datetime.time(18, 50): 11,\n",
       " datetime.time(19, 45): 4,\n",
       " datetime.time(20, 15): 1,\n",
       " datetime.time(9, 35): 1,\n",
       " datetime.time(16, 25): 8,\n",
       " datetime.time(14, 59): 1,\n",
       " datetime.time(15, 4): 1,\n",
       " datetime.time(15, 7): 2,\n",
       " datetime.time(15, 10): 5,\n",
       " datetime.time(15, 16): 2,\n",
       " datetime.time(15, 19): 2,\n",
       " datetime.time(15, 27): 3,\n",
       " datetime.time(15, 40): 3,\n",
       " datetime.time(15, 49): 3,\n",
       " datetime.time(15, 53): 1,\n",
       " datetime.time(14, 20): 6,\n",
       " datetime.time(17, 35): 17,\n",
       " datetime.time(14, 49): 1,\n",
       " datetime.time(16, 50): 3,\n",
       " datetime.time(11, 42): 2,\n",
       " datetime.time(17, 10): 7,\n",
       " datetime.time(14, 7): 1,\n",
       " datetime.time(6, 30): 32,\n",
       " datetime.time(18, 40): 6,\n",
       " datetime.time(18, 52): 1,\n",
       " datetime.time(15, 17): 1,\n",
       " datetime.time(19, 20): 1,\n",
       " datetime.time(15, 50): 4,\n",
       " datetime.time(14, 18): 1,\n",
       " datetime.time(15, 1): 16,\n",
       " datetime.time(16, 46): 1,\n",
       " datetime.time(14, 25): 2,\n",
       " datetime.time(18, 4): 1,\n",
       " datetime.time(18, 13): 1,\n",
       " datetime.time(18, 25): 1,\n",
       " datetime.time(18, 28): 1,\n",
       " datetime.time(18, 35): 2,\n",
       " datetime.time(18, 55): 1,\n",
       " datetime.time(18, 57): 2,\n",
       " datetime.time(14, 40): 6,\n",
       " datetime.time(18, 7): 1,\n",
       " datetime.time(18, 26): 1,\n",
       " datetime.time(18, 27): 1,\n",
       " datetime.time(19, 5): 2,\n",
       " datetime.time(19, 10): 4,\n",
       " datetime.time(19, 50): 1,\n",
       " datetime.time(20, 10): 1}"
      ]
     },
     "execution_count": 152,
     "metadata": {},
     "output_type": "execute_result"
    }
   ],
   "source": [
    "time_list = {}\n",
    "\n",
    "for i in data:\n",
    "    if i[2].time() not in time_list:\n",
    "        time_list[i[2].time()] = 1\n",
    "    else:\n",
    "        time_list[i[2].time()] += 1\n",
    "\n",
    "time_list        \n",
    "    "
   ]
  },
  {
   "cell_type": "code",
   "execution_count": 155,
   "id": "93ca6863",
   "metadata": {},
   "outputs": [
    {
     "name": "stdout",
     "output_type": "stream",
     "text": [
      "06:00:00\n",
      "21:30:00\n"
     ]
    }
   ],
   "source": [
    "print(min(time_list.keys()))\n",
    "print(max(time_list.keys()))"
   ]
  },
  {
   "cell_type": "code",
   "execution_count": 172,
   "id": "bc10b9bb",
   "metadata": {},
   "outputs": [
    {
     "data": {
      "text/plain": [
       "datetime.timedelta(days=21210, seconds=50520)"
      ]
     },
     "execution_count": 172,
     "metadata": {},
     "output_type": "execute_result"
    }
   ],
   "source": [
    "duration = []\n",
    "for i in data:\n",
    "    duration.append(i[3]-i[2])\n",
    "\n",
    "dt.datetime.now()+min(duration)\n",
    "\n",
    "sum(duration,dt.timedelta(0))\n",
    "    "
   ]
  }
 ],
 "metadata": {
  "kernelspec": {
   "display_name": "Python 3 (ipykernel)",
   "language": "python",
   "name": "python3"
  },
  "language_info": {
   "codemirror_mode": {
    "name": "ipython",
    "version": 3
   },
   "file_extension": ".py",
   "mimetype": "text/x-python",
   "name": "python",
   "nbconvert_exporter": "python",
   "pygments_lexer": "ipython3",
   "version": "3.11.5"
  }
 },
 "nbformat": 4,
 "nbformat_minor": 5
}
