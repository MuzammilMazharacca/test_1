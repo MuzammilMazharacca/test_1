{
 "cells": [
  {
   "cell_type": "code",
   "execution_count": 69,
   "id": "ffdaa810",
   "metadata": {},
   "outputs": [],
   "source": [
    "import csv\n",
    "\n",
    "header, data = list(csv.reader(open('Store.csv', encoding = 'UTF - 8')))[0] , list(csv.reader(open('Store.csv', encoding = 'UTF - 8')))[1:]"
   ]
  },
  {
   "cell_type": "code",
   "execution_count": 93,
   "id": "050f36e2",
   "metadata": {},
   "outputs": [
    {
     "name": "stdout",
     "output_type": "stream",
     "text": [
      "7197\n"
     ]
    }
   ],
   "source": [
    "print(len(data))"
   ]
  },
  {
   "cell_type": "code",
   "execution_count": 89,
   "id": "55b52d05",
   "metadata": {},
   "outputs": [
    {
     "name": "stdout",
     "output_type": "stream",
     "text": [
      "0   id   284882215\n",
      "1   track_name   Facebook\n",
      "2   size_bytes   389879808\n",
      "3   currency   USD\n",
      "4   price   0.0\n",
      "5   rating_count_tot   2974676\n",
      "6   rating_count_ver   212\n",
      "7   user_rating   3.5\n",
      "8   user_rating_ver   3.5\n",
      "9   ver   95.0\n",
      "10   cont_rating   4+\n",
      "11   prime_genre   Social Networking\n",
      "12   sup_devices.num   37\n",
      "13   ipadSc_urls.num   1\n",
      "14   lang.num   29\n",
      "15   vpp_lic   1\n"
     ]
    }
   ],
   "source": [
    "for i in range(0,16):\n",
    "    print(i,\" \",header[i],\" \",data[0][i])\n",
    " "
   ]
  },
  {
   "cell_type": "code",
   "execution_count": 162,
   "id": "aa28f512",
   "metadata": {},
   "outputs": [
    {
     "name": "stdout",
     "output_type": "stream",
     "text": [
      "free count is 4056\n",
      "affordable count is 3105\n",
      "expensive count is 29\n",
      "most expensive count is 7\n"
     ]
    },
    {
     "data": {
      "text/plain": [
       "7197"
      ]
     },
     "execution_count": 162,
     "metadata": {},
     "output_type": "execute_result"
    }
   ],
   "source": [
    "import csv\n",
    "\n",
    "header , data = list(csv.reader(open('Store.csv', encoding = 'UTF - 8')))[0] , list(csv.reader(open('Store.csv', encoding = 'UTF - 8')))[1:]\n",
    "\n",
    "for i in data:\n",
    "    if float(i[4])==0:\n",
    "        i.insert(5,'free')\n",
    "    elif float(i[4]) <= 20:\n",
    "        i.insert(5,'affordable')\n",
    "    elif float(i[4]) <= 50:\n",
    "        i.insert(5,'expensive')\n",
    "    else:\n",
    "        i.insert(5,'most expensive')\n",
    "\n",
    "        \n",
    "free = 0\n",
    "affordable = 0\n",
    "expensive = 0\n",
    "most_expensive = 0        \n",
    "for x in data:\n",
    "    if x[5] == 'free':\n",
    "        free += 1\n",
    "    elif x[5] == 'affordable':\n",
    "        affordable += 1\n",
    "    elif x[5] == 'expensive':\n",
    "        expensive += 1\n",
    "    elif x[5] == 'most expensive':\n",
    "        most_expensive += 1\n",
    "print('free count is',free)\n",
    "print('affordable count is',affordable)\n",
    "print('expensive count is',expensive)\n",
    "print('most expensive count is',most_expensive)\n",
    "free+affordable+expensive+most_expensive       "
   ]
  },
  {
   "cell_type": "code",
   "execution_count": 163,
   "id": "31f14882",
   "metadata": {},
   "outputs": [
    {
     "name": "stdout",
     "output_type": "stream",
     "text": [
      "{'free': 4056, 'affordable': 3105, 'expensive': 29, 'most expensive': 7}\n"
     ]
    }
   ],
   "source": [
    "prict_cat = {}\n",
    "for i in data:\n",
    "    if i[5] not in prict_cat:\n",
    "        prict_cat[i[5]] = 1\n",
    "    else:\n",
    "        prict_cat[i[5]] += 1\n",
    "print(prict_cat)        "
   ]
  },
  {
   "cell_type": "code",
   "execution_count": 153,
   "id": "1f2c5bf8",
   "metadata": {},
   "outputs": [
    {
     "name": "stdout",
     "output_type": "stream",
     "text": [
      "m\n",
      "u\n",
      "z\n",
      "a\n",
      "m\n",
      "m\n",
      "i\n",
      "l\n"
     ]
    }
   ],
   "source": [
    "name = ['m','u','a','m','i','l']\n",
    "name.insert(2,'z')\n",
    "name.insert(5,'m')\n",
    "name\n",
    "\n",
    "for i in name:\n",
    "    print(i)\n",
    "\n",
    "    "
   ]
  },
  {
   "cell_type": "code",
   "execution_count": 146,
   "id": "5ef47ec3",
   "metadata": {},
   "outputs": [],
   "source": [
    "name.insert(2,'z')\n",
    "name.insert(5,'m')"
   ]
  },
  {
   "cell_type": "code",
   "execution_count": 147,
   "id": "4cea2563",
   "metadata": {},
   "outputs": [
    {
     "data": {
      "text/plain": [
       "['m', 'u', 'z', 'z', 'a', 'm', 'm', 'i', 'l']"
      ]
     },
     "execution_count": 147,
     "metadata": {},
     "output_type": "execute_result"
    }
   ],
   "source": [
    "name"
   ]
  },
  {
   "cell_type": "code",
   "execution_count": 94,
   "id": "f0f2273f",
   "metadata": {},
   "outputs": [
    {
     "name": "stdout",
     "output_type": "stream",
     "text": [
      "23\n",
      "7174\n"
     ]
    }
   ],
   "source": [
    "uni_track = []\n",
    "dup_track = []\n",
    "for i in data:\n",
    "    if i[11] not in uni_track:\n",
    "        uni_track.append(i[11])\n",
    "    else:\n",
    "        dup_track.append(i[11])\n",
    "print(len(uni_track))\n",
    "print(len(dup_track))"
   ]
  },
  {
   "cell_type": "code",
   "execution_count": 95,
   "id": "c6839427",
   "metadata": {},
   "outputs": [
    {
     "data": {
      "text/plain": [
       "['Social Networking',\n",
       " 'Photo & Video',\n",
       " 'Games',\n",
       " 'Music',\n",
       " 'Reference',\n",
       " 'Health & Fitness',\n",
       " 'Weather',\n",
       " 'Utilities',\n",
       " 'Travel',\n",
       " 'Shopping',\n",
       " 'News',\n",
       " 'Navigation',\n",
       " 'Lifestyle',\n",
       " 'Entertainment',\n",
       " 'Food & Drink',\n",
       " 'Sports',\n",
       " 'Book',\n",
       " 'Finance',\n",
       " 'Education',\n",
       " 'Productivity',\n",
       " 'Business',\n",
       " 'Catalogs',\n",
       " 'Medical']"
      ]
     },
     "execution_count": 95,
     "metadata": {},
     "output_type": "execute_result"
    }
   ],
   "source": [
    "uni_track"
   ]
  },
  {
   "cell_type": "code",
   "execution_count": 101,
   "id": "078f0548",
   "metadata": {},
   "outputs": [
    {
     "name": "stdout",
     "output_type": "stream",
     "text": [
      "Social Networking 167\n",
      "Photo & Video 349\n",
      "Games 3862\n",
      "Music 138\n",
      "Reference 64\n",
      "Health & Fitness 180\n",
      "Weather 72\n",
      "Utilities 248\n",
      "Travel 81\n",
      "Shopping 122\n",
      "News 75\n",
      "Navigation 46\n",
      "Lifestyle 144\n",
      "Entertainment 535\n",
      "Food & Drink 63\n",
      "Sports 114\n",
      "Book 112\n",
      "Finance 104\n",
      "Education 453\n",
      "Productivity 178\n",
      "Business 57\n",
      "Catalogs 10\n",
      "Medical 23\n"
     ]
    }
   ],
   "source": [
    "for i in uni_track:\n",
    "    count = 0\n",
    "    for y in data:\n",
    "        if i == y[11]:\n",
    "            count += 1\n",
    "        else:\n",
    "            pass\n",
    "    print(i,count)   \n",
    "            "
   ]
  },
  {
   "cell_type": "code",
   "execution_count": 115,
   "id": "52093120",
   "metadata": {},
   "outputs": [
    {
     "name": "stdout",
     "output_type": "stream",
     "text": [
      "Social Networking 167\n",
      "Photo & Video 349\n",
      "Games 3862\n",
      "Music 138\n",
      "Reference 64\n",
      "Health & Fitness 180\n",
      "Weather 72\n",
      "Utilities 248\n",
      "Travel 81\n",
      "Shopping 122\n",
      "News 75\n",
      "Navigation 46\n",
      "Lifestyle 144\n",
      "Entertainment 535\n",
      "Food & Drink 63\n",
      "Sports 114\n",
      "Book 112\n",
      "Finance 104\n",
      "Education 453\n",
      "Productivity 178\n",
      "Business 57\n",
      "Catalogs 10\n",
      "Medical 23\n"
     ]
    }
   ],
   "source": [
    "z = []for i in uni_track:\n",
    "    z = []\n",
    "    for y in data:\n",
    "        if i == y[11]:\n",
    "            z.append(1)\n",
    "        else:\n",
    "            pass\n",
    "    print(i,sum(z))    "
   ]
  },
  {
   "cell_type": "code",
   "execution_count": 125,
   "id": "671dfc1b",
   "metadata": {},
   "outputs": [
    {
     "name": "stdout",
     "output_type": "stream",
     "text": [
      "{'Social Networking': 167, 'Photo & Video': 349, 'Games': 3862, 'Music': 138, 'Reference': 64, 'Health & Fitness': 180, 'Weather': 72, 'Utilities': 248, 'Travel': 81, 'Shopping': 122, 'News': 75, 'Navigation': 46, 'Lifestyle': 144, 'Entertainment': 535, 'Food & Drink': 63, 'Sports': 114, 'Book': 112, 'Finance': 104, 'Education': 453, 'Productivity': 178, 'Business': 57, 'Catalogs': 10, 'Medical': 23}\n"
     ]
    }
   ],
   "source": [
    "prime_genra = dict()\n",
    "for i in data:\n",
    "    if i[11] not in prime_genra:\n",
    "        prime_genra[i[11]] = 1\n",
    "    else:\n",
    "        prime_genra[i[11]] += 1\n",
    "        \n",
    "print(prime_genra)        "
   ]
  },
  {
   "cell_type": "code",
   "execution_count": 136,
   "id": "346d72b8",
   "metadata": {},
   "outputs": [
    {
     "name": "stdout",
     "output_type": "stream",
     "text": [
      "167\n",
      "516\n",
      "4378\n",
      "4516\n",
      "4580\n",
      "4760\n",
      "4832\n",
      "5080\n",
      "5161\n",
      "5283\n",
      "5358\n",
      "5404\n",
      "5548\n",
      "6083\n",
      "6146\n",
      "6260\n",
      "6372\n",
      "6476\n",
      "6929\n",
      "7107\n",
      "7164\n",
      "7174\n",
      "7197\n"
     ]
    }
   ],
   "source": [
    "sum_c = 0\n",
    "for i in prime_genra.values():\n",
    "    sum_c += i\n",
    "    print(sum_c)\n",
    "    \n",
    "    \n",
    "    "
   ]
  },
  {
   "cell_type": "code",
   "execution_count": 124,
   "id": "28d01728",
   "metadata": {},
   "outputs": [
    {
     "name": "stdout",
     "output_type": "stream",
     "text": [
      "{'Social Networking': 167, 'Photo & Video': 349, 'Games': 3862, 'Music': 138, 'Reference': 64, 'Health & Fitness': 180, 'Weather': 72, 'Utilities': 248, 'Travel': 81, 'Shopping': 122, 'News': 75, 'Navigation': 46, 'Lifestyle': 144, 'Entertainment': 535, 'Food & Drink': 63, 'Sports': 114, 'Book': 112, 'Finance': 104, 'Education': 453, 'Productivity': 178, 'Business': 57, 'Catalogs': 10, 'Medical': 23}\n"
     ]
    }
   ],
   "source": [
    "prime_genra_2 = {}\n",
    "for i in data:\n",
    "    if i[11] in prime_genra_2:\n",
    "        prime_genra_2[i[11]] += 1\n",
    "    else:\n",
    "        prime_genra_2[i[11]] = 1\n",
    "        \n",
    "print(prime_genra_2)"
   ]
  },
  {
   "cell_type": "code",
   "execution_count": 165,
   "id": "914e6f6f",
   "metadata": {},
   "outputs": [],
   "source": [
    "experiment = [['a','b','c','d''e'],[0,1,2,3,4,5],[10,9,8,7,6,5]]"
   ]
  },
  {
   "cell_type": "code",
   "execution_count": null,
   "id": "2e97f413",
   "metadata": {},
   "outputs": [],
   "source": [
    "for i in experiment:\n",
    "    "
   ]
  }
 ],
 "metadata": {
  "kernelspec": {
   "display_name": "Python 3 (ipykernel)",
   "language": "python",
   "name": "python3"
  },
  "language_info": {
   "codemirror_mode": {
    "name": "ipython",
    "version": 3
   },
   "file_extension": ".py",
   "mimetype": "text/x-python",
   "name": "python",
   "nbconvert_exporter": "python",
   "pygments_lexer": "ipython3",
   "version": "3.11.5"
  }
 },
 "nbformat": 4,
 "nbformat_minor": 5
}
