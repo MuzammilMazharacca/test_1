{
 "cells": [
  {
   "cell_type": "code",
   "execution_count": 23,
   "id": "9821a309",
   "metadata": {},
   "outputs": [
    {
     "name": "stdout",
     "output_type": "stream",
     "text": [
      "16\n",
      " \n",
      "16\n"
     ]
    }
   ],
   "source": [
    "import csv\n",
    "\n",
    "f = open(\"Store.csv\", encoding = \"Latin - 1\")\n",
    "read = csv.reader(f)\n",
    "store=list(read)\n",
    "\n",
    "print(len(store[0]))\n",
    "print(\" \") \n",
    "count = 0    \n",
    "for i in store[0]:\n",
    "    count +=1\n",
    "\n",
    "print(count)"
   ]
  },
  {
   "cell_type": "code",
   "execution_count": 5,
   "id": "02de8d7f",
   "metadata": {},
   "outputs": [
    {
     "name": "stdout",
     "output_type": "stream",
     "text": [
      "17\n",
      "\n",
      "17\n"
     ]
    }
   ],
   "source": [
    "import csv\n",
    "\n",
    "store = list(csv.reader(open(\"Store.csv\", encoding = \"Latin - 1\")))\n",
    "\n",
    "store[0].append(\"price category\")\n",
    "\n",
    "print(len(store[0]))\n",
    "print()\n",
    "c = 0      \n",
    "for w in store[0]:\n",
    "    c += 1\n",
    "      \n",
    "print(c) "
   ]
  },
  {
   "cell_type": "code",
   "execution_count": 1,
   "id": "28b9ccc5",
   "metadata": {},
   "outputs": [
    {
     "name": "stdout",
     "output_type": "stream",
     "text": [
      "17\n",
      "17\n"
     ]
    }
   ],
   "source": [
    "for q in list(range(0,18)):\n",
    "    w = q\n",
    "print(q)   \n",
    "print(w)   "
   ]
  },
  {
   "cell_type": "code",
   "execution_count": 6,
   "id": "43c6cdbe",
   "metadata": {},
   "outputs": [],
   "source": [
    "b=10\n",
    "a=b\n",
    "c=a\n",
    "d=c\n"
   ]
  },
  {
   "cell_type": "code",
   "execution_count": 11,
   "id": "29b6d12c",
   "metadata": {},
   "outputs": [
    {
     "data": {
      "text/plain": [
       "10"
      ]
     },
     "execution_count": 11,
     "metadata": {},
     "output_type": "execute_result"
    }
   ],
   "source": [
    "b"
   ]
  },
  {
   "cell_type": "code",
   "execution_count": 67,
   "id": "7e232748",
   "metadata": {},
   "outputs": [
    {
     "name": "stdout",
     "output_type": "stream",
     "text": [
      "['id', 'track_name', 'size_bytes', 'currency', 'price', 'rating_count_tot', 'rating_count_ver', 'user_rating', 'user_rating_ver', 'ver', 'cont_rating', 'prime_genre', 'sup_devices.num', 'ipadSc_urls.num', 'lang.num', 'vpp_lic']\n"
     ]
    }
   ],
   "source": [
    "print(store[0])"
   ]
  },
  {
   "cell_type": "code",
   "execution_count": 90,
   "id": "d2eb5cfc",
   "metadata": {},
   "outputs": [
    {
     "name": "stdout",
     "output_type": "stream",
     "text": [
      "price   price_categor\n",
      " 0.0       free\n",
      " 0.0       free\n",
      " 0.0       free\n",
      " 0.0       free\n",
      " 0.0       free\n",
      " 0.0       free\n",
      " 0.0       free\n",
      " 0.0       free\n",
      " 0.0       free\n",
      " 0.0       free\n",
      " 0.0       free\n",
      " 1.99       affordable\n",
      " 0.0       free\n",
      " 0.0       free\n",
      " 0.0       free\n",
      " 0.0       free\n",
      " 0.0       free\n",
      " 0.99       affordable\n",
      " 6.99       affordable\n",
      " 0.0       free\n",
      "Can't print more than 20 rows\n"
     ]
    }
   ],
   "source": [
    "store=list(csv.reader(open(\"Store.csv\", encoding = \"Latin - 1\")))\n",
    "\n",
    "store[0].append(\"price_categor\")\n",
    "\n",
    "num=1\n",
    "F = \"free\"\n",
    "A = \"affordable\"\n",
    "E = \"expensive\"\n",
    "M = \"most expensive\"\n",
    "\n",
    "\n",
    "for row in store[num:]:\n",
    "    if float(row[4]) == 0:\n",
    "        row.append(F)\n",
    "    elif float(row[4]) <= 20:\n",
    "        row.append(A)\n",
    "    elif float(row[4]) <= 50:\n",
    "        row.append(E)\n",
    "    else:\n",
    "        row.append(M)\n",
    "\n",
    "print(store[0][4],\" \", store[0][-1])        \n",
    "\n",
    "count = 0\n",
    "\n",
    "for i in range(1,7000):\n",
    "    q = i\n",
    "    count += 1\n",
    "    if count <= 20:\n",
    "        print(\"\",store[q][4],\"     \",store[q][-1])\n",
    "    elif count == 21:\n",
    "        print(\"Can't print more than 20 rows\")"
   ]
  },
  {
   "cell_type": "code",
   "execution_count": 18,
   "id": "f8ab5aaa",
   "metadata": {},
   "outputs": [
    {
     "name": "stdout",
     "output_type": "stream",
     "text": [
      "0  price  Price_categor\n",
      "1  0.0  free\n",
      "2  0.0  free\n",
      "3  0.0  free\n",
      "4  0.0  free\n",
      "5  0.0  free\n",
      "6  0.0  free\n",
      "7  0.0  free\n",
      "8  0.0  free\n",
      "9  0.0  free\n",
      "10  0.0  free\n",
      "11  0.0  free\n",
      "12  1.99  affordable\n",
      "13  0.0  free\n",
      "14  0.0  free\n",
      "15  0.0  free\n",
      "16  0.0  free\n",
      "17  0.0  free\n",
      "18  0.99  affordable\n",
      "19  6.99  affordable\n",
      "20  0.0  free\n"
     ]
    }
   ],
   "source": [
    "import csv\n",
    "\n",
    "store = list(csv.reader(open(\"Store.csv\", encoding = \"Latin - -1\")))\n",
    "\n",
    "FAME = [\"Price_categor\"]\n",
    "\n",
    "o = 0\n",
    "\n",
    "for x in store[1:]:\n",
    "    if float(x[4]) == 0:\n",
    "        FAME.append(\"free\")\n",
    "    elif float(x[4]) <= 20:\n",
    "        FAME.append(\"affordable\")\n",
    "    elif float(x[4]) <= 50:\n",
    "        FAME.append(\"expensive\")\n",
    "    else:\n",
    "        FAME.append(\"most expensive\")  \n",
    "        \n",
    "store[0].append(FAME[0])\n",
    "\n",
    "        \n",
    "for y in store[1:]:\n",
    "    o += 1\n",
    "    store[o].append(FAME[o])\n",
    "\n",
    "count = -1\n",
    "                   \n",
    "for z in range(0,21):\n",
    "    count += 1\n",
    "    s = z\n",
    "    if count <= 20:\n",
    "        print(count,'',store[s][4],\"\",store[s][-1])\n",
    "    else:\n",
    "        break\n",
    "                    \n",
    "    \n"
   ]
  },
  {
   "cell_type": "code",
   "execution_count": 10,
   "id": "b1939998",
   "metadata": {},
   "outputs": [
    {
     "name": "stdout",
     "output_type": "stream",
     "text": [
      "Allah-o-Akber 50   times\n",
      "Alhamdulillah 50   times\n",
      "['Alhamdulillah', 'Allah-o-Akber', 'Alhamdulillah', 'Allah-o-Akber', 'Alhamdulillah', 'Allah-o-Akber', 'Alhamdulillah', 'Allah-o-Akber', 'Alhamdulillah', 'Allah-o-Akber', 'Alhamdulillah', 'Allah-o-Akber', 'Alhamdulillah', 'Allah-o-Akber', 'Alhamdulillah', 'Allah-o-Akber', 'Alhamdulillah', 'Allah-o-Akber', 'Alhamdulillah', 'Allah-o-Akber']\n"
     ]
    }
   ],
   "source": [
    "tasbeeh = []\n",
    "\n",
    "for i in range(1,101):\n",
    "    if i%2 == 0:\n",
    "        tasbeeh.append(\"Allah-o-Akber\")\n",
    "    else:\n",
    "        tasbeeh.append(\"Alhamdulillah\")\n",
    "\n",
    "print(\"Allah-o-Akber\", tasbeeh.count(\"Allah-o-Akber\"),\" \",\"times\")  \n",
    "print(\"Alhamdulillah\", tasbeeh.count(\"Alhamdulillah\"),\" \", \"times\")\n",
    "print(tasbeeh[0:20])"
   ]
  },
  {
   "cell_type": "code",
   "execution_count": 24,
   "id": "3b42aed2",
   "metadata": {},
   "outputs": [
    {
     "name": "stdout",
     "output_type": "stream",
     "text": [
      "[1, 2, 3, 1, 2, 3, 1, 2, 3, 1, 2, 3, 1, 2, 3, 1, 2, 3, 1, 2, 3, 1, 2, 3, 1, 2, 3, 1, 2, 3, 1, 2, 3, 1, 2, 3, 1, 2, 3, 1, 2, 3, 1, 2, 3, 1, 2, 3, 1, 2, 3, 1, 2, 3, 1, 2, 3, 1, 2, 3, 1, 2, 3, 1, 2, 3, 1, 2, 3, 1, 2, 3, 1, 2, 3, 1, 2, 3, 1, 2, 3, 1, 2, 3, 1, 2, 3, 1, 2, 3, 1, 2, 3, 1, 2, 3, 1, 2, 3]\n"
     ]
    },
    {
     "data": {
      "text/plain": [
       "['Subhan Allah',\n",
       " 'Alhamdulillah',\n",
       " 'Allah-o-Akber',\n",
       " 'Subhan Allah',\n",
       " 'Alhamdulillah',\n",
       " 'Allah-o-Akber',\n",
       " 'Subhan Allah',\n",
       " 'Alhamdulillah',\n",
       " 'Allah-o-Akber',\n",
       " 'Subhan Allah',\n",
       " 'Alhamdulillah',\n",
       " 'Allah-o-Akber',\n",
       " 'Subhan Allah',\n",
       " 'Alhamdulillah',\n",
       " 'Allah-o-Akber',\n",
       " 'Subhan Allah',\n",
       " 'Alhamdulillah',\n",
       " 'Allah-o-Akber',\n",
       " 'Subhan Allah',\n",
       " 'Alhamdulillah',\n",
       " 'Allah-o-Akber',\n",
       " 'Subhan Allah',\n",
       " 'Alhamdulillah',\n",
       " 'Allah-o-Akber',\n",
       " 'Subhan Allah',\n",
       " 'Alhamdulillah',\n",
       " 'Allah-o-Akber',\n",
       " 'Subhan Allah',\n",
       " 'Alhamdulillah',\n",
       " 'Allah-o-Akber',\n",
       " 'Subhan Allah',\n",
       " 'Alhamdulillah',\n",
       " 'Allah-o-Akber',\n",
       " 'Subhan Allah',\n",
       " 'Alhamdulillah',\n",
       " 'Allah-o-Akber',\n",
       " 'Subhan Allah',\n",
       " 'Alhamdulillah',\n",
       " 'Allah-o-Akber',\n",
       " 'Subhan Allah',\n",
       " 'Alhamdulillah',\n",
       " 'Allah-o-Akber',\n",
       " 'Subhan Allah',\n",
       " 'Alhamdulillah',\n",
       " 'Allah-o-Akber',\n",
       " 'Subhan Allah',\n",
       " 'Alhamdulillah',\n",
       " 'Allah-o-Akber',\n",
       " 'Subhan Allah',\n",
       " 'Alhamdulillah',\n",
       " 'Allah-o-Akber',\n",
       " 'Subhan Allah',\n",
       " 'Alhamdulillah',\n",
       " 'Allah-o-Akber',\n",
       " 'Subhan Allah',\n",
       " 'Alhamdulillah',\n",
       " 'Allah-o-Akber',\n",
       " 'Subhan Allah',\n",
       " 'Alhamdulillah',\n",
       " 'Allah-o-Akber',\n",
       " 'Subhan Allah',\n",
       " 'Alhamdulillah',\n",
       " 'Allah-o-Akber',\n",
       " 'Subhan Allah',\n",
       " 'Alhamdulillah',\n",
       " 'Allah-o-Akber',\n",
       " 'Subhan Allah',\n",
       " 'Alhamdulillah',\n",
       " 'Allah-o-Akber',\n",
       " 'Subhan Allah',\n",
       " 'Alhamdulillah',\n",
       " 'Allah-o-Akber',\n",
       " 'Subhan Allah',\n",
       " 'Alhamdulillah',\n",
       " 'Allah-o-Akber',\n",
       " 'Subhan Allah',\n",
       " 'Alhamdulillah',\n",
       " 'Allah-o-Akber',\n",
       " 'Subhan Allah',\n",
       " 'Alhamdulillah',\n",
       " 'Allah-o-Akber',\n",
       " 'Subhan Allah',\n",
       " 'Alhamdulillah',\n",
       " 'Allah-o-Akber',\n",
       " 'Subhan Allah',\n",
       " 'Alhamdulillah',\n",
       " 'Allah-o-Akber',\n",
       " 'Subhan Allah',\n",
       " 'Alhamdulillah',\n",
       " 'Allah-o-Akber',\n",
       " 'Subhan Allah',\n",
       " 'Alhamdulillah',\n",
       " 'Allah-o-Akber',\n",
       " 'Subhan Allah',\n",
       " 'Alhamdulillah',\n",
       " 'Allah-o-Akber',\n",
       " 'Subhan Allah',\n",
       " 'Alhamdulillah',\n",
       " 'Allah-o-Akber']"
      ]
     },
     "execution_count": 24,
     "metadata": {},
     "output_type": "execute_result"
    }
   ],
   "source": [
    "sq = []\n",
    "\n",
    "for i in range(1,34):\n",
    "    sq.extend([1,2,3])\n",
    "\n",
    "print(sq)\n",
    "\n",
    "tasbeeh = []\n",
    "\n",
    "for t in sq[0:]:\n",
    "    if t == 1:\n",
    "        tasbeeh.append(\"Subhan Allah\")\n",
    "    elif t == 2:\n",
    "        tasbeeh.append(\"Alhamdulillah\")\n",
    "    else:\n",
    "        tasbeeh.append(\"Allah-o-Akber\")\n",
    "\n",
    "tasbeeh"
   ]
  },
  {
   "cell_type": "code",
   "execution_count": 190,
   "id": "133fdada",
   "metadata": {},
   "outputs": [
    {
     "name": "stdout",
     "output_type": "stream",
     "text": [
      "Subhan_Allah count 33  times\n",
      "Alhamdulillah count 33  times\n",
      "Allah-o-Akber count 33  times\n",
      "{'Subhan Allah': 33, 'Alhamdulillah': 33, 'Allah-o-Akber': 33}\n",
      "['Subhan Allah', 'Alhamdulillah', 'Allah-o-Akber', 'Subhan Allah', 'Alhamdulillah', 'Allah-o-Akber', 'Subhan Allah', 'Alhamdulillah', 'Allah-o-Akber', 'Subhan Allah', 'Alhamdulillah', 'Allah-o-Akber', 'Subhan Allah', 'Alhamdulillah', 'Allah-o-Akber', 'Subhan Allah', 'Alhamdulillah', 'Allah-o-Akber', 'Subhan Allah', 'Alhamdulillah', 'Allah-o-Akber', 'Subhan Allah', 'Alhamdulillah', 'Allah-o-Akber', 'Subhan Allah', 'Alhamdulillah', 'Allah-o-Akber', 'Subhan Allah', 'Alhamdulillah', 'Allah-o-Akber', 'Subhan Allah', 'Alhamdulillah', 'Allah-o-Akber', 'Subhan Allah', 'Alhamdulillah', 'Allah-o-Akber', 'Subhan Allah', 'Alhamdulillah', 'Allah-o-Akber', 'Subhan Allah', 'Alhamdulillah', 'Allah-o-Akber', 'Subhan Allah', 'Alhamdulillah', 'Allah-o-Akber', 'Subhan Allah', 'Alhamdulillah', 'Allah-o-Akber', 'Subhan Allah', 'Alhamdulillah', 'Allah-o-Akber', 'Subhan Allah', 'Alhamdulillah', 'Allah-o-Akber', 'Subhan Allah', 'Alhamdulillah', 'Allah-o-Akber', 'Subhan Allah', 'Alhamdulillah', 'Allah-o-Akber', 'Subhan Allah', 'Alhamdulillah', 'Allah-o-Akber', 'Subhan Allah', 'Alhamdulillah', 'Allah-o-Akber', 'Subhan Allah', 'Alhamdulillah', 'Allah-o-Akber', 'Subhan Allah', 'Alhamdulillah', 'Allah-o-Akber', 'Subhan Allah', 'Alhamdulillah', 'Allah-o-Akber', 'Subhan Allah', 'Alhamdulillah', 'Allah-o-Akber', 'Subhan Allah', 'Alhamdulillah', 'Allah-o-Akber', 'Subhan Allah', 'Alhamdulillah', 'Allah-o-Akber', 'Subhan Allah', 'Alhamdulillah', 'Allah-o-Akber', 'Subhan Allah', 'Alhamdulillah', 'Allah-o-Akber', 'Subhan Allah', 'Alhamdulillah', 'Allah-o-Akber', 'Subhan Allah', 'Alhamdulillah', 'Allah-o-Akber', 'Subhan Allah', 'Alhamdulillah', 'Allah-o-Akber']\n"
     ]
    }
   ],
   "source": [
    "sq = []\n",
    "\n",
    "for i in range(1,34):\n",
    "    if i <= 33:\n",
    "        sq.extend([1,2,3])\n",
    "\n",
    "tasbeeh = []\n",
    "\n",
    "for t in sq[0:]:\n",
    "    if t == 1:\n",
    "        tasbeeh.append(\"Subhan Allah\")\n",
    "    elif t == 2:\n",
    "        tasbeeh.append(\"Alhamdulillah\")\n",
    "    else:\n",
    "        tasbeeh.append(\"Allah-o-Akber\")\n",
    "\n",
    "\n",
    "Subhan_Allah = 0\n",
    "Alhamdulillah = 0\n",
    "Allah_o_Akber = 0\n",
    "\n",
    "for d in tasbeeh:\n",
    "    if d == \"Subhan Allah\":\n",
    "        Subhan_Allah += 1\n",
    "    elif d == \"Alhamdulillah\":\n",
    "        Alhamdulillah += 1\n",
    "    elif d == \"Allah-o-Akber\":\n",
    "        Allah_o_Akber += 1\n",
    "\n",
    "print(\"Subhan_Allah count\",Subhan_Allah,\"\",\"times\")\n",
    "print(\"Alhamdulillah count\",Alhamdulillah,\"\",\"times\")\n",
    "print(\"Allah-o-Akber count\",Allah_o_Akber,\"\",\"times\")\n",
    "\n",
    "freq_table = {}\n",
    "\n",
    "for r in tasbeeh:\n",
    "    if r not in freq_table:\n",
    "        freq_table[r] = 1\n",
    "    else:\n",
    "        freq_table[r] += 1\n",
    "\n",
    "print(freq_table)\n",
    "\n",
    "print(tasbeeh)"
   ]
  }
 ],
 "metadata": {
  "kernelspec": {
   "display_name": "Python 3 (ipykernel)",
   "language": "python",
   "name": "python3"
  },
  "language_info": {
   "codemirror_mode": {
    "name": "ipython",
    "version": 3
   },
   "file_extension": ".py",
   "mimetype": "text/x-python",
   "name": "python",
   "nbconvert_exporter": "python",
   "pygments_lexer": "ipython3",
   "version": "3.11.5"
  }
 },
 "nbformat": 4,
 "nbformat_minor": 5
}
