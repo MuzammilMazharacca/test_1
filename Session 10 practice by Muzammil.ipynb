{
 "cells": [
  {
   "cell_type": "code",
   "execution_count": 1,
   "id": "84009ee8",
   "metadata": {},
   "outputs": [
    {
     "data": {
      "text/plain": [
       "['__builtins__',\n",
       " '__cached__',\n",
       " '__doc__',\n",
       " '__file__',\n",
       " '__loader__',\n",
       " '__name__',\n",
       " '__package__',\n",
       " '__spec__',\n",
       " 'csv',\n",
       " 'pandas',\n",
       " 'read_csv']"
      ]
     },
     "execution_count": 1,
     "metadata": {},
     "output_type": "execute_result"
    }
   ],
   "source": [
    "import func\n",
    "dir(func)"
   ]
  },
  {
   "cell_type": "code",
   "execution_count": 2,
   "id": "93a5da52",
   "metadata": {},
   "outputs": [],
   "source": [
    "header, data = func.read_csv('playstore.csv', True)"
   ]
  },
  {
   "cell_type": "code",
   "execution_count": 3,
   "id": "c0332755",
   "metadata": {},
   "outputs": [
    {
     "name": "stdout",
     "output_type": "stream",
     "text": [
      "['App', 'Category', 'Rating', 'Reviews', 'Size', 'Installs', 'Type', 'Price', 'Content Rating', 'Genres', 'Last Updated', 'Current Ver', 'Android Ver']\n"
     ]
    }
   ],
   "source": [
    "print(header)"
   ]
  },
  {
   "cell_type": "code",
   "execution_count": 4,
   "id": "9cf78eba",
   "metadata": {},
   "outputs": [
    {
     "name": "stdout",
     "output_type": "stream",
     "text": [
      "['App', 'Category', 'Rating', 'Reviews', 'Size', 'Installs', 'Type', 'Price', 'Content Rating', 'Genres', 'Last Updated', 'Current Ver', 'Android Ver']\n",
      "\n",
      "['Photo Editor & Candy Camera & Grid & ScrapBook', 'ART_AND_DESIGN', '4.1', '159', '19M', '10,000+', 'Free', '0', 'Everyone', 'Art & Design', 'January 7, 2018', '1.0.0', '4.0.3 and up']\n",
      "\n",
      "['Coloring book moana', 'ART_AND_DESIGN', '3.9', '967', '14M', '500,000+', 'Free', '0', 'Everyone', 'Art & Design;Pretend Play', 'January 15, 2018', '2.0.0', '4.0.3 and up']\n",
      "\n",
      "['U Launcher Lite â\\x80\\x93 FREE Live Cool Themes, Hide Apps', 'ART_AND_DESIGN', '4.7', '87510', '8.7M', '5,000,000+', 'Free', '0', 'Everyone', 'Art & Design', 'August 1, 2018', '1.2.4', '4.0.3 and up']\n",
      "\n"
     ]
    }
   ],
   "source": [
    "print(header)\n",
    "print()\n",
    "for i in range(0,3):\n",
    "    print(data[i])\n",
    "    print()  "
   ]
  },
  {
   "cell_type": "code",
   "execution_count": 5,
   "id": "782a2f99",
   "metadata": {},
   "outputs": [
    {
     "name": "stdout",
     "output_type": "stream",
     "text": [
      "Photo Editor & Candy Camera & Grid & ScrapBook\n",
      "Coloring book moana\n",
      "U Launcher Lite â FREE Live Cool Themes, Hide Apps\n",
      "Sketch - Draw & Paint\n",
      "Pixel Draw - Number Art Coloring Book\n",
      "Paper flowers instructions\n",
      "Smoke Effect Photo Maker - Smoke Editor\n",
      "Infinite Painter\n",
      "Garden Coloring Book\n",
      "Kids Paint Free - Drawing Fun\n",
      "Text on Photo - Fonteee\n"
     ]
    }
   ],
   "source": [
    "import time\n",
    "free_app = []\n",
    "\n",
    "for row in data:\n",
    "    typ = row[6]\n",
    "    if typ == 'Free':\n",
    "        free_app.append(row)\n",
    "for i in free_app[0:11]:\n",
    "    print(i[0])\n",
    "    "
   ]
  },
  {
   "cell_type": "code",
   "execution_count": 6,
   "id": "700bb332",
   "metadata": {},
   "outputs": [
    {
     "data": {
      "text/plain": [
       "802"
      ]
     },
     "execution_count": 6,
     "metadata": {},
     "output_type": "execute_result"
    }
   ],
   "source": [
    "len(data)-len(free_app)"
   ]
  },
  {
   "cell_type": "code",
   "execution_count": 7,
   "id": "31b2b1a1",
   "metadata": {},
   "outputs": [],
   "source": [
    "a = 'U Launcher Lite â FREE Live Cool Themes, Hide Apps'"
   ]
  },
  {
   "cell_type": "code",
   "execution_count": 71,
   "id": "83741dd1",
   "metadata": {},
   "outputs": [
    {
     "name": "stdout",
     "output_type": "stream",
     "text": [
      "s 3\n"
     ]
    }
   ],
   "source": [
    "non_Ascii = 0\n",
    "for i in a:\n",
    "    if ord(i) > 127:\n",
    "        non_Ascii += 1\n",
    "    else:\n",
    "        non_Ascii += 0\n",
    "print(i,non_Ascii)    "
   ]
  },
  {
   "cell_type": "code",
   "execution_count": 9,
   "id": "567ba5fa",
   "metadata": {},
   "outputs": [],
   "source": [
    "eng_free_app = []\n",
    "non_eng_app = []\n",
    "\n",
    "for row in free_app:\n",
    "    col_0 = row[0]\n",
    "    non_key = 0\n",
    "    for i in col_0:\n",
    "        if ord(i) > 127:\n",
    "            non_key += 1\n",
    "        else:\n",
    "            non_key += 0\n",
    "    if non_key <= 3:\n",
    "        eng_free_app.append(row)\n",
    "    else:\n",
    "        non_eng_app.append(row)\n",
    "            \n",
    "            "
   ]
  },
  {
   "cell_type": "code",
   "execution_count": 10,
   "id": "b5577d91",
   "metadata": {},
   "outputs": [
    {
     "name": "stdout",
     "output_type": "stream",
     "text": [
      "10841\n",
      "10039\n",
      "9890\n",
      "149\n"
     ]
    }
   ],
   "source": [
    "print(len(data))\n",
    "print(len(free_app))\n",
    "print(len(eng_free_app))\n",
    "print(len(non_eng_app))"
   ]
  },
  {
   "cell_type": "code",
   "execution_count": 72,
   "id": "7b62d519",
   "metadata": {},
   "outputs": [
    {
     "name": "stdout",
     "output_type": "stream",
     "text": [
      "8759\n",
      "1131\n"
     ]
    }
   ],
   "source": [
    "unique_app_list = []\n",
    "duplicate_app_list = []\n",
    "\n",
    "for i in eng_free_app:\n",
    "    app_name = i[0]\n",
    "    if app_name not in unique_app_list:\n",
    "        unique_app_list.append(app_name)\n",
    "    else:\n",
    "        duplicate_app_list.append(app_name)\n",
    "        \n",
    "print(len(unique_app_list))\n",
    "print(len(duplicate_app_list))"
   ]
  },
  {
   "cell_type": "code",
   "execution_count": 11,
   "id": "0e8a326a",
   "metadata": {},
   "outputs": [
    {
     "data": {
      "text/plain": [
       "149"
      ]
     },
     "execution_count": 11,
     "metadata": {},
     "output_type": "execute_result"
    }
   ],
   "source": [
    "len(free_app)-len(eng_free_app)"
   ]
  },
  {
   "cell_type": "code",
   "execution_count": 12,
   "id": "f6b2e7bd",
   "metadata": {},
   "outputs": [],
   "source": [
    "freq_table = {}\n",
    "\n",
    "for i in eng_free_app:\n",
    "    app = i[0]\n",
    "    if app not in freq_table:\n",
    "        freq_table[app] = 1\n",
    "    else:\n",
    "        freq_table[app] += 1"
   ]
  },
  {
   "cell_type": "code",
   "execution_count": 14,
   "id": "b5a0426b",
   "metadata": {},
   "outputs": [
    {
     "ename": "SyntaxError",
     "evalue": "unterminated string literal (detected at line 1) (3344619911.py, line 1)",
     "output_type": "error",
     "traceback": [
      "\u001b[1;36m  Cell \u001b[1;32mIn[14], line 1\u001b[1;36m\u001b[0m\n\u001b[1;33m    A&E - Watch Full Episodes of TV Shows': 4,\u001b[0m\n\u001b[1;37m                                         ^\u001b[0m\n\u001b[1;31mSyntaxError\u001b[0m\u001b[1;31m:\u001b[0m unterminated string literal (detected at line 1)\n"
     ]
    }
   ],
   "source": [
    "A&E - Watch Full Episodes of TV Shows': 4,\n",
    " 'The CW': 4,\n",
    " 'BET NOW - Watch Shows': 3,\n",
    " 'Hulu: Stream TV, Movies & more': 4,\n",
    " 'HBO NOW: Stream TV & Movies': 4,\n",
    " 'Univision NOW - Live TV and On Demand': 2"
   ]
  },
  {
   "cell_type": "code",
   "execution_count": 15,
   "id": "4b42d17c",
   "metadata": {},
   "outputs": [
    {
     "name": "stdout",
     "output_type": "stream",
     "text": [
      "['App', 'Category', 'Rating', 'Reviews', 'Size', 'Installs', 'Type', 'Price', 'Content Rating', 'Genres', 'Last Updated', 'Current Ver', 'Android Ver']\n",
      "\n",
      "['Instagram', 'SOCIAL', '4.5', '66577313', 'Varies with device', '1,000,000,000+', 'Free', '0', 'Teen', 'Social', 'July 31, 2018', 'Varies with device', 'Varies with device']\n",
      "\n",
      "['Instagram', 'SOCIAL', '4.5', '66577446', 'Varies with device', '1,000,000,000+', 'Free', '0', 'Teen', 'Social', 'July 31, 2018', 'Varies with device', 'Varies with device']\n",
      "\n",
      "['Instagram', 'SOCIAL', '4.5', '66577313', 'Varies with device', '1,000,000,000+', 'Free', '0', 'Teen', 'Social', 'July 31, 2018', 'Varies with device', 'Varies with device']\n",
      "\n",
      "['Instagram', 'SOCIAL', '4.5', '66509917', 'Varies with device', '1,000,000,000+', 'Free', '0', 'Teen', 'Social', 'July 31, 2018', 'Varies with device', 'Varies with device']\n",
      "\n"
     ]
    }
   ],
   "source": [
    "print(header)\n",
    "print()\n",
    "for i in eng_free_app:\n",
    "    if i[0] == 'Instagram':\n",
    "        print(i)\n",
    "        print()"
   ]
  },
  {
   "cell_type": "code",
   "execution_count": 16,
   "id": "0230d6cb",
   "metadata": {},
   "outputs": [
    {
     "data": {
      "text/plain": [
       "3"
      ]
     },
     "execution_count": 16,
     "metadata": {},
     "output_type": "execute_result"
    }
   ],
   "source": [
    "header.index('Reviews')"
   ]
  },
  {
   "cell_type": "code",
   "execution_count": 17,
   "id": "50ab5af9",
   "metadata": {},
   "outputs": [
    {
     "name": "stdout",
     "output_type": "stream",
     "text": [
      "8759\n"
     ]
    }
   ],
   "source": [
    "app_key = {}\n",
    "\n",
    "for i in eng_free_app:\n",
    "    if i[0] not in app_key:\n",
    "        app_key[i[0]] = float(i[3])\n",
    "    elif float(i[3]) > app_key[i[0]]:\n",
    "        app_key[i[0]] = float(i[3]) \n",
    "print(len(app_key))        "
   ]
  },
  {
   "cell_type": "code",
   "execution_count": 18,
   "id": "0606e3de",
   "metadata": {},
   "outputs": [
    {
     "data": {
      "text/plain": [
       "10841"
      ]
     },
     "execution_count": 18,
     "metadata": {},
     "output_type": "execute_result"
    }
   ],
   "source": [
    "len(data)"
   ]
  },
  {
   "cell_type": "code",
   "execution_count": 19,
   "id": "85d1d928",
   "metadata": {},
   "outputs": [
    {
     "data": {
      "text/plain": [
       "10039"
      ]
     },
     "execution_count": 19,
     "metadata": {},
     "output_type": "execute_result"
    }
   ],
   "source": [
    "len(free_app)"
   ]
  },
  {
   "cell_type": "code",
   "execution_count": 20,
   "id": "2335b2b4",
   "metadata": {},
   "outputs": [
    {
     "data": {
      "text/plain": [
       "9890"
      ]
     },
     "execution_count": 20,
     "metadata": {},
     "output_type": "execute_result"
    }
   ],
   "source": [
    "len(eng_free_app)"
   ]
  },
  {
   "cell_type": "code",
   "execution_count": 21,
   "id": "27825962",
   "metadata": {},
   "outputs": [
    {
     "data": {
      "text/plain": [
       "802"
      ]
     },
     "execution_count": 21,
     "metadata": {},
     "output_type": "execute_result"
    }
   ],
   "source": [
    "len(data)-len(free_app)"
   ]
  },
  {
   "cell_type": "code",
   "execution_count": 22,
   "id": "b1b6efeb",
   "metadata": {},
   "outputs": [
    {
     "data": {
      "text/plain": [
       "149"
      ]
     },
     "execution_count": 22,
     "metadata": {},
     "output_type": "execute_result"
    }
   ],
   "source": [
    "len(free_app)-len(eng_free_app)"
   ]
  },
  {
   "cell_type": "code",
   "execution_count": 115,
   "id": "406e3024",
   "metadata": {},
   "outputs": [
    {
     "data": {
      "text/plain": [
       "8764"
      ]
     },
     "execution_count": 115,
     "metadata": {},
     "output_type": "execute_result"
    }
   ],
   "source": [
    "eng_free_app_nodup = []\n",
    "eng_free_app_dup = []\n",
    "\n",
    "for i in eng_free_app:\n",
    "    if i[0] in app_key and float(i[3]) == app_key[i[0]] and i not in eng_free_app_nodup:\n",
    "        eng_free_app_nodup.append(i)\n",
    "    else:\n",
    "        eng_free_app_dup.append(i)\n",
    "len(eng_free_app_nodup)        \n",
    "      \n"
   ]
  },
  {
   "cell_type": "code",
   "execution_count": 125,
   "id": "b7c5bde8",
   "metadata": {},
   "outputs": [
    {
     "name": "stdout",
     "output_type": "stream",
     "text": [
      "8759 8759\n",
      "1131\n"
     ]
    }
   ],
   "source": [
    "eng_free_app_nodup = []\n",
    "eng_free_app_dup = []\n",
    "fin = []\n",
    "\n",
    "for i in eng_free_app:\n",
    "    if i[0] not in eng_free_app_dup and float(i[3]) == app_key[i[0]]:\n",
    "        eng_free_app_nodup.append(i)\n",
    "        eng_free_app_dup.append(i[0])\n",
    "    else:\n",
    "        fin.append(i)\n",
    "        \n",
    "        \n",
    "print(len(eng_free_app_nodup), len(eng_free_app_dup))\n",
    "print(len(fin))"
   ]
  },
  {
   "cell_type": "code",
   "execution_count": null,
   "id": "7367a246",
   "metadata": {},
   "outputs": [],
   "source": []
  },
  {
   "cell_type": "code",
   "execution_count": 92,
   "id": "024d562f",
   "metadata": {},
   "outputs": [
    {
     "name": "stdout",
     "output_type": "stream",
     "text": [
      "Learn C++\n",
      "YouTube Gaming\n",
      "Candy Bomb\n",
      "Target - now with Cartwheel\n",
      "osmino Wi-Fi: free WiFi\n"
     ]
    }
   ],
   "source": [
    "find_diff = {}\n",
    "\n",
    "for i in eng_free_app_nodup:\n",
    "    if i[0] not in find_diff:\n",
    "        find_diff[i[0]] = 1\n",
    "    else:\n",
    "        find_diff[i[0]] += 1\n",
    "for i in find_diff:\n",
    "    if find_diff[i] > 1:\n",
    "        print(i)"
   ]
  },
  {
   "cell_type": "code",
   "execution_count": 101,
   "id": "8f95a063",
   "metadata": {},
   "outputs": [
    {
     "name": "stdout",
     "output_type": "stream",
     "text": [
      "['App', 'Category', 'Rating', 'Reviews', 'Size', 'Installs', 'Type', 'Price', 'Content Rating', 'Genres', 'Last Updated', 'Current Ver', 'Android Ver']\n",
      "\n",
      "['YouTube Gaming', 'ENTERTAINMENT', '4.2', '130549', 'Varies with device', '5,000,000+', 'Free', '0', 'Teen', 'Entertainment', 'June 27, 2018', '2.08.78.2', '4.1 and up']\n",
      "\n",
      "['YouTube Gaming', 'FAMILY', '4.2', '130549', 'Varies with device', '5,000,000+', 'Free', '0', 'Teen', 'Entertainment', 'June 27, 2018', '2.08.78.2', '4.1 and up']\n",
      "\n"
     ]
    }
   ],
   "source": [
    "print(header)\n",
    "print()\n",
    "for i in eng_free_app:\n",
    "    if i[0] == 'YouTube Gaming':\n",
    "        print(i)\n",
    "        print()"
   ]
  },
  {
   "cell_type": "code",
   "execution_count": 102,
   "id": "aa49aac2",
   "metadata": {},
   "outputs": [
    {
     "name": "stdout",
     "output_type": "stream",
     "text": [
      "['App', 'Category', 'Rating', 'Reviews', 'Size', 'Installs', 'Type', 'Price', 'Content Rating', 'Genres', 'Last Updated', 'Current Ver', 'Android Ver']\n",
      "\n",
      "['YouTube Gaming', 'ENTERTAINMENT', '4.2', '130549', 'Varies with device', '5,000,000+', 'Free', '0', 'Teen', 'Entertainment', 'June 27, 2018', '2.08.78.2', '4.1 and up']\n",
      "\n",
      "['YouTube Gaming', 'FAMILY', '4.2', '130549', 'Varies with device', '5,000,000+', 'Free', '0', 'Teen', 'Entertainment', 'June 27, 2018', '2.08.78.2', '4.1 and up']\n",
      "\n"
     ]
    }
   ],
   "source": [
    "print(header)\n",
    "print()\n",
    "for i in eng_free_app:\n",
    "    if i[0] == 'YouTube Gaming':\n",
    "        print(i)\n",
    "        print()\n",
    "        "
   ]
  },
  {
   "cell_type": "code",
   "execution_count": 62,
   "id": "24733fe8",
   "metadata": {},
   "outputs": [
    {
     "data": {
      "text/plain": [
       "1126"
      ]
     },
     "execution_count": 62,
     "metadata": {},
     "output_type": "execute_result"
    }
   ],
   "source": [
    "len(eng_free_app)-len(eng_free_app_nodup)"
   ]
  },
  {
   "cell_type": "code",
   "execution_count": 63,
   "id": "bd82d9d9",
   "metadata": {},
   "outputs": [
    {
     "data": {
      "text/plain": [
       "1275"
      ]
     },
     "execution_count": 63,
     "metadata": {},
     "output_type": "execute_result"
    }
   ],
   "source": [
    "1126+149"
   ]
  },
  {
   "cell_type": "code",
   "execution_count": 79,
   "id": "d51cea76",
   "metadata": {},
   "outputs": [],
   "source": [
    "dict_dum = {'muzammil':1000, 'aniqah':5000, 'ibrahim':10000}\n",
    "dict_dum['ibrahim'] = 3000\n",
    "\n",
    "data_list = ['name', 'salary', 'age', 'nationality'], ['muzammil', 500, 39, 'pakistan'],['muzammil', 1000, 39, 'pakistan'],['muzammil',1000 , 39, 'pakistan'],['aniqah', 5000, 38, 'pakistan'],['aniqah', 5000, 38, 'pakistan'],['aniqah',3000 , 38, 'pakistan'],['ibrahim', 3000, 3, 'pakistan'],['ibrahim',3000 , 3, 'pakistan'],['ibrahim',1000 , 3, 'pakistan']"
   ]
  },
  {
   "cell_type": "code",
   "execution_count": 54,
   "id": "1a7566de",
   "metadata": {},
   "outputs": [
    {
     "name": "stdout",
     "output_type": "stream",
     "text": [
      "name salary age nationality\n",
      "muzammil 500 39 pakistan\n",
      "muzammil 1000 39 pakistan\n",
      "muzammil 1000 39 pakistan\n",
      "aniqah 5000 38 pakistan\n",
      "aniqah 5000 38 pakistan\n",
      "aniqah 3000 38 pakistan\n",
      "ibrahim 3000 3 pakistan\n",
      "ibrahim 3000 3 pakistan\n",
      "ibrahim 1000 3 pakistan\n"
     ]
    }
   ],
   "source": [
    "for i in range(0,10):\n",
    "    print(data_list[i][0], data_list[i][1], data_list[i][2], data_list[i][3])    "
   ]
  },
  {
   "cell_type": "code",
   "execution_count": 80,
   "id": "efc2c23f",
   "metadata": {},
   "outputs": [
    {
     "name": "stdout",
     "output_type": "stream",
     "text": [
      "[['muzammil', 1000, 39, 'pakistan'], ['aniqah', 5000, 38, 'pakistan'], ['ibrahim', 3000, 3, 'pakistan']]\n"
     ]
    }
   ],
   "source": [
    "wo_up_data_list = []\n",
    "\n",
    "for i in data_list[1:]:\n",
    "    if i[0] in dict_dum and i[1] == dict_dum[i[0]] and i not in wo_up_data_list:\n",
    "        wo_up_data_list.append(i)\n",
    "print(wo_up_data_list)        "
   ]
  },
  {
   "cell_type": "code",
   "execution_count": 34,
   "id": "cef811d1",
   "metadata": {},
   "outputs": [
    {
     "name": "stdout",
     "output_type": "stream",
     "text": [
      "['App', 'Category', 'Rating', 'Reviews', 'Size', 'Installs', 'Type', 'Price', 'Content Rating', 'Genres', 'Last Updated', 'Current Ver', 'Android Ver']\n",
      "\n",
      "['Google Chrome: Fast & Secure', 'COMMUNICATION', '4.3', '9643041', 'Varies with device', '1,000,000,000+', 'Free', '0', 'Everyone', 'Communication', 'August 1, 2018', 'Varies with device', 'Varies with device']\n"
     ]
    }
   ],
   "source": [
    "print(header)\n",
    "print()\n",
    "for i in eng_free_app_nodup:\n",
    "    if i[0] == \"Google Chrome: Fast & Secure\":\n",
    "        print(i)\n",
    "    "
   ]
  },
  {
   "cell_type": "code",
   "execution_count": 1,
   "id": "ce7394f8",
   "metadata": {},
   "outputs": [
    {
     "ename": "NameError",
     "evalue": "name 'data' is not defined",
     "output_type": "error",
     "traceback": [
      "\u001b[1;31m---------------------------------------------------------------------------\u001b[0m",
      "\u001b[1;31mNameError\u001b[0m                                 Traceback (most recent call last)",
      "Cell \u001b[1;32mIn[1], line 1\u001b[0m\n\u001b[1;32m----> 1\u001b[0m \u001b[38;5;28;01mfor\u001b[39;00m i \u001b[38;5;129;01min\u001b[39;00m data:\n\u001b[0;32m      2\u001b[0m     \u001b[38;5;28;01mif\u001b[39;00m i[\u001b[38;5;241m0\u001b[39m] \u001b[38;5;241m==\u001b[39m \u001b[38;5;124m'\u001b[39m\u001b[38;5;124mGoogle Chrome: Fast & Secure\u001b[39m\u001b[38;5;124m'\u001b[39m:\n\u001b[0;32m      3\u001b[0m         \u001b[38;5;28mprint\u001b[39m(i)\n",
      "\u001b[1;31mNameError\u001b[0m: name 'data' is not defined"
     ]
    }
   ],
   "source": [
    "for i in data:\n",
    "    if i[0] == 'Google Chrome: Fast & Secure':\n",
    "        print(i)"
   ]
  },
  {
   "cell_type": "code",
   "execution_count": null,
   "id": "705a92a9",
   "metadata": {},
   "outputs": [],
   "source": [
    "freq_table"
   ]
  },
  {
   "cell_type": "code",
   "execution_count": null,
   "id": "7a20bba1",
   "metadata": {},
   "outputs": [],
   "source": [
    "print(app_key['Google Chrome: Fast & Secure'])"
   ]
  }
 ],
 "metadata": {
  "kernelspec": {
   "display_name": "Python 3 (ipykernel)",
   "language": "python",
   "name": "python3"
  },
  "language_info": {
   "codemirror_mode": {
    "name": "ipython",
    "version": 3
   },
   "file_extension": ".py",
   "mimetype": "text/x-python",
   "name": "python",
   "nbconvert_exporter": "python",
   "pygments_lexer": "ipython3",
   "version": "3.11.5"
  }
 },
 "nbformat": 4,
 "nbformat_minor": 5
}
