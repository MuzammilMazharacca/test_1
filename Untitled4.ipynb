{
 "cells": [
  {
   "cell_type": "code",
   "execution_count": 3,
   "id": "e0201c33",
   "metadata": {},
   "outputs": [],
   "source": [
    "import pandas as pd\n",
    "import numpy as np\n",
    "import matplotlib.pyplot as plt\n",
    "import seaborn as sns\n",
    "import plotly.express as px\n",
    "import plotly.graph_objects as go\n",
    "from sklearn.model_selection import train_test_split\n",
    "from sklearn.linear_model import LinearRegression, LogisticRegression\n",
    "from sklearn import datasets\n",
    "from sklearn.metrics import mean_squared_error, r2_score, accuracy_score, precision_score, recall_score, f1_score, classification_report, confusion_matrix\n",
    "from sklearn.preprocessing import StandardScaler, LabelEncoder, MinMaxScaler\n",
    "from sklearn.neighbors import KNeighborsClassifier"
   ]
  },
  {
   "cell_type": "code",
   "execution_count": 33,
   "id": "0db87007",
   "metadata": {},
   "outputs": [
    {
     "data": {
      "text/plain": [
       "(1797, 64)"
      ]
     },
     "execution_count": 33,
     "metadata": {},
     "output_type": "execute_result"
    }
   ],
   "source": [
    "file = datasets.load_digits()\n",
    "file.data.shape\n"
   ]
  },
  {
   "cell_type": "code",
   "execution_count": 41,
   "id": "43cda163",
   "metadata": {},
   "outputs": [],
   "source": [
    "pd_file_data = pd.DataFrame(file.data)\n",
    "pd_file_taget = pd.DataFrame(file.target)"
   ]
  },
  {
   "cell_type": "code",
   "execution_count": 48,
   "id": "6fe2af7c",
   "metadata": {},
   "outputs": [
    {
     "name": "stdout",
     "output_type": "stream",
     "text": [
      "<class 'pandas.core.frame.DataFrame'>\n",
      "RangeIndex: 1797 entries, 0 to 1796\n",
      "Data columns (total 64 columns):\n",
      " #   Column  Non-Null Count  Dtype  \n",
      "---  ------  --------------  -----  \n",
      " 0   0       1797 non-null   float64\n",
      " 1   1       1797 non-null   float64\n",
      " 2   2       1797 non-null   float64\n",
      " 3   3       1797 non-null   float64\n",
      " 4   4       1797 non-null   float64\n",
      " 5   5       1797 non-null   float64\n",
      " 6   6       1797 non-null   float64\n",
      " 7   7       1797 non-null   float64\n",
      " 8   8       1797 non-null   float64\n",
      " 9   9       1797 non-null   float64\n",
      " 10  10      1797 non-null   float64\n",
      " 11  11      1797 non-null   float64\n",
      " 12  12      1797 non-null   float64\n",
      " 13  13      1797 non-null   float64\n",
      " 14  14      1797 non-null   float64\n",
      " 15  15      1797 non-null   float64\n",
      " 16  16      1797 non-null   float64\n",
      " 17  17      1797 non-null   float64\n",
      " 18  18      1797 non-null   float64\n",
      " 19  19      1797 non-null   float64\n",
      " 20  20      1797 non-null   float64\n",
      " 21  21      1797 non-null   float64\n",
      " 22  22      1797 non-null   float64\n",
      " 23  23      1797 non-null   float64\n",
      " 24  24      1797 non-null   float64\n",
      " 25  25      1797 non-null   float64\n",
      " 26  26      1797 non-null   float64\n",
      " 27  27      1797 non-null   float64\n",
      " 28  28      1797 non-null   float64\n",
      " 29  29      1797 non-null   float64\n",
      " 30  30      1797 non-null   float64\n",
      " 31  31      1797 non-null   float64\n",
      " 32  32      1797 non-null   float64\n",
      " 33  33      1797 non-null   float64\n",
      " 34  34      1797 non-null   float64\n",
      " 35  35      1797 non-null   float64\n",
      " 36  36      1797 non-null   float64\n",
      " 37  37      1797 non-null   float64\n",
      " 38  38      1797 non-null   float64\n",
      " 39  39      1797 non-null   float64\n",
      " 40  40      1797 non-null   float64\n",
      " 41  41      1797 non-null   float64\n",
      " 42  42      1797 non-null   float64\n",
      " 43  43      1797 non-null   float64\n",
      " 44  44      1797 non-null   float64\n",
      " 45  45      1797 non-null   float64\n",
      " 46  46      1797 non-null   float64\n",
      " 47  47      1797 non-null   float64\n",
      " 48  48      1797 non-null   float64\n",
      " 49  49      1797 non-null   float64\n",
      " 50  50      1797 non-null   float64\n",
      " 51  51      1797 non-null   float64\n",
      " 52  52      1797 non-null   float64\n",
      " 53  53      1797 non-null   float64\n",
      " 54  54      1797 non-null   float64\n",
      " 55  55      1797 non-null   float64\n",
      " 56  56      1797 non-null   float64\n",
      " 57  57      1797 non-null   float64\n",
      " 58  58      1797 non-null   float64\n",
      " 59  59      1797 non-null   float64\n",
      " 60  60      1797 non-null   float64\n",
      " 61  61      1797 non-null   float64\n",
      " 62  62      1797 non-null   float64\n",
      " 63  63      1797 non-null   float64\n",
      "dtypes: float64(64)\n",
      "memory usage: 898.6 KB\n"
     ]
    }
   ],
   "source": [
    "pd_file_data.info()"
   ]
  },
  {
   "cell_type": "code",
   "execution_count": 95,
   "id": "8cecd547",
   "metadata": {},
   "outputs": [
    {
     "name": "stdout",
     "output_type": "stream",
     "text": [
      "0   [0.]\n",
      "1   [0. 2. 5. 1. 6. 3. 4. 7. 8.]\n",
      "2   [ 5.  0.  7. 12.  9. 11.  1. 10.  6.  3.  8.  2. 13. 15.  4. 14. 16.]\n",
      "3   [13. 12.  4. 15.  1. 10.  8. 14.  9.  0.  7.  2. 16. 11.  5.  3.  6.]\n",
      "4   [ 9. 13. 15. 11.  0.  8. 14.  1. 16.  4.  5. 12.  7. 10.  2.  6.  3.]\n",
      "5   [ 1.  5. 12.  0. 16. 11. 13.  9. 10.  7. 14.  2.  3.  8.  6.  4. 15.]\n",
      "6   [ 0. 15.  1.  3.  2.  4. 11.  5.  6.  8. 10.  7. 13. 16.  9. 14. 12.]\n",
      "7   [ 0.  1. 10. 11.  2.  7.  3.  6. 13.  5. 12.  4.  9. 14.  8. 15.]\n",
      "8   [0. 1. 2.]\n",
      "9   [ 0.  8.  2.  4. 11.  3.  1.  5.  7.  6.  9. 12. 10. 13. 14. 16. 15.]\n",
      "10   [13.  0.  3. 14.  5.  7. 12. 16. 11. 15.  1.  9.  8. 10.  6.  4.  2.]\n",
      "11   [15. 11. 16.  6.  7. 14.  5.  8. 12. 10.  4. 13.  2.  9.  3.  1.  0.]\n",
      "12   [10. 16. 15.  8.  4. 14.  7.  9. 13. 12. 11.  6.  5.  0.  3.  2.  1.]\n",
      "13   [15.  9. 14.  4.  0. 11. 12. 13. 16.  1.  7.  2.  6.  8.  3.  5. 10.]\n",
      "14   [ 5.  0. 12.  6.  2.  8.  1. 11.  3.  7.  4.  9. 15. 10. 16. 14. 13.]\n",
      "15   [ 0.  3.  2.  5.  8.  6.  9.  1.  7. 12. 10.  4. 11.]\n",
      "16   [0. 1. 2.]\n",
      "17   [ 3.  0.  2.  8.  5.  4.  1.  6.  7.  9. 14. 10. 12. 11. 16. 15. 13.]\n",
      "18   [15.  3.  8.  1. 13.  0.  9. 16. 10. 14.  4. 12.  5.  7.  6. 11.  2.]\n",
      "19   [ 2. 15. 13. 16.  0. 10. 12. 14.  1.  6. 11.  9.  7.  8.  4.  5.  3.]\n",
      "20   [ 0. 16.  8. 13.  6. 15.  3. 10. 12. 14.  1.  7.  2. 11.  5.  9.  4.]\n",
      "21   [11.  6. 16.  0.  2. 10. 13. 15. 14.  9. 12.  3.  8.  4.  5.  7.  1.]\n",
      "22   [ 8.  0.  2.  1.  4.  9.  3. 11.  7. 10.  6. 12.  5. 16. 14. 15. 13.]\n",
      "23   [0. 1. 2. 3. 5. 4. 6. 8.]\n",
      "24   [0. 1.]\n",
      "25   [ 4.  7.  0.  1.  2.  8.  5.  3.  9.  6. 10. 15. 11. 12. 14. 13.]\n",
      "26   [12. 15.  1.  2.  7. 11. 14.  8.  3. 16. 10.  0.  6. 13.  9.  4.  5.]\n",
      "27   [ 0. 16.  6. 15. 13.  8.  1.  4. 11.  7.  5. 12.  2.  9.  3. 10. 14.]\n",
      "28   [ 0. 16. 15. 11. 12. 14.  1.  2. 10.  5.  7.  4. 13.  9.  8.  6.  3.]\n",
      "29   [ 8.  2. 11.  1.  9.  7.  0. 15. 14. 12. 16. 10. 13.  6.  5.  3.  4.]\n",
      "30   [ 8.  0.  6.  2.  1.  5. 10. 11.  4.  3.  9.  7. 14. 15. 12. 13.]\n",
      "31   [0. 1.]\n",
      "32   [0.]\n",
      "33   [ 5.  0.  1.  2.  4.  3.  9.  6.  8. 12.  7. 10. 11. 13. 14.]\n",
      "34   [ 8.  1.  0. 16. 15. 11.  4. 13. 12.  2.  6.  7.  3. 14. 10.  9.  5.]\n",
      "35   [ 0. 16. 13.  1. 10.  4. 12. 15. 14.  2.  6.  9.  5.  3. 11.  8.  7.]\n",
      "36   [ 0. 16. 15. 12.  7.  9. 14.  4. 13. 11.  5.  2.  8. 10.  6.  3.  1.]\n",
      "37   [ 9.  3.  1. 12. 16.  2.  4. 15.  8. 11.  0. 13. 14.  5.  6.  7. 10.]\n",
      "38   [ 8.  0.  1.  6.  7.  2.  5. 12.  3.  4.  9. 10. 11. 13. 14.]\n",
      "39   [0.]\n",
      "40   [0. 2. 4. 1. 3.]\n",
      "41   [ 4.  0.  9.  3.  1.  8.  2.  6.  7.  5. 11. 12. 10. 13. 14. 16. 15.]\n",
      "42   [11.  1. 16.  0. 15. 13. 10.  8. 12.  3.  5. 14.  9.  2.  4.  6.  7.]\n",
      "43   [ 0. 16.  8.  3.  5.  6. 15. 12.  1.  9. 10.  2. 14. 11.  7. 13.  4.]\n",
      "44   [ 1. 16.  5. 13.  4. 10.  0. 15.  2.  9. 14. 12. 11.  6.  7.  8.  3.]\n",
      "45   [12.  6.  0. 10. 16. 13.  9. 11. 15. 14.  3.  8.  5.  2.  7.  1.  4.]\n",
      "46   [ 7.  0.  8.  1.  9.  3.  2. 11.  4. 14.  6. 10. 12. 16.  5. 13. 15.]\n",
      "47   [0. 1. 2. 4. 3. 6. 5.]\n",
      "48   [0. 3. 1. 8.]\n",
      "49   [ 2.  0.  3.  1.  4.  5.  6.  9.  8.  7. 10. 11. 16. 15. 13.]\n",
      "50   [14.  1. 13.  8.  0.  5.  7.  9. 15. 12.  3. 10.  4. 16.  6.  2. 11.]\n",
      "51   [ 5. 16.  4.  3. 15.  1.  0. 12.  6. 14. 10.  2.  8.  9.  7. 13. 11.]\n",
      "52   [10. 16.  5. 15. 12. 11.  1.  3.  9. 13. 14.  4.  8.  6.  7.  2.  0.]\n",
      "53   [12.  6. 11. 14. 10. 16. 15.  0.  9.  2.  7.  8.  4.  3. 13.  1.  5.]\n",
      "54   [ 0.  5.  9.  4.  8.  6. 16.  1.  2.  3. 12. 14.  7. 10. 11. 15. 13.]\n",
      "55   [ 0.  2.  4.  1.  3.  6.  5.  8.  9. 10.  7. 13.]\n",
      "56   [0. 1.]\n",
      "57   [0. 2. 4. 1. 3. 5. 9. 6. 8. 7.]\n",
      "58   [ 6.  0.  7.  9.  1. 13. 11.  3. 12. 15.  2. 14.  8. 16.  4. 10.  5.]\n",
      "59   [13. 11.  3.  2. 16.  9.  5. 12. 10.  1.  7. 14. 15.  0.  6.  4.  8.]\n",
      "60   [10. 16. 11. 13. 15.  0.  8.  2.  9.  5. 12.  7.  3.  1.  6.  4. 14.]\n",
      "61   [ 0. 10. 16.  9.  4. 11.  3. 13. 15. 12.  2.  8. 14.  1.  6.  5.  7.]\n",
      "62   [ 0.  9.  3.  1. 12. 11.  4. 13.  7.  5.  2.  6.  8. 10. 15. 16. 14.]\n",
      "63   [ 0.  4.  1.  2.  6.  5. 15.  7. 12. 10.  3.  8. 11.  9. 16. 14. 13.]\n"
     ]
    }
   ],
   "source": [
    "for i in range(0, 64):\n",
    "    print(i, \" \", pd_file_data[i].unique())\n"
   ]
  },
  {
   "cell_type": "code",
   "execution_count": 104,
   "id": "59eb723c",
   "metadata": {},
   "outputs": [],
   "source": [
    "best = datasets.load_iris()\n",
    "\n",
    "iris_data = pd.DataFrame(best.data)\n",
    "iris_target = pd.DataFrame(best.target)"
   ]
  },
  {
   "cell_type": "code",
   "execution_count": 119,
   "id": "ffdfc4d4",
   "metadata": {},
   "outputs": [
    {
     "name": "stdout",
     "output_type": "stream",
     "text": [
      "<class 'pandas.core.frame.DataFrame'>\n",
      "RangeIndex: 150 entries, 0 to 149\n",
      "Data columns (total 1 columns):\n",
      " #   Column  Non-Null Count  Dtype\n",
      "---  ------  --------------  -----\n",
      " 0   0       150 non-null    int32\n",
      "dtypes: int32(1)\n",
      "memory usage: 732.0 bytes\n"
     ]
    }
   ],
   "source": [
    "iris_target.info()"
   ]
  },
  {
   "cell_type": "code",
   "execution_count": 120,
   "id": "490b1874",
   "metadata": {},
   "outputs": [
    {
     "name": "stdout",
     "output_type": "stream",
     "text": [
      "<class 'pandas.core.frame.DataFrame'>\n",
      "RangeIndex: 1797 entries, 0 to 1796\n",
      "Data columns (total 64 columns):\n",
      " #   Column  Non-Null Count  Dtype  \n",
      "---  ------  --------------  -----  \n",
      " 0   0       1797 non-null   float64\n",
      " 1   1       1797 non-null   float64\n",
      " 2   2       1797 non-null   float64\n",
      " 3   3       1797 non-null   float64\n",
      " 4   4       1797 non-null   float64\n",
      " 5   5       1797 non-null   float64\n",
      " 6   6       1797 non-null   float64\n",
      " 7   7       1797 non-null   float64\n",
      " 8   8       1797 non-null   float64\n",
      " 9   9       1797 non-null   float64\n",
      " 10  10      1797 non-null   float64\n",
      " 11  11      1797 non-null   float64\n",
      " 12  12      1797 non-null   float64\n",
      " 13  13      1797 non-null   float64\n",
      " 14  14      1797 non-null   float64\n",
      " 15  15      1797 non-null   float64\n",
      " 16  16      1797 non-null   float64\n",
      " 17  17      1797 non-null   float64\n",
      " 18  18      1797 non-null   float64\n",
      " 19  19      1797 non-null   float64\n",
      " 20  20      1797 non-null   float64\n",
      " 21  21      1797 non-null   float64\n",
      " 22  22      1797 non-null   float64\n",
      " 23  23      1797 non-null   float64\n",
      " 24  24      1797 non-null   float64\n",
      " 25  25      1797 non-null   float64\n",
      " 26  26      1797 non-null   float64\n",
      " 27  27      1797 non-null   float64\n",
      " 28  28      1797 non-null   float64\n",
      " 29  29      1797 non-null   float64\n",
      " 30  30      1797 non-null   float64\n",
      " 31  31      1797 non-null   float64\n",
      " 32  32      1797 non-null   float64\n",
      " 33  33      1797 non-null   float64\n",
      " 34  34      1797 non-null   float64\n",
      " 35  35      1797 non-null   float64\n",
      " 36  36      1797 non-null   float64\n",
      " 37  37      1797 non-null   float64\n",
      " 38  38      1797 non-null   float64\n",
      " 39  39      1797 non-null   float64\n",
      " 40  40      1797 non-null   float64\n",
      " 41  41      1797 non-null   float64\n",
      " 42  42      1797 non-null   float64\n",
      " 43  43      1797 non-null   float64\n",
      " 44  44      1797 non-null   float64\n",
      " 45  45      1797 non-null   float64\n",
      " 46  46      1797 non-null   float64\n",
      " 47  47      1797 non-null   float64\n",
      " 48  48      1797 non-null   float64\n",
      " 49  49      1797 non-null   float64\n",
      " 50  50      1797 non-null   float64\n",
      " 51  51      1797 non-null   float64\n",
      " 52  52      1797 non-null   float64\n",
      " 53  53      1797 non-null   float64\n",
      " 54  54      1797 non-null   float64\n",
      " 55  55      1797 non-null   float64\n",
      " 56  56      1797 non-null   float64\n",
      " 57  57      1797 non-null   float64\n",
      " 58  58      1797 non-null   float64\n",
      " 59  59      1797 non-null   float64\n",
      " 60  60      1797 non-null   float64\n",
      " 61  61      1797 non-null   float64\n",
      " 62  62      1797 non-null   float64\n",
      " 63  63      1797 non-null   float64\n",
      "dtypes: float64(64)\n",
      "memory usage: 898.6 KB\n"
     ]
    }
   ],
   "source": [
    "pd_file_data.info()"
   ]
  },
  {
   "cell_type": "code",
   "execution_count": 128,
   "id": "7859afff",
   "metadata": {},
   "outputs": [
    {
     "name": "stdout",
     "output_type": "stream",
     "text": [
      "[0 1 2]\n",
      "[0 1 2 3 4 5 6 7 8 9]\n",
      "1\n",
      "3.0    26\n",
      "2.8    14\n",
      "3.2    13\n",
      "3.4    12\n",
      "3.1    11\n",
      "2.9    10\n",
      "2.7     9\n",
      "2.5     8\n",
      "3.5     6\n",
      "3.3     6\n",
      "3.8     6\n",
      "2.6     5\n",
      "2.3     4\n",
      "3.6     4\n",
      "3.7     3\n",
      "2.4     3\n",
      "2.2     3\n",
      "3.9     2\n",
      "4.4     1\n",
      "4.0     1\n",
      "4.1     1\n",
      "4.2     1\n",
      "2.0     1\n",
      "Name: count, dtype: int64\n"
     ]
    }
   ],
   "source": [
    "print(iris_target[0].unique())\n",
    "print(pd_file_taget[0].unique())\n",
    "print(iris_data[1].value_counts())"
   ]
  },
  {
   "cell_type": "code",
   "execution_count": 127,
   "id": "d8dcddb6",
   "metadata": {},
   "outputs": [
    {
     "data": {
      "text/plain": [
       "0      3.5\n",
       "1      3.0\n",
       "2      3.2\n",
       "3      3.1\n",
       "4      3.6\n",
       "      ... \n",
       "145    3.0\n",
       "146    2.5\n",
       "147    3.0\n",
       "148    3.4\n",
       "149    3.0\n",
       "Name: 1, Length: 150, dtype: float64"
      ]
     },
     "execution_count": 127,
     "metadata": {},
     "output_type": "execute_result"
    }
   ],
   "source": [
    "iris_data[1]"
   ]
  }
 ],
 "metadata": {
  "kernelspec": {
   "display_name": "Python 3 (ipykernel)",
   "language": "python",
   "name": "python3"
  },
  "language_info": {
   "codemirror_mode": {
    "name": "ipython",
    "version": 3
   },
   "file_extension": ".py",
   "mimetype": "text/x-python",
   "name": "python",
   "nbconvert_exporter": "python",
   "pygments_lexer": "ipython3",
   "version": "3.11.5"
  }
 },
 "nbformat": 4,
 "nbformat_minor": 5
}
