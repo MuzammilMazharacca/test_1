{
 "cells": [
  {
   "cell_type": "code",
   "execution_count": 1,
   "id": "fc20d017",
   "metadata": {},
   "outputs": [],
   "source": [
    "import csv\n",
    "data = list(csv.reader(open(\"Store.csv\", encoding = \"UTF - 8\")))"
   ]
  },
  {
   "cell_type": "code",
   "execution_count": null,
   "id": "b27807f5",
   "metadata": {},
   "outputs": [],
   "source": []
  },
  {
   "cell_type": "code",
   "execution_count": 14,
   "id": "05d14b35",
   "metadata": {},
   "outputs": [],
   "source": [
    "header = data[0]\n",
    "info = data[1:]"
   ]
  },
  {
   "cell_type": "code",
   "execution_count": 15,
   "id": "0f86b007",
   "metadata": {},
   "outputs": [
    {
     "data": {
      "text/plain": [
       "7197"
      ]
     },
     "execution_count": 15,
     "metadata": {},
     "output_type": "execute_result"
    }
   ],
   "source": [
    "len(info)"
   ]
  },
  {
   "cell_type": "code",
   "execution_count": 16,
   "id": "1f7f10f4",
   "metadata": {},
   "outputs": [
    {
     "name": "stdout",
     "output_type": "stream",
     "text": [
      "['id', 'track_name', 'size_bytes', 'currency', 'price', 'rating_count_tot', 'rating_count_ver', 'user_rating', 'user_rating_ver', 'ver', 'cont_rating', 'prime_genre', 'sup_devices.num', 'ipadSc_urls.num', 'lang.num', 'vpp_lic']\n"
     ]
    }
   ],
   "source": [
    "print(header)"
   ]
  },
  {
   "cell_type": "code",
   "execution_count": 17,
   "id": "24b7950a",
   "metadata": {},
   "outputs": [
    {
     "name": "stdout",
     "output_type": "stream",
     "text": [
      "id_freq_table items count = 7197\n",
      "track_name items count = 7195\n",
      "size_bytes items count = 7107\n",
      "currency items count = 1\n",
      "price items count = 36\n",
      "rating_count_tot items count = 3185\n",
      "rating_count_ver items count = 1138\n",
      "{'Social Networking': 167, 'Photo & Video': 349, 'Games': 3862, 'Music': 138, 'Reference': 64, 'Health & Fitness': 180, 'Weather': 72, 'Utilities': 248, 'Travel': 81, 'Shopping': 122, 'News': 75, 'Navigation': 46, 'Lifestyle': 144, 'Entertainment': 535, 'Food & Drink': 63, 'Sports': 114, 'Book': 112, 'Finance': 104, 'Education': 453, 'Productivity': 178, 'Business': 57, 'Catalogs': 10, 'Medical': 23}\n"
     ]
    }
   ],
   "source": [
    "id_freq_table = {}\n",
    "\n",
    "for i in info:\n",
    "    id_0 = i[0]\n",
    "    if id_0 in id_freq_table:\n",
    "        id_freq_table[id_0] += 1\n",
    "    else:\n",
    "        id_freq_table[id_0] = 1\n",
    "\n",
    "print(\"id_freq_table items count =\",len(id_freq_table))\n",
    "\n",
    "\n",
    "\n",
    "track_name = []\n",
    "\n",
    "for k in info:\n",
    "    track_name_1 = k[1]\n",
    "    if track_name_1 not in track_name:\n",
    "        track_name.append(track_name_1)\n",
    "         \n",
    "print(\"track_name items count =\",len(track_name))\n",
    "\n",
    "\n",
    "\n",
    "size_bytes = {}\n",
    "\n",
    "for l in info:\n",
    "    size_bytes_2 = l[2]\n",
    "    if size_bytes_2 in size_bytes:\n",
    "        size_bytes[size_bytes_2] += 1\n",
    "    else:\n",
    "        size_bytes[size_bytes_2] = 1\n",
    "\n",
    "print(\"size_bytes items count =\",len(size_bytes))\n",
    "\n",
    "\n",
    "\n",
    "currency = []\n",
    "\n",
    "for x in info:\n",
    "    currency_3 = x[3]\n",
    "    currency.append(currency_3)\n",
    "len(set(currency))    \n",
    " \n",
    "print(\"currency items count =\",len(set(currency)))\n",
    "\n",
    "\n",
    "\n",
    "price = {}\n",
    "\n",
    "for r in info:\n",
    "    price_4 = r[4]\n",
    "    if price_4 not in price:\n",
    "        price[price_4] = 1\n",
    "    else:\n",
    "        price[price_4] += 1\n",
    "\n",
    "print(\"price items count =\",len(price))        \n",
    "        \n",
    "\n",
    "\n",
    "rating_count_tot = []\n",
    "count = 0\n",
    "for c in info:\n",
    "    rating_count_tot_5 = c[5]\n",
    "    if rating_count_tot_5 not in rating_count_tot:\n",
    "        rating_count_tot.append(rating_count_tot_5)\n",
    "\n",
    "print(\"rating_count_tot items count =\",len(rating_count_tot))  \n",
    "\n",
    "\n",
    "\n",
    "rating_count_ver = []\n",
    "\n",
    "for q in info:\n",
    "    rating_count_ver_6 = q[6]\n",
    "    rating_count_ver.append(rating_count_ver_6)\n",
    "\n",
    "print(\"rating_count_ver items count =\",len(set(rating_count_ver)))  \n",
    " \n",
    "\n",
    "    \n",
    "prime_genre = {}\n",
    "\n",
    "for p in info:\n",
    "    prime_genre_11 = p[11]\n",
    "    if prime_genre_11 in prime_genre:\n",
    "        prime_genre[prime_genre_11] += 1\n",
    "    else:\n",
    "        prime_genre[prime_genre_11] = 1\n",
    "print(prime_genre)    "
   ]
  },
  {
   "cell_type": "code",
   "execution_count": 18,
   "id": "42c74aef",
   "metadata": {},
   "outputs": [
    {
     "name": "stdout",
     "output_type": "stream",
     "text": [
      "{'0.0': 4056, '1.99': 621, '0.99': 728, '6.99': 166, '2.99': 683, '7.99': 33, '4.99': 394, '9.99': 81, '3.99': 277, '8.99': 9, '5.99': 52, '14.99': 21, '13.99': 6, '19.99': 13, '17.99': 3, '15.99': 4, '24.99': 8, '20.99': 2, '29.99': 6, '12.99': 5, '39.99': 2, '74.99': 1, '16.99': 2, '249.99': 1, '11.99': 6, '27.99': 2, '49.99': 2, '59.99': 3, '22.99': 2, '18.99': 1, '99.99': 1, '21.99': 1, '34.99': 1, '299.99': 1, '23.99': 2, '47.99': 1}\n",
      "\n",
      "\n",
      "[0.0, 1.99, 0.99, 6.99, 2.99, 7.99, 4.99, 9.99, 3.99, 8.99, 5.99, 14.99, 13.99, 19.99, 17.99, 15.99, 24.99, 20.99, 29.99, 12.99, 39.99, 74.99, 16.99, 249.99, 11.99, 27.99, 49.99, 59.99, 22.99, 18.99, 99.99, 21.99, 34.99, 299.99, 23.99, 47.99]\n",
      "\n",
      "1329.65\n",
      "\n",
      "\n",
      "[4056, 621, 728, 166, 683, 33, 394, 81, 277, 9, 52, 21, 6, 13, 3, 4, 8, 2, 6, 5, 2, 1, 2, 1, 6, 2, 2, 3, 2, 1, 1, 1, 1, 1, 2, 1]\n",
      "\n",
      "7197\n"
     ]
    }
   ],
   "source": [
    "print(price)\n",
    "\n",
    "key = []\n",
    "for i in price.keys():\n",
    "        key.append(float(i))\n",
    "print(\"\"\"\n",
    "\"\"\")        \n",
    "print(key)\n",
    "\n",
    "print(\"\"\"\"\"\")\n",
    "print(sum(key))\n",
    "\n",
    "\n",
    "value = []\n",
    "for i in price.values():\n",
    "        value.append(int(i))\n",
    "print(\"\"\"\n",
    "\"\"\")        \n",
    "print(value)\n",
    "\n",
    "print(\"\"\"\"\"\")\n",
    "print(sum(value))"
   ]
  },
  {
   "cell_type": "code",
   "execution_count": 19,
   "id": "cc14473b",
   "metadata": {},
   "outputs": [
    {
     "name": "stdout",
     "output_type": "stream",
     "text": [
      "0.0 free\n",
      "0.0 free\n",
      "0.0 free\n",
      "0.0 free\n",
      "0.0 free\n",
      "0.0 free\n",
      "0.0 free\n",
      "0.0 free\n",
      "0.0 free\n",
      "0.0 free\n",
      "0.0 free\n",
      "1.99 affordable\n",
      "0.0 free\n",
      "0.0 free\n",
      "0.0 free\n",
      "0.0 free\n",
      "0.0 free\n",
      "0.99 affordable\n",
      "6.99 affordable\n",
      "0.0 free\n",
      "{'free': 4056, 'affordable': 3105, 'expensive': 29, 'most expensive': 7}\n",
      "freeSocial Networking\n",
      "freePhoto & Video\n",
      "freeGames\n",
      "freeGames\n",
      "freeMusic\n",
      "freeSocial Networking\n",
      "freeReference\n",
      "freeGames\n",
      "freeMusic\n",
      "freeGames\n",
      "freeGames\n",
      "affordableGames\n",
      "freeGames\n",
      "freeGames\n",
      "freeGames\n",
      "freeGames\n",
      "freeGames\n",
      "affordableGames\n",
      "affordableGames\n",
      "freeGames\n"
     ]
    }
   ],
   "source": [
    "import csv\n",
    "\n",
    "store = list(csv.reader(open(\"Store.csv\", encoding = \"Latin - 1\")))\n",
    "\n",
    "for w in store[1:]:\n",
    "    price__4 = float(w[4])\n",
    "    if price__4 == 0:\n",
    "        w.append(\"free\")\n",
    "    elif price__4 <= 20:\n",
    "        w.append(\"affordable\")\n",
    "    elif price__4 <=50:\n",
    "        w.append(\"expensive\")\n",
    "    else:\n",
    "        w.append(\"most expensive\")\n",
    "\n",
    "for i in range(1,21):\n",
    "    print(store[i][4],store[i][-1])        \n",
    "        \n",
    "price__frq_table = {}\n",
    "\n",
    "for v in store[1:]:\n",
    "    if v[-1] not in price__frq_table:\n",
    "        price__frq_table[v[-1]] = 1\n",
    "    else:\n",
    "        price__frq_table[v[-1]] +=1\n",
    "print(price__frq_table)\n",
    "        \n",
    "\n",
    "\n",
    "for u in store:\n",
    "    cat_genre = u[-1]+u[11]\n",
    "    u.append(cat_genre)\n",
    "\n",
    "for i in range(1,21):\n",
    "    print(store[i][-1])   "
   ]
  },
  {
   "cell_type": "code",
   "execution_count": 20,
   "id": "faf2c0ec",
   "metadata": {},
   "outputs": [
    {
     "name": "stdout",
     "output_type": "stream",
     "text": [
      "143 2257 24 1602\n",
      "143 2257 24 1602\n"
     ]
    }
   ],
   "source": [
    "## free or affordable and social networking or games\n",
    "\n",
    "free_social_networking = 0\n",
    "free_games = 0\n",
    "affordable_Social_networking = 0\n",
    "affordable_games = 0\n",
    "\n",
    "for y in store[1:]:\n",
    "    free_afford = y[-2]\n",
    "    social_games = y[11]\n",
    "    if free_afford == \"free\" and social_games == \"Social Networking\":\n",
    "        free_social_networking += 1\n",
    "    elif free_afford == \"free\" and social_games == \"Games\":\n",
    "        free_games += 1\n",
    "    elif free_afford == \"affordable\" and social_games == \"Social Networking\":\n",
    "        affordable_Social_networking += 1\n",
    "    elif free_afford == \"affordable\" and social_games == \"Games\":\n",
    "        affordable_games += 1\n",
    "\n",
    "print(free_social_networking , free_games, affordable_Social_networking, affordable_games)  \n",
    "\n",
    "more_fretab = {}\n",
    "\n",
    "for m in store[1:]:\n",
    "    if m[-1] not in more_fretab:\n",
    "        more_fretab[m[-1]] = 1\n",
    "    else:\n",
    "        more_fretab[m[-1]] += 1\n",
    "\n",
    "print(more_fretab[\"freeSocial Networking\"],more_fretab[\"freeGames\"],more_fretab[\"affordableSocial Networking\"],more_fretab[\"affordableGames\"])        "
   ]
  },
  {
   "cell_type": "markdown",
   "id": "91f874c9",
   "metadata": {},
   "source": [
    "# Function\n",
    "\n",
    "\n"
   ]
  },
  {
   "cell_type": "code",
   "execution_count": 21,
   "id": "2f7247f9",
   "metadata": {},
   "outputs": [],
   "source": [
    "# header\n",
    "# body\n",
    "# return"
   ]
  },
  {
   "cell_type": "code",
   "execution_count": 22,
   "id": "5e77e793",
   "metadata": {},
   "outputs": [],
   "source": [
    "def add(x):\n",
    "    plus = 0\n",
    "    for i in x:\n",
    "        plus += i\n",
    "    return plus    \n"
   ]
  },
  {
   "cell_type": "code",
   "execution_count": 23,
   "id": "68cb052c",
   "metadata": {},
   "outputs": [
    {
     "data": {
      "text/plain": [
       "45"
      ]
     },
     "execution_count": 23,
     "metadata": {},
     "output_type": "execute_result"
    }
   ],
   "source": [
    "add(range(1,10))"
   ]
  },
  {
   "cell_type": "code",
   "execution_count": 24,
   "id": "b8fba7f7",
   "metadata": {},
   "outputs": [
    {
     "name": "stdout",
     "output_type": "stream",
     "text": [
      "[1, 2, 3, 4, 5, 6, 7, 8, 9, 10]\n"
     ]
    },
    {
     "data": {
      "text/plain": [
       "55"
      ]
     },
     "execution_count": 24,
     "metadata": {},
     "output_type": "execute_result"
    }
   ],
   "source": [
    "numn = range(1,11)\n",
    "num = []\n",
    "for o in numn:\n",
    "    num.append(o)\n",
    "print(num)\n",
    "    \n",
    "add(num)"
   ]
  },
  {
   "cell_type": "code",
   "execution_count": 25,
   "id": "0501a8e4",
   "metadata": {},
   "outputs": [],
   "source": [
    "def power(n,p):\n",
    "    calc = n**p\n",
    "    return calc"
   ]
  },
  {
   "cell_type": "code",
   "execution_count": 26,
   "id": "2d31c11a",
   "metadata": {},
   "outputs": [],
   "source": [
    "def gen_freq(data_x,index):\n",
    "    count_table = {}\n",
    "    for row in data_x:\n",
    "        if row[index] not in count_table:\n",
    "            count_table[row[index]] = 1\n",
    "        else:\n",
    "            count_table[row[index]] += 1\n",
    "    return count_table        \n",
    "            \n",
    "         \n",
    "\n"
   ]
  },
  {
   "cell_type": "code",
   "execution_count": 27,
   "id": "440935a9",
   "metadata": {},
   "outputs": [
    {
     "data": {
      "text/plain": [
       "{'Social Networking': 167,\n",
       " 'Photo & Video': 349,\n",
       " 'Games': 3862,\n",
       " 'Music': 138,\n",
       " 'Reference': 64,\n",
       " 'Health & Fitness': 180,\n",
       " 'Weather': 72,\n",
       " 'Utilities': 248,\n",
       " 'Travel': 81,\n",
       " 'Shopping': 122,\n",
       " 'News': 75,\n",
       " 'Navigation': 46,\n",
       " 'Lifestyle': 144,\n",
       " 'Entertainment': 535,\n",
       " 'Food & Drink': 63,\n",
       " 'Sports': 114,\n",
       " 'Book': 112,\n",
       " 'Finance': 104,\n",
       " 'Education': 453,\n",
       " 'Productivity': 178,\n",
       " 'Business': 57,\n",
       " 'Catalogs': 10,\n",
       " 'Medical': 23}"
      ]
     },
     "execution_count": 27,
     "metadata": {},
     "output_type": "execute_result"
    }
   ],
   "source": [
    "gen_freq(store[1:],11)"
   ]
  },
  {
   "cell_type": "code",
   "execution_count": 28,
   "id": "1631c698",
   "metadata": {},
   "outputs": [],
   "source": [
    "def appended_key(data_y,index,r1,r2,r3,r4,r5):\n",
    "    for k in data_y:\n",
    "        if float(k[index]) <= float(r1):\n",
    "            k.append(\"<=\"+r1)\n",
    "        elif float(k[index]) <= float(r2):\n",
    "            k.append(\"<=\"+r2)\n",
    "        elif float(k[index]) <= float(r3):\n",
    "            k.append(\"<=\"+r3)\n",
    "        elif float(k[index]) <= float(r4):\n",
    "            k.append(\"<=\"+r4)\n",
    "        elif float(k[index]) <= float(r5):\n",
    "            k.append(\"<=\"+r5)\n",
    "        elif float(k[index]) > float(r5):\n",
    "            k.append(\"above\"+r5)\n",
    "    general = {}\n",
    "    for g in data_y:\n",
    "        if g[-1] not in general:\n",
    "            general[g[-1]] = 1\n",
    "        else:\n",
    "            general[g[-1]] += 1\n",
    "    return general\n",
    "            "
   ]
  },
  {
   "cell_type": "code",
   "execution_count": 29,
   "id": "ec6e55ee",
   "metadata": {},
   "outputs": [
    {
     "data": {
      "text/plain": [
       "{'above1000000': 6,\n",
       " '<=1000000': 16,\n",
       " '<=500000': 196,\n",
       " '<=100000': 798,\n",
       " '<=10000': 1584,\n",
       " '<=1000': 4597}"
      ]
     },
     "execution_count": 29,
     "metadata": {},
     "output_type": "execute_result"
    }
   ],
   "source": [
    "import csv\n",
    "store = list(csv.reader(open(\"Store.csv\", encoding = \"UTF - 8\")))\n",
    "\n",
    "appended_key(store[1:],5,'1000','10000','100000','500000','1000000')"
   ]
  },
  {
   "cell_type": "code",
   "execution_count": 30,
   "id": "08d49671",
   "metadata": {},
   "outputs": [
    {
     "name": "stdout",
     "output_type": "stream",
     "text": [
      "0.0   free\n",
      "0.0   free\n",
      "0.0   free\n",
      "0.0   free\n",
      "0.0   free\n",
      "0.0   free\n",
      "0.0   free\n",
      "0.0   free\n",
      "0.0   free\n",
      "0.99   affordable\n"
     ]
    }
   ],
   "source": [
    "import csv\n",
    "\n",
    "store_1 = list(csv.reader(open(\"Store.csv\", encoding = \"Latin - 1\")))\n",
    "\n",
    "header_office_1 = store_1[0]\n",
    "data_office_1 = store_1[1:]\n",
    "\n",
    "header_office_1.append(\"price_cat\")\n",
    "\n",
    "for i in data_office_1:\n",
    "    price_4 = float(i[4])\n",
    "    if price_4 == 0:\n",
    "        i.append(\"free\")\n",
    "    elif price_4 <= 20:\n",
    "        i.append(\"affordable\")\n",
    "    elif price_4 <= 50:\n",
    "        i.append(\"expensive\")\n",
    "    elif price_4 > 50:\n",
    "        i.append(\"most expensive\")\n",
    "\n",
    "for i in range(20,30):\n",
    "    print(store_1[i][4],\" \",store_1[i][-1])\n",
    "    "
   ]
  },
  {
   "cell_type": "code",
   "execution_count": 31,
   "id": "33b07e1a",
   "metadata": {},
   "outputs": [
    {
     "name": "stdout",
     "output_type": "stream",
     "text": [
      "0.0   free\n",
      "0.0   free\n",
      "0.0   free\n",
      "0.0   free\n",
      "0.0   free\n",
      "0.0   free\n",
      "0.0   free\n",
      "0.0   free\n",
      "0.0   free\n",
      "0.99   affordable\n"
     ]
    }
   ],
   "source": [
    "import csv\n",
    "store_2 = list(csv.reader(open(\"Store.csv\", encoding = \"UTF - 8\")))\n",
    "header_office_2 = store_2[0]\n",
    "data_office_2 = store_2[1:]\n",
    "\n",
    "price_cat = [\"price_cat\"]\n",
    "\n",
    "for i in data_office_2:\n",
    "    price_4 = float(i[4])\n",
    "    if price_4 == 0:\n",
    "        price_cat.append(\"free\")\n",
    "    elif price_4 <= 20:\n",
    "        price_cat.append(\"affordable\")\n",
    "    elif price_4 <= 50:\n",
    "        price_cat.append(\"expensive\")\n",
    "    elif price_4 > 50:\n",
    "        price_cat.append(\"most expensive\")\n",
    "        \n",
    "index = 0       \n",
    "for i in store_2:\n",
    "    store_2[index].append(price_cat[index])\n",
    "    index += 1\n",
    "\n",
    "for i in range(20,30):\n",
    "    print(store_2[i][4],\" \",store_2[i][-1])\n"
   ]
  },
  {
   "cell_type": "code",
   "execution_count": 32,
   "id": "e579c243",
   "metadata": {},
   "outputs": [
    {
     "name": "stdout",
     "output_type": "stream",
     "text": [
      "['a', 1]\n",
      "['b', 2]\n",
      "['c', 3]\n",
      "\n",
      "['x', 8]\n",
      "['y', 9]\n",
      "['z', 0]\n",
      "\n",
      "['q', 4]\n",
      "['w', 5]\n",
      "['e', 6]\n",
      "['a', 1]\n",
      "['b', 2]\n",
      "['c', 3]\n",
      "['x', 8]\n",
      "['y', 9]\n",
      "['z', 0]\n",
      "['q', 4]\n",
      "['w', 5]\n",
      "['e', 6]\n"
     ]
    }
   ],
   "source": [
    "abc = [[\"a\",\"b\",\"c\"],[\"x\",\"y\",\"z\"],[\"q\",\"w\",\"e\"]]\n",
    "abc_1 = [[1,2,3],[8,9,0],[4,5,6]]\n",
    "\n",
    "    \n",
    "    \n",
    "print([abc[0][0],abc_1[0][0]])\n",
    "print([abc[0][1],abc_1[0][1]])\n",
    "print([abc[0][2],abc_1[0][2]])\n",
    "print(\"\")\n",
    "print([abc[1][0],abc_1[1][0]])\n",
    "print([abc[1][1],abc_1[1][1]])\n",
    "print([abc[1][2],abc_1[1][2]])\n",
    "print(\"\")\n",
    "print([abc[2][0],abc_1[2][0]])\n",
    "print([abc[2][1],abc_1[2][1]])\n",
    "print([abc[2][2],abc_1[2][2]])\n",
    "\n",
    "\n",
    "for i in range(0,3):\n",
    "    for w in range(0,3):\n",
    "        print([abc[i][w],abc_1[i][w]])\n",
    "    \n",
    "    \n",
    " \n",
    "      "
   ]
  },
  {
   "cell_type": "code",
   "execution_count": 33,
   "id": "adb8f3b7",
   "metadata": {},
   "outputs": [
    {
     "name": "stdout",
     "output_type": "stream",
     "text": [
      "[[0, 0], [0, 1], [0, 2], [1, 0], [1, 1], [1, 2], [2, 0], [2, 1], [2, 2]]\n"
     ]
    }
   ],
   "source": [
    "\n",
    "ultimate = []\n",
    "for i in range(0,3):\n",
    "    for a in range(0,3):\n",
    "        ultimate.append([i,a])\n",
    "print(ultimate)        "
   ]
  },
  {
   "cell_type": "code",
   "execution_count": 34,
   "id": "c768870e",
   "metadata": {},
   "outputs": [
    {
     "data": {
      "text/plain": [
       "['a', 1]"
      ]
     },
     "execution_count": 34,
     "metadata": {},
     "output_type": "execute_result"
    }
   ],
   "source": [
    "st = 'a'\n",
    "nd = 1\n",
    "\n",
    "ww = [st,nd]\n",
    "\n",
    "ww"
   ]
  },
  {
   "cell_type": "code",
   "execution_count": 35,
   "id": "94f70f09",
   "metadata": {},
   "outputs": [
    {
     "name": "stdout",
     "output_type": "stream",
     "text": [
      "[['price', 'price_cat'], ['0.0', 'free'], ['0.0', 'free'], ['0.0', 'free'], ['0.0', 'free'], ['0.0', 'free'], ['0.0', 'free'], ['0.0', 'free'], ['0.0', 'free'], ['0.0', 'free'], ['0.0', 'free']]\n",
      "\n",
      "[['price', 'price_cat'], ['0.0', 'free'], ['0.0', 'free'], ['0.0', 'free'], ['0.0', 'free'], ['0.0', 'free'], ['0.0', 'free'], ['0.0', 'free'], ['0.0', 'free'], ['0.0', 'free'], ['0.0', 'free']]\n"
     ]
    }
   ],
   "source": [
    "store_1_ = []\n",
    "store_2_ = []\n",
    "\n",
    "for i in store_1:\n",
    "    pr_1 = i[4]\n",
    "    p_cat_1 = i[-1]\n",
    "    store_1_.append([pr_1,p_cat_1])\n",
    "print(store_1_[0:11])  \n",
    "print(\"\")\n",
    "for i in store_1:\n",
    "    pr_2 = i[4]\n",
    "    p_cat_2 = i[-1]\n",
    "    store_2_.append([pr_2,p_cat_2])\n",
    "print(store_2_[0:11])    "
   ]
  },
  {
   "cell_type": "code",
   "execution_count": 36,
   "id": "6965d7df",
   "metadata": {},
   "outputs": [
    {
     "name": "stdout",
     "output_type": "stream",
     "text": [
      "['price', '0.0', '0.0', '0.0', '0.0', '0.0', '0.0', '0.0', '0.0', '0.0', '0.0']\n",
      "['price_cat', 'free', 'free', 'free', 'free', 'free', 'free', 'free', 'free', 'free', 'free']\n"
     ]
    }
   ],
   "source": [
    "new_price= []\n",
    "new_price_cat = []\n",
    "\n",
    "for i in store_1_[0:11]:\n",
    "    new_price.append(i[0])\n",
    "    new_price_cat.append(i[1])\n",
    "print(new_price)\n",
    "print(new_price_cat)\n",
    "    \n",
    "    "
   ]
  },
  {
   "cell_type": "code",
   "execution_count": 37,
   "id": "e1c20208",
   "metadata": {},
   "outputs": [
    {
     "name": "stdout",
     "output_type": "stream",
     "text": [
      "[['True_1', 'True_2'], ['True_1', 'True_2'], ['True_1', 'True_2'], ['True_1', 'True_2'], ['True_1', 'True_2'], ['True_1', 'True_2'], ['True_1', 'True_2'], ['True_1', 'True_2'], ['True_1', 'True_2'], ['True_1', 'True_2'], ['True_1', 'True_2']]\n",
      "\n",
      "\n",
      "['True_1', 'True_1', 'True_1', 'True_1', 'True_1', 'True_1', 'True_1', 'True_1', 'True_1', 'True_1', 'True_1']\n",
      "['True_2', 'True_2', 'True_2', 'True_2', 'True_2', 'True_2', 'True_2', 'True_2', 'True_2', 'True_2', 'True_2']\n"
     ]
    }
   ],
   "source": [
    "trfe = []\n",
    "for i in range(0,11):\n",
    "    if store_1_[i][0] == store_2_[i][0]:\n",
    "        trfe.append(\"True_1\")\n",
    "    if store_1_[i][1] == store_2_[i][1]:\n",
    "        trfe.append(\"True_2\")\n",
    "\n",
    "col_1=[]\n",
    "col_2=[]\n",
    "for i in range(0,22):\n",
    "    if i%2 == 0:\n",
    "        col_1.append(trfe[i])\n",
    "    else:\n",
    "        col_2.append(trfe[i])\n",
    "        \n",
    "com_col = []\n",
    "for i in range(0,11):\n",
    "    com_col.append([col_1[i],col_2[i]])\n",
    "    \n",
    "    \n",
    "       \n",
    "print(com_col)\n",
    "\n",
    "print(\"\"\"\n",
    "\"\"\")\n",
    "true_1 = []\n",
    "true_2 = []\n",
    "for i in range(0,11):\n",
    "    tr_1 = com_col[i].index('True_1')\n",
    "    tr_2 = com_col[i].index('True_2')\n",
    "    true_1.append(com_col[i][tr_1])\n",
    "    true_2.append(com_col[i][tr_2])\n",
    "\n",
    "print(true_1)\n",
    "print(true_2)\n",
    "    "
   ]
  },
  {
   "cell_type": "code",
   "execution_count": 38,
   "id": "552ebc28",
   "metadata": {},
   "outputs": [
    {
     "name": "stdout",
     "output_type": "stream",
     "text": [
      "4056 3105 29 7\n",
      "4056 3105 29 7\n",
      "4056 3105 29 7\n"
     ]
    }
   ],
   "source": [
    "free = 0\n",
    "affordable = 0\n",
    "expensive = 0\n",
    "most_expensive = 0\n",
    "\n",
    "for i in store_1[1:]:\n",
    "    price_category = i[-1]\n",
    "    if price_category == \"free\":\n",
    "        free += 1\n",
    "    elif price_category == \"affordable\":\n",
    "        affordable += 1\n",
    "    elif price_category == \"expensive\":\n",
    "        expensive += 1\n",
    "    elif price_category == \"most expensive\":\n",
    "        most_expensive += 1\n",
    "print(free, affordable, expensive, most_expensive) \n",
    "\n",
    "\n",
    "free_1 = []\n",
    "affordable_1 = []\n",
    "expensive_1 = []\n",
    "most_expensive_1 = []\n",
    "\n",
    "for i in store_2[1:]:\n",
    "    price_category_1 = i[-1]\n",
    "    if price_category_1 == \"free\":\n",
    "        free_1.append(price_category_1)\n",
    "    elif price_category_1 == \"affordable\":\n",
    "        affordable_1.append(price_category_1)\n",
    "    elif price_category_1 == \"expensive\":\n",
    "        expensive_1.append(price_category_1)\n",
    "    elif price_category_1 == \"most expensive\":\n",
    "        most_expensive_1.append(price_category_1)\n",
    "print(len(free_1), len(affordable_1), len(expensive_1), len(most_expensive_1))\n",
    "\n",
    "\n",
    "free_2 = []\n",
    "affordable_2 = []\n",
    "expensive_2 = []\n",
    "most_expensive_2 = []\n",
    "\n",
    "\n",
    "for i in store_1[1:]:\n",
    "    price_cat_2 = i[-1]\n",
    "    if price_cat_2 == \"free\":\n",
    "        free_2.append(1)\n",
    "    elif price_cat_2 == \"affordable\":\n",
    "        affordable_2.append(1)\n",
    "    elif price_cat_2 == \"expensive\":\n",
    "        expensive_2.append(1)\n",
    "    elif price_cat_2 == \"most expensive\":\n",
    "        most_expensive_2.append(1)\n",
    "print(sum(free_2), sum(affordable_2), sum(expensive_2), sum(most_expensive_2))\n"
   ]
  },
  {
   "cell_type": "code",
   "execution_count": 39,
   "id": "77944b69",
   "metadata": {},
   "outputs": [
    {
     "name": "stdout",
     "output_type": "stream",
     "text": [
      "{'upto_5mln': 6, 'upto_1mln': 212, 'upto 100K': 6050, '<= zero': 929}\n",
      "929 6050 212\n"
     ]
    }
   ],
   "source": [
    "id__1 = {}\n",
    "zero = 0\n",
    "upto_100K = 0\n",
    "upto_1mln = 0\n",
    "upto_5mln = 0\n",
    "\n",
    "for i in store[1:]:\n",
    "    col_1 = float(i[5])\n",
    "    if col_1 <= 0:\n",
    "        zero += 1\n",
    "        id__1[\"<= zero\"] = zero\n",
    "    elif col_1 <= 100000:\n",
    "        upto_100K += 1\n",
    "        id__1[\"upto 100K\"] = upto_100K\n",
    "    elif col_1 <= 1000000:\n",
    "        upto_1mln += 1\n",
    "        id__1[\"upto_1mln\"] = upto_1mln\n",
    "    elif col_1 <= 5000000:\n",
    "        upto_5mln += 1\n",
    "        id__1[\"upto_5mln\"] = upto_5mln\n",
    "    elif col_1 > 5000000:\n",
    "        above_5mln += 1\n",
    "        id__1[\"above_5mln\"] = upto_5mln\n",
    "\n",
    "print(id__1)\n",
    "\n",
    "\n",
    "id__2 = {\"zero\":[],\"100K\":[],\"1mln\":[]}\n",
    "\n",
    "for i in store[1:]:\n",
    "    col_1 = float(i[5])\n",
    "    if col_1 <= 0:\n",
    "        id__2[\"zero\"].append(col_1)\n",
    "    elif col_1 <= 100000:\n",
    "        id__2[\"100K\"].append(col_1)\n",
    "    elif col_1 <= 1000000:\n",
    "        id__2[\"1mln\"].append(col_1)\n",
    "\n",
    "print(len(id__2[\"zero\"]),len(id__2[\"100K\"]),len(id__2[\"1mln\"]))\n",
    "\n",
    "\n"
   ]
  },
  {
   "cell_type": "code",
   "execution_count": 40,
   "id": "619edd69",
   "metadata": {},
   "outputs": [
    {
     "name": "stdout",
     "output_type": "stream",
     "text": [
      "{'id': [], 'track_name': [], 'size_bytes': [], 'currency': [], 'price': [], 'rating_count_tot': [], 'rating_count_ver': [], 'user_rating': [], 'user_rating_ver': [], 'ver': [], 'cont_rating': [], 'prime_genre': [], 'sup_devices.num': [], 'ipadSc_urls.num': [], 'lang.num': [], 'vpp_lic': []}\n"
     ]
    }
   ],
   "source": [
    "Maha = {}\n",
    "\n",
    "for i in store[0]:\n",
    "    Maha[i] = list()    \n",
    "    \n",
    "print(Maha)    "
   ]
  },
  {
   "cell_type": "code",
   "execution_count": 41,
   "id": "a08dcfc1",
   "metadata": {},
   "outputs": [],
   "source": [
    "Maha = {}\n",
    "\n",
    "for i in store[0]:\n",
    "    Maha[i] = list() \n",
    "\n",
    "for i in range(1,7198):\n",
    "    Maha[store[0][0]].append(store[i][0])\n",
    "    Maha[store[0][1]].append(store[i][1])\n",
    "    Maha[store[0][2]].append(store[i][2])\n",
    "    Maha[store[0][3]].append(store[i][3])\n",
    "    Maha[store[0][4]].append(store[i][4])\n",
    "    Maha[store[0][5]].append(store[i][5])\n",
    "    Maha[store[0][6]].append(store[i][6])\n",
    "    Maha[store[0][7]].append(store[i][7])\n",
    "    Maha[store[0][8]].append(store[i][8])\n",
    "    Maha[store[0][9]].append(store[i][9])\n",
    "    Maha[store[0][10]].append(store[i][10])\n",
    "    Maha[store[0][11]].append(store[i][11])\n",
    "    Maha[store[0][12]].append(store[i][12])\n",
    "    Maha[store[0][13]].append(store[i][13])\n",
    "    Maha[store[0][14]].append(store[i][14])\n",
    "    Maha[store[0][15]].append(store[i][15])"
   ]
  },
  {
   "cell_type": "code",
   "execution_count": 42,
   "id": "c118bae2",
   "metadata": {},
   "outputs": [
    {
     "name": "stdout",
     "output_type": "stream",
     "text": [
      "0.0 free\n",
      "0.0 free\n",
      "0.0 free\n",
      "0.0 free\n",
      "0.0 free\n",
      "0.0 free\n",
      "0.0 free\n",
      "0.0 free\n",
      "0.0 free\n",
      "0.0 free\n",
      "0.0 free\n",
      "1.99 affordable\n",
      "0.0 free\n",
      "0.0 free\n",
      "0.0 free\n",
      "0.0 free\n",
      "0.0 free\n",
      "0.99 affordable\n",
      "6.99 affordable\n",
      "0.0 free\n",
      "0.0 free\n",
      "0.0 free\n",
      "0.0 free\n",
      "0.0 free\n",
      "0.0 free\n",
      "0.0 free\n",
      "0.0 free\n",
      "0.0 free\n",
      "0.99 affordable\n",
      "0.0 free\n",
      "0.0 free\n"
     ]
    }
   ],
   "source": [
    "Maha['price_category'] = list()\n",
    "\n",
    "for i in Maha['price']:\n",
    "    price_amt = float(i)\n",
    "    if price_amt == 0:\n",
    "        Maha['price_category'].append(\"free\")\n",
    "    elif price_amt <= 20:\n",
    "        Maha['price_category'].append(\"affordable\")\n",
    "    elif price_amt <= 50:\n",
    "        Maha['price_category'].append(\"expensive\")\n",
    "    elif price_amt >50:\n",
    "        Maha['price_category'].append(\"most expensive\")\n",
    "\n",
    "for i in range(0,31):\n",
    "    print(Maha['price'][i],Maha['price_category'][i])\n"
   ]
  },
  {
   "cell_type": "code",
   "execution_count": 43,
   "id": "4132beff",
   "metadata": {},
   "outputs": [
    {
     "name": "stdout",
     "output_type": "stream",
     "text": [
      "0.0   free   2974676   above 1000k\n",
      "0.0   free   2161558   above 1000k\n",
      "0.0   free   2130805   above 1000k\n",
      "0.0   free   1724546   above 1000k\n",
      "0.0   free   1126879   above 1000k\n",
      "0.0   free   1061624   above 1000k\n",
      "0.0   free   985920   500k to 1000k\n",
      "0.0   free   961794   500k to 1000k\n",
      "0.0   free   878563   500k to 1000k\n",
      "0.0   free   824451   500k to 1000k\n",
      "0.0   free   706110   500k to 1000k\n",
      "1.99   affordable   698516   500k to 1000k\n",
      "0.0   free   679055   500k to 1000k\n",
      "0.0   free   677247   500k to 1000k\n",
      "0.0   free   669079   500k to 1000k\n",
      "0.0   free   612532   500k to 1000k\n",
      "0.0   free   567344   500k to 1000k\n",
      "0.99   affordable   541693   500k to 1000k\n",
      "6.99   affordable   522012   500k to 1000k\n",
      "0.0   free   508808   500k to 1000k\n",
      "0.0   free   507706   500k to 1000k\n",
      "0.0   free   503230   500k to 1000k\n",
      "0.0   free   495626   100k to 500k\n",
      "0.0   free   481564   100k to 500k\n",
      "0.0   free   479440   100k to 500k\n",
      "0.0   free   464312   100k to 500k\n",
      "0.0   free   446880   100k to 500k\n",
      "0.0   free   446185   100k to 500k\n",
      "0.99   affordable   426463   100k to 500k\n",
      "0.0   free   418033   100k to 500k\n",
      "0.0   free   417779   100k to 500k\n"
     ]
    }
   ],
   "source": [
    "Maha['rating_count_tot_category'] = list()\n",
    "\n",
    "for i in Maha['rating_count_tot']:\n",
    "    rating_count_tot = float(i)\n",
    "    if rating_count_tot <= 1000:\n",
    "        Maha['rating_count_tot_category'].append('-1 to 1k')\n",
    "    elif rating_count_tot <= 10000:\n",
    "        Maha['rating_count_tot_category'].append('1k to 10k')\n",
    "    elif rating_count_tot <= 100000:\n",
    "        Maha['rating_count_tot_category'].append('10k to 100k')\n",
    "    elif rating_count_tot <= 500000:\n",
    "        Maha['rating_count_tot_category'].append('100k to 500k') \n",
    "    elif rating_count_tot <= 1000000:\n",
    "        Maha['rating_count_tot_category'].append('500k to 1000k')    \n",
    "    elif rating_count_tot > 1000000:\n",
    "        Maha['rating_count_tot_category'].append('above 1000k')\n",
    "\n",
    "for i in range(0,31):\n",
    "    print(Maha['price'][i],\" \",Maha['price_category'][i],\" \",Maha['rating_count_tot'][i],\" \",Maha['rating_count_tot_category'][i])"
   ]
  },
  {
   "cell_type": "code",
   "execution_count": 44,
   "id": "ef86852a",
   "metadata": {},
   "outputs": [
    {
     "name": "stdout",
     "output_type": "stream",
     "text": [
      "{'id': set(), 'track_name': set(), 'size_bytes': set(), 'currency': set(), 'price': set(), 'rating_count_tot': set(), 'rating_count_ver': set(), 'user_rating': set(), 'user_rating_ver': set(), 'ver': set(), 'cont_rating': set(), 'prime_genre': set(), 'sup_devices.num': set(), 'ipadSc_urls.num': set(), 'lang.num': set(), 'vpp_lic': set()}\n"
     ]
    }
   ],
   "source": [
    "Maha_2 = {}\n",
    "\n",
    "for i in store[0]:\n",
    "    Maha_2[i] = set()\n",
    "    \n",
    "\n",
    "print(Maha_2)    "
   ]
  },
  {
   "cell_type": "code",
   "execution_count": 52,
   "id": "a0c26dc4",
   "metadata": {},
   "outputs": [
    {
     "name": "stdout",
     "output_type": "stream",
     "text": [
      "{'Food & Drink', 'News', 'Utilities', 'Weather', 'Lifestyle', 'Social Networking', 'Games', 'Music', 'Education', 'Navigation', 'Business', 'Sports', 'Medical', 'Health & Fitness', 'Shopping', 'Reference', 'Photo & Video', 'Travel', 'Finance', 'Productivity', 'Entertainment', 'Book', 'Catalogs'}\n"
     ]
    }
   ],
   "source": [
    "Maha_2 = {}\n",
    "\n",
    "for i in store[0]:\n",
    "    Maha_2[i] = set()\n",
    "\n",
    "for i in range(1,7198):\n",
    "    Maha_2[store[0][11]].add(store[i][11])\n",
    "    \n",
    "print(Maha_2[store[0][11]])\n",
    "\n"
   ]
  },
  {
   "cell_type": "code",
   "execution_count": 55,
   "id": "9da131ed",
   "metadata": {},
   "outputs": [],
   "source": [
    "set_2 = {1,2,3,4,5,6,2,1}"
   ]
  },
  {
   "cell_type": "code",
   "execution_count": 59,
   "id": "40d93d57",
   "metadata": {},
   "outputs": [
    {
     "data": {
      "text/plain": [
       "{1, 2, 3, 4, 5, 6}"
      ]
     },
     "execution_count": 59,
     "metadata": {},
     "output_type": "execute_result"
    }
   ],
   "source": [
    "set_2.union()\n"
   ]
  },
  {
   "cell_type": "code",
   "execution_count": 60,
   "id": "afc02b88",
   "metadata": {},
   "outputs": [
    {
     "ename": "NameError",
     "evalue": "name 'id1' is not defined",
     "output_type": "error",
     "traceback": [
      "\u001b[1;31m---------------------------------------------------------------------------\u001b[0m",
      "\u001b[1;31mNameError\u001b[0m                                 Traceback (most recent call last)",
      "Cell \u001b[1;32mIn[60], line 2\u001b[0m\n\u001b[0;32m      1\u001b[0m \u001b[38;5;28;01mfor\u001b[39;00m i \u001b[38;5;129;01min\u001b[39;00m \u001b[38;5;241m11\u001b[39m,\u001b[38;5;241m12\u001b[39m,\u001b[38;5;241m13\u001b[39m:\n\u001b[1;32m----> 2\u001b[0m     id1[\u001b[38;5;124m\"\u001b[39m\u001b[38;5;124ml\u001b[39m\u001b[38;5;124m\"\u001b[39m]\u001b[38;5;241m.\u001b[39mappend\n\u001b[0;32m      3\u001b[0m \u001b[38;5;28mprint\u001b[39m(id1)\n",
      "\u001b[1;31mNameError\u001b[0m: name 'id1' is not defined"
     ]
    }
   ],
   "source": [
    "for i in 11,12,13:\n",
    "    id1[\"l\"].append\n",
    "print(id1)    "
   ]
  }
 ],
 "metadata": {
  "kernelspec": {
   "display_name": "Python 3 (ipykernel)",
   "language": "python",
   "name": "python3"
  },
  "language_info": {
   "codemirror_mode": {
    "name": "ipython",
    "version": 3
   },
   "file_extension": ".py",
   "mimetype": "text/x-python",
   "name": "python",
   "nbconvert_exporter": "python",
   "pygments_lexer": "ipython3",
   "version": "3.11.5"
  }
 },
 "nbformat": 4,
 "nbformat_minor": 5
}
