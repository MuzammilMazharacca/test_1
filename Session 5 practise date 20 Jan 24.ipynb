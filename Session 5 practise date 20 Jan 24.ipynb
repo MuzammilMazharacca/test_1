{
 "cells": [
  {
   "cell_type": "code",
   "execution_count": null,
   "id": "25263a5e",
   "metadata": {},
   "outputs": [],
   "source": [
    "a=33 \n",
    "b=200\n",
    "\n",
    "if b>a:\n",
    "    print(\"b is greater than a\")"
   ]
  },
  {
   "cell_type": "code",
   "execution_count": null,
   "id": "efbfb0dc",
   "metadata": {},
   "outputs": [],
   "source": [
    "a=33\n",
    "b=33\n",
    "if b>a:\n",
    "    print(\"b is greater than a\")\n",
    "elif a==b:\n",
    "    print(\"a and b are equal\")\n",
    "    "
   ]
  },
  {
   "cell_type": "code",
   "execution_count": null,
   "id": "9e3a6e6a",
   "metadata": {},
   "outputs": [],
   "source": [
    "a = 200\n",
    "b = 33\n",
    "if b>a:\n",
    "    print(\"b is greater than a\")\n",
    "elif a==b:\n",
    "    print(\"a and b are equal\")\n",
    "else:\n",
    "    print(\"a is greater than b\")"
   ]
  },
  {
   "cell_type": "code",
   "execution_count": null,
   "id": "0d905d2b",
   "metadata": {},
   "outputs": [],
   "source": [
    "x=15\n",
    "if x>10:\n",
    "    print(\"Above ten,\")\n",
    "if x>20:\n",
    "    print(\"Also Above 20!\")\n",
    "else:\n",
    "    print(\"but not above 20.\")\n",
    "    \n",
    "    "
   ]
  },
  {
   "cell_type": "code",
   "execution_count": null,
   "id": "5e3075e3",
   "metadata": {},
   "outputs": [],
   "source": [
    "friuts=[\"apple\",\"banana\",\"cherry\"]\n"
   ]
  },
  {
   "cell_type": "code",
   "execution_count": null,
   "id": "4b840b79",
   "metadata": {},
   "outputs": [],
   "source": [
    "for x in friuts:\n",
    "    print(x)"
   ]
  },
  {
   "cell_type": "code",
   "execution_count": null,
   "id": "06957e71",
   "metadata": {},
   "outputs": [],
   "source": [
    "for x in friuts[1]: # or for x in \"banana\"\n",
    "    print(x)"
   ]
  },
  {
   "cell_type": "code",
   "execution_count": null,
   "id": "efedc1f5",
   "metadata": {},
   "outputs": [],
   "source": [
    "for x in \"banana\":\n",
    "    print(x)\n",
    "\n",
    "else:\n",
    "    print(\"finally finished!\")"
   ]
  },
  {
   "cell_type": "code",
   "execution_count": null,
   "id": "0268b944",
   "metadata": {},
   "outputs": [],
   "source": [
    "for x in range(6):  # range function starts from zero therefore if range is 6 total 0 to 5 will reutrn.\n",
    "    print(x)\n",
    "    \n",
    "else:\n",
    "    print(\"finally finished!\")"
   ]
  },
  {
   "cell_type": "code",
   "execution_count": null,
   "id": "14980edd",
   "metadata": {},
   "outputs": [],
   "source": [
    "adj=[\"red\",\"big\",\"tasty\"]"
   ]
  },
  {
   "cell_type": "code",
   "execution_count": null,
   "id": "bfd2fff3",
   "metadata": {},
   "outputs": [],
   "source": [
    "for x in adj:\n",
    "    for y in friuts:\n",
    "        print(x,y)"
   ]
  },
  {
   "cell_type": "code",
   "execution_count": null,
   "id": "094025c8",
   "metadata": {},
   "outputs": [],
   "source": [
    "i=2\n",
    "while i<22:\n",
    "    print(i)\n",
    "    i+=2\n",
    "    "
   ]
  },
  {
   "cell_type": "code",
   "execution_count": null,
   "id": "6f5ecbc3",
   "metadata": {},
   "outputs": [],
   "source": [
    "i=1\n",
    "while i <= 10:\n",
    "    print(i)\n",
    "    i+=1\n",
    "else:\n",
    "    print(\"finally finished!\")"
   ]
  },
  {
   "cell_type": "code",
   "execution_count": null,
   "id": "b235d970",
   "metadata": {},
   "outputs": [],
   "source": [
    "i=1\n",
    "while i <= 10:\n",
    "    if i == 3:\n",
    "        continue\n",
    "    print(i)\n",
    "    i+=1\n",
    "        \n",
    "     \n",
    "    "
   ]
  },
  {
   "cell_type": "code",
   "execution_count": null,
   "id": "122238cf",
   "metadata": {},
   "outputs": [],
   "source": [
    "import csv"
   ]
  },
  {
   "cell_type": "code",
   "execution_count": null,
   "id": "83e06fae",
   "metadata": {},
   "outputs": [],
   "source": [
    "f = open(\"store.csv\")"
   ]
  },
  {
   "cell_type": "code",
   "execution_count": null,
   "id": "d052da75",
   "metadata": {},
   "outputs": [],
   "source": [
    "f"
   ]
  },
  {
   "cell_type": "code",
   "execution_count": null,
   "id": "bda8888a",
   "metadata": {},
   "outputs": [],
   "source": [
    "dir(csv)"
   ]
  },
  {
   "cell_type": "code",
   "execution_count": null,
   "id": "ea384a69",
   "metadata": {},
   "outputs": [],
   "source": [
    "read = csv.reader(f)"
   ]
  },
  {
   "cell_type": "code",
   "execution_count": null,
   "id": "34485c52",
   "metadata": {},
   "outputs": [],
   "source": [
    "read"
   ]
  },
  {
   "cell_type": "code",
   "execution_count": null,
   "id": "1058c458",
   "metadata": {},
   "outputs": [],
   "source": [
    "store = list(read)"
   ]
  },
  {
   "cell_type": "code",
   "execution_count": null,
   "id": "e4bd927d",
   "metadata": {},
   "outputs": [],
   "source": [
    "f=open(\"Store.csv\",encoding=\"UTF-8\") # Latin-1, windows=1251\n",
    "read=csv.reader(f)\n",
    "store=list(read)"
   ]
  },
  {
   "cell_type": "code",
   "execution_count": null,
   "id": "47b61d79",
   "metadata": {},
   "outputs": [],
   "source": [
    "type(store)"
   ]
  },
  {
   "cell_type": "code",
   "execution_count": null,
   "id": "b8112664",
   "metadata": {},
   "outputs": [],
   "source": [
    "len(store)"
   ]
  },
  {
   "cell_type": "code",
   "execution_count": null,
   "id": "6f2b631c",
   "metadata": {},
   "outputs": [],
   "source": [
    "print(store[0])"
   ]
  },
  {
   "cell_type": "code",
   "execution_count": null,
   "id": "490f7680",
   "metadata": {},
   "outputs": [],
   "source": [
    "store[-1]"
   ]
  },
  {
   "cell_type": "code",
   "execution_count": null,
   "id": "294e6044",
   "metadata": {},
   "outputs": [],
   "source": [
    "store[0].index(\"user_rating\")"
   ]
  },
  {
   "cell_type": "code",
   "execution_count": null,
   "id": "4f77e588",
   "metadata": {},
   "outputs": [],
   "source": [
    "for row in store[1:6]:\n",
    "    ratings = row[7]\n",
    "    print(ratings)"
   ]
  },
  {
   "cell_type": "code",
   "execution_count": null,
   "id": "6a978fc5",
   "metadata": {},
   "outputs": [],
   "source": [
    "for row in store[0:6]: # row wise looping from row 1 to 6 in csv file \n",
    "    ratings = row[7]   # for every row from 1 to 6 each time consier only item 7\n",
    "    print(ratings)    # than print item 7   "
   ]
  },
  {
   "cell_type": "code",
   "execution_count": null,
   "id": "94a2bfb8",
   "metadata": {},
   "outputs": [],
   "source": [
    "print(store[1][7] + store[2][7])"
   ]
  },
  {
   "cell_type": "code",
   "execution_count": null,
   "id": "ead915e2",
   "metadata": {},
   "outputs": [],
   "source": [
    "for row in store[1:6]:\n",
    "    ratings = row[7]\n",
    "    print(type(ratings))"
   ]
  },
  {
   "cell_type": "code",
   "execution_count": null,
   "id": "bbec4178",
   "metadata": {},
   "outputs": [],
   "source": [
    "int(\"4.5\")"
   ]
  },
  {
   "cell_type": "code",
   "execution_count": null,
   "id": "a407a7b7",
   "metadata": {},
   "outputs": [],
   "source": [
    "sum_ratings = 0\n",
    "\n",
    "for row in store[1:]:\n",
    "    rating = float(row[7])\n",
    "    sum_ratings+=rating"
   ]
  },
  {
   "cell_type": "code",
   "execution_count": null,
   "id": "fc38a975",
   "metadata": {},
   "outputs": [],
   "source": [
    "sum_ratings"
   ]
  },
  {
   "cell_type": "code",
   "execution_count": null,
   "id": "8af38457",
   "metadata": {},
   "outputs": [],
   "source": [
    "total_user_rating_ver = 0\n",
    "\n",
    "for row in store[1:]:\n",
    "    ratings = float(row[8])\n",
    "    total_user_rating_ver+=ratings"
   ]
  },
  {
   "cell_type": "code",
   "execution_count": null,
   "id": "7f749785",
   "metadata": {},
   "outputs": [],
   "source": [
    "total_user_rating_ver = int(total_user_rating_ver)\n",
    "total_user_rating_ver"
   ]
  },
  {
   "cell_type": "markdown",
   "id": "569c1eb4",
   "metadata": {},
   "source": [
    "# Logical Operators Sequence\n",
    "\n",
    "* Not\n",
    "* And\n",
    "* OR"
   ]
  },
  {
   "cell_type": "code",
   "execution_count": null,
   "id": "989536cc",
   "metadata": {},
   "outputs": [],
   "source": [
    "count = 0\n",
    "for i in store[1:]:\n",
    "    price = i[4]\n",
    "    rating = i[7]\n",
    "    print(price,type(price))\n",
    "    count+=1\n",
    "    if count == 10:\n",
    "        break"
   ]
  },
  {
   "cell_type": "code",
   "execution_count": null,
   "id": "208b2bdd",
   "metadata": {},
   "outputs": [],
   "source": [
    "0.0==\"0.0\""
   ]
  },
  {
   "cell_type": "code",
   "execution_count": null,
   "id": "f39a9d2a",
   "metadata": {},
   "outputs": [],
   "source": [
    "freeapp_total_ratings = 0\n",
    "\n",
    "for row in store[1:]:\n",
    "    \n",
    "    price = row[4] # coloumn 5\n",
    "    rating = row[7] # coloumn 8\n",
    "    if price == \"0.0\":\n",
    "        freeapp_total_ratings += float(rating)"
   ]
  },
  {
   "cell_type": "code",
   "execution_count": null,
   "id": "a5642006",
   "metadata": {},
   "outputs": [],
   "source": [
    "freeapp_total_ratings"
   ]
  },
  {
   "cell_type": "code",
   "execution_count": null,
   "id": "da70ec85",
   "metadata": {},
   "outputs": [],
   "source": [
    "freeapp_ratings = []\n",
    "\n",
    "for row in store[1:]:\n",
    "    price = row[4]\n",
    "    rating = row[7]\n",
    "    if price == \"0.0\":\n",
    "        freeapp_ratings.append(float(rating))"
   ]
  },
  {
   "cell_type": "code",
   "execution_count": null,
   "id": "37007984",
   "metadata": {},
   "outputs": [],
   "source": [
    "len(freeapp_ratings)"
   ]
  },
  {
   "cell_type": "code",
   "execution_count": null,
   "id": "9238e783",
   "metadata": {},
   "outputs": [],
   "source": [
    "sum(freeapp_ratings)"
   ]
  },
  {
   "cell_type": "code",
   "execution_count": null,
   "id": "34d90353",
   "metadata": {},
   "outputs": [],
   "source": [
    "True and False or True"
   ]
  },
  {
   "cell_type": "code",
   "execution_count": null,
   "id": "f40f8463",
   "metadata": {},
   "outputs": [],
   "source": [
    "if True and False:\n",
    "    print(\"ok\")"
   ]
  },
  {
   "cell_type": "code",
   "execution_count": null,
   "id": "1f29b5ca",
   "metadata": {},
   "outputs": [],
   "source": [
    "if True or False:\n",
    "    print(\"ok\")"
   ]
  },
  {
   "cell_type": "code",
   "execution_count": null,
   "id": "a057ad82",
   "metadata": {},
   "outputs": [],
   "source": [
    "free_game_app_total_ratings = 0\n",
    "\n",
    "for row in store[1:]:\n",
    "    \n",
    "    price = row[4]\n",
    "    rating = row[7]\n",
    "    genre = row[-5]\n",
    "    if price == \"0.0\" and genre == \"Games\":\n",
    "        free_game_app_total_ratings += float(rating)\n",
    "       \n",
    "    \n",
    "    "
   ]
  },
  {
   "cell_type": "code",
   "execution_count": null,
   "id": "2b7e475f",
   "metadata": {},
   "outputs": [],
   "source": [
    "free_game_app_total_ratings"
   ]
  },
  {
   "cell_type": "code",
   "execution_count": null,
   "id": "1b5d7757",
   "metadata": {},
   "outputs": [],
   "source": [
    "ree_game_app_total_ratings = 0\n",
    "\n",
    "for row in store[1:]:\n",
    "    \n",
    "    price = row[4]\n",
    "    rating = row[7]\n",
    "    genre = row[-5]\n",
    "    if price == \"0.0\" and (genre == \"Games\" or genre == \"Social Netorking\"):\n",
    "        free_game_app_total_ratings += float(rating)\n",
    "       "
   ]
  },
  {
   "cell_type": "code",
   "execution_count": null,
   "id": "c2f0ab85",
   "metadata": {},
   "outputs": [],
   "source": [
    "free_game_app_total_ratings"
   ]
  }
 ],
 "metadata": {
  "kernelspec": {
   "display_name": "Python 3 (ipykernel)",
   "language": "python",
   "name": "python3"
  },
  "language_info": {
   "codemirror_mode": {
    "name": "ipython",
    "version": 3
   },
   "file_extension": ".py",
   "mimetype": "text/x-python",
   "name": "python",
   "nbconvert_exporter": "python",
   "pygments_lexer": "ipython3",
   "version": "3.11.5"
  }
 },
 "nbformat": 4,
 "nbformat_minor": 5
}
